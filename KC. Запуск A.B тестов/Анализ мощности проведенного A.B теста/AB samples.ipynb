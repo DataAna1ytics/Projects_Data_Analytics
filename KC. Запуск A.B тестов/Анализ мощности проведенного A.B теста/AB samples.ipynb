{
 "cells": [
  {
   "cell_type": "code",
   "execution_count": 27,
   "metadata": {},
   "outputs": [],
   "source": [
    "# импортируем библиотеки\n",
    "import pandas as pd\n",
    "import numpy as np\n",
    "from scipy import stats\n",
    "from statsmodels.stats.power import TTestIndPower\n",
    "from read_db.CH import Getch"
   ]
  },
  {
   "cell_type": "code",
   "execution_count": 28,
   "metadata": {},
   "outputs": [],
   "source": [
    "# импортируем данные за период с 29.11 по 05.12\n",
    "data = Getch(\"select user_id, exp_group, \\\n",
    "countIf(action = 'view') as views, \\\n",
    "countIf(action = 'like') as likes, \\\n",
    "likes / views as ctr \\\n",
    "from simulator.feed_actions \\\n",
    "where toDate(time) >= '2021-11-29' and toDate(time) <= '2021-12-05' and \\\n",
    "exp_group in (0, 1) \\\n",
    "group by user_id, exp_group\").df"
   ]
  },
  {
   "cell_type": "code",
   "execution_count": 29,
   "metadata": {},
   "outputs": [
    {
     "data": {
      "text/html": [
       "<div>\n",
       "<style scoped>\n",
       "    .dataframe tbody tr th:only-of-type {\n",
       "        vertical-align: middle;\n",
       "    }\n",
       "\n",
       "    .dataframe tbody tr th {\n",
       "        vertical-align: top;\n",
       "    }\n",
       "\n",
       "    .dataframe thead th {\n",
       "        text-align: right;\n",
       "    }\n",
       "</style>\n",
       "<table border=\"1\" class=\"dataframe\">\n",
       "  <thead>\n",
       "    <tr style=\"text-align: right;\">\n",
       "      <th></th>\n",
       "      <th>user_id</th>\n",
       "      <th>exp_group</th>\n",
       "      <th>views</th>\n",
       "      <th>likes</th>\n",
       "      <th>ctr</th>\n",
       "    </tr>\n",
       "  </thead>\n",
       "  <tbody>\n",
       "    <tr>\n",
       "      <th>0</th>\n",
       "      <td>26117</td>\n",
       "      <td>1</td>\n",
       "      <td>21</td>\n",
       "      <td>5</td>\n",
       "      <td>0.238095</td>\n",
       "    </tr>\n",
       "    <tr>\n",
       "      <th>1</th>\n",
       "      <td>138232</td>\n",
       "      <td>1</td>\n",
       "      <td>29</td>\n",
       "      <td>5</td>\n",
       "      <td>0.172414</td>\n",
       "    </tr>\n",
       "    <tr>\n",
       "      <th>2</th>\n",
       "      <td>49204</td>\n",
       "      <td>1</td>\n",
       "      <td>62</td>\n",
       "      <td>10</td>\n",
       "      <td>0.161290</td>\n",
       "    </tr>\n",
       "    <tr>\n",
       "      <th>3</th>\n",
       "      <td>49286</td>\n",
       "      <td>1</td>\n",
       "      <td>19</td>\n",
       "      <td>7</td>\n",
       "      <td>0.368421</td>\n",
       "    </tr>\n",
       "    <tr>\n",
       "      <th>4</th>\n",
       "      <td>145957</td>\n",
       "      <td>1</td>\n",
       "      <td>129</td>\n",
       "      <td>54</td>\n",
       "      <td>0.418605</td>\n",
       "    </tr>\n",
       "  </tbody>\n",
       "</table>\n",
       "</div>"
      ],
      "text/plain": [
       "   user_id  exp_group  views  likes       ctr\n",
       "0    26117          1     21      5  0.238095\n",
       "1   138232          1     29      5  0.172414\n",
       "2    49204          1     62     10  0.161290\n",
       "3    49286          1     19      7  0.368421\n",
       "4   145957          1    129     54  0.418605"
      ]
     },
     "execution_count": 29,
     "metadata": {},
     "output_type": "execute_result"
    }
   ],
   "source": [
    "data.head()"
   ]
  },
  {
   "cell_type": "code",
   "execution_count": 30,
   "metadata": {},
   "outputs": [
    {
     "data": {
      "text/plain": [
       "(0.22195492956578272, 0.23648646948093194)"
      ]
     },
     "execution_count": 30,
     "metadata": {},
     "output_type": "execute_result"
    }
   ],
   "source": [
    "mu_control = data[data.exp_group == 0].ctr.mean() # среднее значение ctr в контрольной группе\n",
    "mu_experiment = data[data.exp_group == 1].ctr.mean() # среднее значение ctr в экспериментальной группе\n",
    "mu_control, mu_experiment"
   ]
  },
  {
   "cell_type": "code",
   "execution_count": 31,
   "metadata": {},
   "outputs": [
    {
     "data": {
      "text/plain": [
       "(0.08787038294959033, 0.09014644584020075)"
      ]
     },
     "execution_count": 31,
     "metadata": {},
     "output_type": "execute_result"
    }
   ],
   "source": [
    "sigma_control = data[data.exp_group == 0].ctr.std() # стандартное октлонение в контрольной группе\n",
    "sigma_experiment = data[data.exp_group == 1].ctr.std() # стандартное отклонение в экспериментальной группе\n",
    "sigma_control, sigma_experiment"
   ]
  },
  {
   "cell_type": "code",
   "execution_count": 32,
   "metadata": {},
   "outputs": [
    {
     "name": "stdout",
     "output_type": "stream",
     "text": [
      "Размер эффекта в проведенном АB/тесте = 0.16\n"
     ]
    }
   ],
   "source": [
    "# посчитаем, чему оказался размера эффекта в проведенном A/B тесте\n",
    "effect_data_test = (mu_experiment - mu_control) / ((sigma_control**2 + sigma_experiment**2) / 2) ** 0.5\n",
    "print('Размер эффекта в проведенном АB/тесте = {0}'.format(round(effect_data_test,2) ))"
   ]
  },
  {
   "cell_type": "code",
   "execution_count": 33,
   "metadata": {},
   "outputs": [
    {
     "name": "stdout",
     "output_type": "stream",
     "text": [
      "Размер выборки (при условиях: мощность = 0.8, размер эффекта = 0.3) составляет 175.385 пользователей\n"
     ]
    }
   ],
   "source": [
    "# посмотрим, какой необходимый размер выборки нам потребуется в дальнейшем, если мы:\n",
    "# 1. Хотим использовать t-test для сравнения CTR по юзерам.\n",
    "# 2. Ожидаем, что размер эффекта равен 0.3.\n",
    "# 3. Хотим, чтобы мощность теста равнялась 0.8.\n",
    "alpha = 0.05\n",
    "power = 0.8\n",
    "effect = 0.3\n",
    "analysis = TTestIndPower()\n",
    "result = analysis.solve_power(effect, power = power, nobs1 = None, alpha = alpha)\n",
    "print('Размер выборки (при условиях: мощность = {0}, размер эффекта = {1}) составляет {2} пользователей'.format(power, round(effect,3), round(result,3) ))"
   ]
  },
  {
   "cell_type": "code",
   "execution_count": 34,
   "metadata": {},
   "outputs": [
    {
     "name": "stdout",
     "output_type": "stream",
     "text": [
      "Размер выборки, необходимый для проведенного нами АB-теста (при условиях: мощность = 0.8, размер эффекта = 0.16) составляет 590.004 пользователей\n"
     ]
    }
   ],
   "source": [
    "# посмотрим, каким должен быть размер выборки для проведенного нами A/B теста при сохранении мощности = 0.8\n",
    "alpha = 0.05\n",
    "power = 0.8\n",
    "effect = effect_data_test\n",
    "analysis = TTestIndPower()\n",
    "result_test = analysis.solve_power(effect, power = power, nobs1 = None, alpha = alpha)\n",
    "print('Размер выборки, необходимый для проведенного нами АB-теста (при условиях: мощность = {0}, размер эффекта = {1}) составляет {2} пользователей'.format(power, round(effect,2), round(result_test,3) ))"
   ]
  },
  {
   "cell_type": "markdown",
   "metadata": {},
   "source": [
    "### Вывод\n",
    "- Размер эффекта в проведенном A/B тесте - 0.16;\n",
    "- Минимальный размер выборки, для проведенного нами A/B теста - 590 пользователей, если хотим сохранить текущую мощность теста в 0.8."
   ]
  }
 ],
 "metadata": {
  "kernelspec": {
   "display_name": "Python 3",
   "language": "python",
   "name": "python3"
  },
  "language_info": {
   "codemirror_mode": {
    "name": "ipython",
    "version": 3
   },
   "file_extension": ".py",
   "mimetype": "text/x-python",
   "name": "python",
   "nbconvert_exporter": "python",
   "pygments_lexer": "ipython3",
   "version": "3.7.6"
  }
 },
 "nbformat": 4,
 "nbformat_minor": 5
}
