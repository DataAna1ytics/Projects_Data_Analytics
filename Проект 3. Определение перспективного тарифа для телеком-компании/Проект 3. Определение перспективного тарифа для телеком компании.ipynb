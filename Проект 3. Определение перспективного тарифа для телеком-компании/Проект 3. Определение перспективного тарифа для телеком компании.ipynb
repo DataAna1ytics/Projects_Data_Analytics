{
 "cells": [
  {
   "cell_type": "markdown",
   "metadata": {},
   "source": [
    "## Определение перспективного тарифа для телеком компании"
   ]
  },
  {
   "cell_type": "markdown",
   "metadata": {},
   "source": [
    "### Описание проекта\n",
    "Вы аналитик компании «Мегалайн» — федерального оператора сотовой связи. Клиентам предлагают два тарифных плана: «Смарт» и «Ультра». Чтобы скорректировать рекламный бюджет, коммерческий департамент хочет понять, какой тариф приносит больше денег.\n",
    "Вам предстоит сделать предварительный анализ тарифов на небольшой выборке клиентов.\n",
    "\n",
    "В вашем распоряжении данные 500 пользователей «Мегалайна»: кто они, откуда, каким тарифом пользуются, сколько звонков и сообщений каждый отправил за 2018 год. Нужно проанализировать поведение клиентов и сделать вывод — какой тариф лучше."
   ]
  },
  {
   "cell_type": "markdown",
   "metadata": {},
   "source": [
    "---\n",
    "\n",
    "### <a id=\"stepend\"> Оглавление</a>\n",
    "\n",
    "- [Импорт библиотек, данных и получение первичной информации](#step1)\n",
    "- [Предобработка данных](#step2)\n",
    "- [Дополнительные вычисления](#step3)\n",
    "- [Исследовательский анализ данных](#step4)\n",
    "- [Проверка гипотез](#step5)\n",
    "- [Общий вывод](#step6)\n",
    "\n",
    "---"
   ]
  },
  {
   "cell_type": "markdown",
   "metadata": {},
   "source": [
    "### План исследования\n",
    "- Привести данные, где необходимо, к нужным типам;\n",
    "- Найти и исправить ошибки в данных.\n",
    "\n",
    "---\n",
    "\n",
    "- Проанализировать, сколько минут разговора, сообщений и интернет-трафика требуется пользователям каждого тарифного плана в месяц;\n",
    "- Посчитать среднее, дисперсию и стандартное отклонение;\n",
    "- Построить гистограммы и описать распределения.\n",
    "\n",
    "---\n",
    "\n",
    "- Проверить гипотезу \"средняя выручка пользователей тарифов «Ультра» и «Смарт» различается\";\n",
    "- Проверить гипотезу \"средняя выручка пользователей из Москвы отличается от выручки пользователей из других регионов\".\n",
    "\n",
    "---\n",
    "\n",
    "- Написать общий вывод."
   ]
  },
  {
   "cell_type": "markdown",
   "metadata": {},
   "source": [
    "### <a id='step1'>Импорт библиотек, данных и получение первичной информации</a>"
   ]
  },
  {
   "cell_type": "code",
   "execution_count": 1,
   "metadata": {},
   "outputs": [],
   "source": [
    "# импортируем необходимые библиотеки\n",
    "import pandas as pd\n",
    "import numpy as np\n",
    "import matplotlib.pyplot as plt\n",
    "import seaborn as sns\n",
    "from scipy import stats as st\n",
    "from math import factorial"
   ]
  },
  {
   "cell_type": "code",
   "execution_count": 2,
   "metadata": {},
   "outputs": [],
   "source": [
    "# импортируем датасет calls\n",
    "calls = pd.read_csv('C:/Users/sokol/OneDrive/Рабочий стол/portfolio/yandexp/Определение перспективного тарифа для телеком-компании/calls.csv')"
   ]
  },
  {
   "cell_type": "code",
   "execution_count": 3,
   "metadata": {},
   "outputs": [
    {
     "name": "stdout",
     "output_type": "stream",
     "text": [
      "<class 'pandas.core.frame.DataFrame'>\n",
      "RangeIndex: 202607 entries, 0 to 202606\n",
      "Data columns (total 4 columns):\n",
      " #   Column     Non-Null Count   Dtype  \n",
      "---  ------     --------------   -----  \n",
      " 0   id         202607 non-null  object \n",
      " 1   call_date  202607 non-null  object \n",
      " 2   duration   202607 non-null  float64\n",
      " 3   user_id    202607 non-null  int64  \n",
      "dtypes: float64(1), int64(1), object(2)\n",
      "memory usage: 6.2+ MB\n"
     ]
    }
   ],
   "source": [
    "# первичное представление о данных\n",
    "calls.info()"
   ]
  },
  {
   "cell_type": "code",
   "execution_count": 4,
   "metadata": {},
   "outputs": [
    {
     "data": {
      "text/html": [
       "<div>\n",
       "<style scoped>\n",
       "    .dataframe tbody tr th:only-of-type {\n",
       "        vertical-align: middle;\n",
       "    }\n",
       "\n",
       "    .dataframe tbody tr th {\n",
       "        vertical-align: top;\n",
       "    }\n",
       "\n",
       "    .dataframe thead th {\n",
       "        text-align: right;\n",
       "    }\n",
       "</style>\n",
       "<table border=\"1\" class=\"dataframe\">\n",
       "  <thead>\n",
       "    <tr style=\"text-align: right;\">\n",
       "      <th></th>\n",
       "      <th>id</th>\n",
       "      <th>call_date</th>\n",
       "      <th>duration</th>\n",
       "      <th>user_id</th>\n",
       "    </tr>\n",
       "  </thead>\n",
       "  <tbody>\n",
       "    <tr>\n",
       "      <th>0</th>\n",
       "      <td>1000_0</td>\n",
       "      <td>2018-07-25</td>\n",
       "      <td>0.00</td>\n",
       "      <td>1000</td>\n",
       "    </tr>\n",
       "    <tr>\n",
       "      <th>1</th>\n",
       "      <td>1000_1</td>\n",
       "      <td>2018-08-17</td>\n",
       "      <td>0.00</td>\n",
       "      <td>1000</td>\n",
       "    </tr>\n",
       "    <tr>\n",
       "      <th>2</th>\n",
       "      <td>1000_2</td>\n",
       "      <td>2018-06-11</td>\n",
       "      <td>2.85</td>\n",
       "      <td>1000</td>\n",
       "    </tr>\n",
       "    <tr>\n",
       "      <th>3</th>\n",
       "      <td>1000_3</td>\n",
       "      <td>2018-09-21</td>\n",
       "      <td>13.80</td>\n",
       "      <td>1000</td>\n",
       "    </tr>\n",
       "    <tr>\n",
       "      <th>4</th>\n",
       "      <td>1000_4</td>\n",
       "      <td>2018-12-15</td>\n",
       "      <td>5.18</td>\n",
       "      <td>1000</td>\n",
       "    </tr>\n",
       "  </tbody>\n",
       "</table>\n",
       "</div>"
      ],
      "text/plain": [
       "       id   call_date  duration  user_id\n",
       "0  1000_0  2018-07-25      0.00     1000\n",
       "1  1000_1  2018-08-17      0.00     1000\n",
       "2  1000_2  2018-06-11      2.85     1000\n",
       "3  1000_3  2018-09-21     13.80     1000\n",
       "4  1000_4  2018-12-15      5.18     1000"
      ]
     },
     "execution_count": 4,
     "metadata": {},
     "output_type": "execute_result"
    }
   ],
   "source": [
    "# первые 5 строк\n",
    "calls.head()"
   ]
  },
  {
   "cell_type": "code",
   "execution_count": 5,
   "metadata": {},
   "outputs": [
    {
     "name": "stdout",
     "output_type": "stream",
     "text": [
      "1041_1      1\n",
      "1081_496    1\n",
      "1323_131    1\n",
      "1109_320    1\n",
      "1345_27     1\n",
      "           ..\n",
      "1150_47     1\n",
      "1154_99     1\n",
      "1093_503    1\n",
      "1006_378    1\n",
      "1465_201    1\n",
      "Name: id, Length: 202607, dtype: int64\n",
      "2018-12-31    1435\n",
      "2018-12-29    1202\n",
      "2018-12-30    1192\n",
      "2018-12-22    1158\n",
      "2018-12-26    1149\n",
      "              ... \n",
      "2018-01-05      20\n",
      "2018-01-07      18\n",
      "2018-01-02       9\n",
      "2018-01-03       7\n",
      "2018-01-01       5\n",
      "Name: call_date, Length: 365, dtype: int64\n",
      "0.00     39613\n",
      "4.49       142\n",
      "5.50       142\n",
      "6.15       141\n",
      "6.38       141\n",
      "         ...  \n",
      "27.02        1\n",
      "26.19        1\n",
      "25.34        1\n",
      "27.13        1\n",
      "24.28        1\n",
      "Name: duration, Length: 2871, dtype: int64\n",
      "1377    1760\n",
      "1168    1692\n",
      "1375    1560\n",
      "1453    1440\n",
      "1196    1240\n",
      "        ... \n",
      "1397      33\n",
      "1442      28\n",
      "1373      24\n",
      "1016      20\n",
      "1257      14\n",
      "Name: user_id, Length: 492, dtype: int64\n"
     ]
    }
   ],
   "source": [
    "# проверим датасет на уникальные значения\n",
    "for column in calls.columns:\n",
    "    print(calls[column].value_counts())"
   ]
  },
  {
   "cell_type": "code",
   "execution_count": 6,
   "metadata": {},
   "outputs": [
    {
     "data": {
      "text/plain": [
       "id           0\n",
       "call_date    0\n",
       "duration     0\n",
       "user_id      0\n",
       "dtype: int64"
      ]
     },
     "execution_count": 6,
     "metadata": {},
     "output_type": "execute_result"
    }
   ],
   "source": [
    "# проверим датасет на наличие пропущенных значений\n",
    "calls.isna().sum()"
   ]
  },
  {
   "cell_type": "code",
   "execution_count": 7,
   "metadata": {},
   "outputs": [
    {
     "data": {
      "text/plain": [
       "0"
      ]
     },
     "execution_count": 7,
     "metadata": {},
     "output_type": "execute_result"
    }
   ],
   "source": [
    "# проверим на наличие дубликатов\n",
    "calls.duplicated().sum()"
   ]
  },
  {
   "cell_type": "code",
   "execution_count": 8,
   "metadata": {},
   "outputs": [],
   "source": [
    "# импортируем датасет internet\n",
    "internet = pd.read_csv('C:/Users/sokol/OneDrive/Рабочий стол/portfolio/yandexp/Определение перспективного тарифа для телеком-компании/internet.csv')"
   ]
  },
  {
   "cell_type": "code",
   "execution_count": 9,
   "metadata": {},
   "outputs": [
    {
     "name": "stdout",
     "output_type": "stream",
     "text": [
      "<class 'pandas.core.frame.DataFrame'>\n",
      "RangeIndex: 149396 entries, 0 to 149395\n",
      "Data columns (total 5 columns):\n",
      " #   Column        Non-Null Count   Dtype  \n",
      "---  ------        --------------   -----  \n",
      " 0   Unnamed: 0    149396 non-null  int64  \n",
      " 1   id            149396 non-null  object \n",
      " 2   mb_used       149396 non-null  float64\n",
      " 3   session_date  149396 non-null  object \n",
      " 4   user_id       149396 non-null  int64  \n",
      "dtypes: float64(1), int64(2), object(2)\n",
      "memory usage: 5.7+ MB\n"
     ]
    }
   ],
   "source": [
    "# первичное представление о данных\n",
    "internet.info()"
   ]
  },
  {
   "cell_type": "code",
   "execution_count": 10,
   "metadata": {},
   "outputs": [
    {
     "data": {
      "text/html": [
       "<div>\n",
       "<style scoped>\n",
       "    .dataframe tbody tr th:only-of-type {\n",
       "        vertical-align: middle;\n",
       "    }\n",
       "\n",
       "    .dataframe tbody tr th {\n",
       "        vertical-align: top;\n",
       "    }\n",
       "\n",
       "    .dataframe thead th {\n",
       "        text-align: right;\n",
       "    }\n",
       "</style>\n",
       "<table border=\"1\" class=\"dataframe\">\n",
       "  <thead>\n",
       "    <tr style=\"text-align: right;\">\n",
       "      <th></th>\n",
       "      <th>Unnamed: 0</th>\n",
       "      <th>id</th>\n",
       "      <th>mb_used</th>\n",
       "      <th>session_date</th>\n",
       "      <th>user_id</th>\n",
       "    </tr>\n",
       "  </thead>\n",
       "  <tbody>\n",
       "    <tr>\n",
       "      <th>0</th>\n",
       "      <td>0</td>\n",
       "      <td>1000_0</td>\n",
       "      <td>112.95</td>\n",
       "      <td>2018-11-25</td>\n",
       "      <td>1000</td>\n",
       "    </tr>\n",
       "    <tr>\n",
       "      <th>1</th>\n",
       "      <td>1</td>\n",
       "      <td>1000_1</td>\n",
       "      <td>1052.81</td>\n",
       "      <td>2018-09-07</td>\n",
       "      <td>1000</td>\n",
       "    </tr>\n",
       "    <tr>\n",
       "      <th>2</th>\n",
       "      <td>2</td>\n",
       "      <td>1000_2</td>\n",
       "      <td>1197.26</td>\n",
       "      <td>2018-06-25</td>\n",
       "      <td>1000</td>\n",
       "    </tr>\n",
       "    <tr>\n",
       "      <th>3</th>\n",
       "      <td>3</td>\n",
       "      <td>1000_3</td>\n",
       "      <td>550.27</td>\n",
       "      <td>2018-08-22</td>\n",
       "      <td>1000</td>\n",
       "    </tr>\n",
       "    <tr>\n",
       "      <th>4</th>\n",
       "      <td>4</td>\n",
       "      <td>1000_4</td>\n",
       "      <td>302.56</td>\n",
       "      <td>2018-09-24</td>\n",
       "      <td>1000</td>\n",
       "    </tr>\n",
       "  </tbody>\n",
       "</table>\n",
       "</div>"
      ],
      "text/plain": [
       "   Unnamed: 0      id  mb_used session_date  user_id\n",
       "0           0  1000_0   112.95   2018-11-25     1000\n",
       "1           1  1000_1  1052.81   2018-09-07     1000\n",
       "2           2  1000_2  1197.26   2018-06-25     1000\n",
       "3           3  1000_3   550.27   2018-08-22     1000\n",
       "4           4  1000_4   302.56   2018-09-24     1000"
      ]
     },
     "execution_count": 10,
     "metadata": {},
     "output_type": "execute_result"
    }
   ],
   "source": [
    "# первые 5 строк\n",
    "internet.head()"
   ]
  },
  {
   "cell_type": "code",
   "execution_count": 11,
   "metadata": {},
   "outputs": [
    {
     "name": "stdout",
     "output_type": "stream",
     "text": [
      "2047     1\n",
      "95620    1\n",
      "40249    1\n",
      "38200    1\n",
      "60727    1\n",
      "        ..\n",
      "51916    1\n",
      "62155    1\n",
      "64202    1\n",
      "58057    1\n",
      "0        1\n",
      "Name: Unnamed: 0, Length: 149396, dtype: int64\n",
      "1264_313    1\n",
      "1090_3      1\n",
      "1423_256    1\n",
      "1366_12     1\n",
      "1106_276    1\n",
      "           ..\n",
      "1228_194    1\n",
      "1256_155    1\n",
      "1227_598    1\n",
      "1088_1      1\n",
      "1465_201    1\n",
      "Name: id, Length: 149396, dtype: int64\n",
      "0.00      19598\n",
      "197.56        9\n",
      "447.30        9\n",
      "335.91        9\n",
      "108.95        8\n",
      "          ...  \n",
      "72.49         1\n",
      "846.22        1\n",
      "429.17        1\n",
      "899.03        1\n",
      "483.87        1\n",
      "Name: mb_used, Length: 70003, dtype: int64\n",
      "2018-12-31    1057\n",
      "2018-12-30     903\n",
      "2018-12-25     859\n",
      "2018-12-26     844\n",
      "2018-12-22     834\n",
      "              ... \n",
      "2018-01-05      14\n",
      "2018-01-04       9\n",
      "2018-01-03       6\n",
      "2018-01-02       3\n",
      "2018-01-01       3\n",
      "Name: session_date, Length: 365, dtype: int64\n",
      "1496    834\n",
      "1227    812\n",
      "1204    789\n",
      "1240    764\n",
      "1251    759\n",
      "       ... \n",
      "1151     35\n",
      "1467     27\n",
      "1343     26\n",
      "1192     22\n",
      "1399      8\n",
      "Name: user_id, Length: 497, dtype: int64\n"
     ]
    }
   ],
   "source": [
    "# уникальные значения\n",
    "for column in internet.columns:\n",
    "    print(internet[column].value_counts())"
   ]
  },
  {
   "cell_type": "code",
   "execution_count": 12,
   "metadata": {},
   "outputs": [
    {
     "data": {
      "text/plain": [
       "Unnamed: 0      0\n",
       "id              0\n",
       "mb_used         0\n",
       "session_date    0\n",
       "user_id         0\n",
       "dtype: int64"
      ]
     },
     "execution_count": 12,
     "metadata": {},
     "output_type": "execute_result"
    }
   ],
   "source": [
    "# проверим на пропуски\n",
    "internet.isna().sum()"
   ]
  },
  {
   "cell_type": "code",
   "execution_count": 13,
   "metadata": {},
   "outputs": [
    {
     "data": {
      "text/plain": [
       "0"
      ]
     },
     "execution_count": 13,
     "metadata": {},
     "output_type": "execute_result"
    }
   ],
   "source": [
    "# проверим на дубликаты\n",
    "internet.duplicated().sum()"
   ]
  },
  {
   "cell_type": "code",
   "execution_count": 14,
   "metadata": {},
   "outputs": [],
   "source": [
    "# импортируем датасет messages\n",
    "messages = pd.read_csv('C:/Users/sokol/OneDrive/Рабочий стол/portfolio/yandexp/Определение перспективного тарифа для телеком-компании/messages.csv')"
   ]
  },
  {
   "cell_type": "code",
   "execution_count": 15,
   "metadata": {},
   "outputs": [
    {
     "name": "stdout",
     "output_type": "stream",
     "text": [
      "<class 'pandas.core.frame.DataFrame'>\n",
      "RangeIndex: 123036 entries, 0 to 123035\n",
      "Data columns (total 3 columns):\n",
      " #   Column        Non-Null Count   Dtype \n",
      "---  ------        --------------   ----- \n",
      " 0   id            123036 non-null  object\n",
      " 1   message_date  123036 non-null  object\n",
      " 2   user_id       123036 non-null  int64 \n",
      "dtypes: int64(1), object(2)\n",
      "memory usage: 2.8+ MB\n"
     ]
    }
   ],
   "source": [
    "# первичное представление о данных\n",
    "messages.info()"
   ]
  },
  {
   "cell_type": "code",
   "execution_count": 16,
   "metadata": {},
   "outputs": [
    {
     "data": {
      "text/html": [
       "<div>\n",
       "<style scoped>\n",
       "    .dataframe tbody tr th:only-of-type {\n",
       "        vertical-align: middle;\n",
       "    }\n",
       "\n",
       "    .dataframe tbody tr th {\n",
       "        vertical-align: top;\n",
       "    }\n",
       "\n",
       "    .dataframe thead th {\n",
       "        text-align: right;\n",
       "    }\n",
       "</style>\n",
       "<table border=\"1\" class=\"dataframe\">\n",
       "  <thead>\n",
       "    <tr style=\"text-align: right;\">\n",
       "      <th></th>\n",
       "      <th>id</th>\n",
       "      <th>message_date</th>\n",
       "      <th>user_id</th>\n",
       "    </tr>\n",
       "  </thead>\n",
       "  <tbody>\n",
       "    <tr>\n",
       "      <th>0</th>\n",
       "      <td>1000_0</td>\n",
       "      <td>2018-06-27</td>\n",
       "      <td>1000</td>\n",
       "    </tr>\n",
       "    <tr>\n",
       "      <th>1</th>\n",
       "      <td>1000_1</td>\n",
       "      <td>2018-10-08</td>\n",
       "      <td>1000</td>\n",
       "    </tr>\n",
       "    <tr>\n",
       "      <th>2</th>\n",
       "      <td>1000_2</td>\n",
       "      <td>2018-08-04</td>\n",
       "      <td>1000</td>\n",
       "    </tr>\n",
       "    <tr>\n",
       "      <th>3</th>\n",
       "      <td>1000_3</td>\n",
       "      <td>2018-06-16</td>\n",
       "      <td>1000</td>\n",
       "    </tr>\n",
       "    <tr>\n",
       "      <th>4</th>\n",
       "      <td>1000_4</td>\n",
       "      <td>2018-12-05</td>\n",
       "      <td>1000</td>\n",
       "    </tr>\n",
       "  </tbody>\n",
       "</table>\n",
       "</div>"
      ],
      "text/plain": [
       "       id message_date  user_id\n",
       "0  1000_0   2018-06-27     1000\n",
       "1  1000_1   2018-10-08     1000\n",
       "2  1000_2   2018-08-04     1000\n",
       "3  1000_3   2018-06-16     1000\n",
       "4  1000_4   2018-12-05     1000"
      ]
     },
     "execution_count": 16,
     "metadata": {},
     "output_type": "execute_result"
    }
   ],
   "source": [
    "# первые 5 строк\n",
    "messages.head()"
   ]
  },
  {
   "cell_type": "code",
   "execution_count": 17,
   "metadata": {},
   "outputs": [
    {
     "name": "stdout",
     "output_type": "stream",
     "text": [
      "1041_1      1\n",
      "1347_162    1\n",
      "1196_772    1\n",
      "1460_209    1\n",
      "1326_109    1\n",
      "           ..\n",
      "1176_503    1\n",
      "1089_406    1\n",
      "1055_286    1\n",
      "1023_66     1\n",
      "1465_201    1\n",
      "Name: id, Length: 123036, dtype: int64\n",
      "2018-12-31    859\n",
      "2018-12-30    765\n",
      "2018-12-21    712\n",
      "2018-12-29    702\n",
      "2018-12-26    699\n",
      "             ... \n",
      "2018-01-07     12\n",
      "2018-01-05     10\n",
      "2018-01-04     10\n",
      "2018-01-02     10\n",
      "2018-01-03      4\n",
      "Name: message_date, Length: 364, dtype: int64\n",
      "1277    1463\n",
      "1089    1408\n",
      "1231    1384\n",
      "1385    1380\n",
      "1356    1224\n",
      "        ... \n",
      "1389       6\n",
      "1279       5\n",
      "1074       3\n",
      "1159       2\n",
      "1141       1\n",
      "Name: user_id, Length: 426, dtype: int64\n"
     ]
    }
   ],
   "source": [
    "# уникальные значения\n",
    "for column in messages.columns:\n",
    "    print(messages[column].value_counts())"
   ]
  },
  {
   "cell_type": "code",
   "execution_count": 18,
   "metadata": {},
   "outputs": [
    {
     "data": {
      "text/plain": [
       "id              0\n",
       "message_date    0\n",
       "user_id         0\n",
       "dtype: int64"
      ]
     },
     "execution_count": 18,
     "metadata": {},
     "output_type": "execute_result"
    }
   ],
   "source": [
    "# проверим на пропуски\n",
    "messages.isna().sum()"
   ]
  },
  {
   "cell_type": "code",
   "execution_count": 19,
   "metadata": {},
   "outputs": [
    {
     "data": {
      "text/plain": [
       "0"
      ]
     },
     "execution_count": 19,
     "metadata": {},
     "output_type": "execute_result"
    }
   ],
   "source": [
    "# проверим на дубликаты\n",
    "messages.duplicated().sum()"
   ]
  },
  {
   "cell_type": "code",
   "execution_count": 20,
   "metadata": {},
   "outputs": [],
   "source": [
    "# импортируем дататсет tariffs\n",
    "tariffs = pd.read_csv('C:/Users/sokol/OneDrive/Рабочий стол/portfolio/yandexp/Определение перспективного тарифа для телеком-компании/tariffs.csv', index_col = 'tariff_name')"
   ]
  },
  {
   "cell_type": "code",
   "execution_count": 21,
   "metadata": {},
   "outputs": [
    {
     "name": "stdout",
     "output_type": "stream",
     "text": [
      "<class 'pandas.core.frame.DataFrame'>\n",
      "Index: 2 entries, smart to ultra\n",
      "Data columns (total 7 columns):\n",
      " #   Column                 Non-Null Count  Dtype\n",
      "---  ------                 --------------  -----\n",
      " 0   messages_included      2 non-null      int64\n",
      " 1   mb_per_month_included  2 non-null      int64\n",
      " 2   minutes_included       2 non-null      int64\n",
      " 3   rub_monthly_fee        2 non-null      int64\n",
      " 4   rub_per_gb             2 non-null      int64\n",
      " 5   rub_per_message        2 non-null      int64\n",
      " 6   rub_per_minute         2 non-null      int64\n",
      "dtypes: int64(7)\n",
      "memory usage: 128.0+ bytes\n"
     ]
    }
   ],
   "source": [
    "# первичное представление\n",
    "tariffs.info()"
   ]
  },
  {
   "cell_type": "code",
   "execution_count": 22,
   "metadata": {},
   "outputs": [
    {
     "data": {
      "text/html": [
       "<div>\n",
       "<style scoped>\n",
       "    .dataframe tbody tr th:only-of-type {\n",
       "        vertical-align: middle;\n",
       "    }\n",
       "\n",
       "    .dataframe tbody tr th {\n",
       "        vertical-align: top;\n",
       "    }\n",
       "\n",
       "    .dataframe thead th {\n",
       "        text-align: right;\n",
       "    }\n",
       "</style>\n",
       "<table border=\"1\" class=\"dataframe\">\n",
       "  <thead>\n",
       "    <tr style=\"text-align: right;\">\n",
       "      <th></th>\n",
       "      <th>messages_included</th>\n",
       "      <th>mb_per_month_included</th>\n",
       "      <th>minutes_included</th>\n",
       "      <th>rub_monthly_fee</th>\n",
       "      <th>rub_per_gb</th>\n",
       "      <th>rub_per_message</th>\n",
       "      <th>rub_per_minute</th>\n",
       "    </tr>\n",
       "    <tr>\n",
       "      <th>tariff_name</th>\n",
       "      <th></th>\n",
       "      <th></th>\n",
       "      <th></th>\n",
       "      <th></th>\n",
       "      <th></th>\n",
       "      <th></th>\n",
       "      <th></th>\n",
       "    </tr>\n",
       "  </thead>\n",
       "  <tbody>\n",
       "    <tr>\n",
       "      <th>smart</th>\n",
       "      <td>50</td>\n",
       "      <td>15360</td>\n",
       "      <td>500</td>\n",
       "      <td>550</td>\n",
       "      <td>200</td>\n",
       "      <td>3</td>\n",
       "      <td>3</td>\n",
       "    </tr>\n",
       "    <tr>\n",
       "      <th>ultra</th>\n",
       "      <td>1000</td>\n",
       "      <td>30720</td>\n",
       "      <td>3000</td>\n",
       "      <td>1950</td>\n",
       "      <td>150</td>\n",
       "      <td>1</td>\n",
       "      <td>1</td>\n",
       "    </tr>\n",
       "  </tbody>\n",
       "</table>\n",
       "</div>"
      ],
      "text/plain": [
       "             messages_included  mb_per_month_included  minutes_included  \\\n",
       "tariff_name                                                               \n",
       "smart                       50                  15360               500   \n",
       "ultra                     1000                  30720              3000   \n",
       "\n",
       "             rub_monthly_fee  rub_per_gb  rub_per_message  rub_per_minute  \n",
       "tariff_name                                                                \n",
       "smart                    550         200                3               3  \n",
       "ultra                   1950         150                1               1  "
      ]
     },
     "execution_count": 22,
     "metadata": {},
     "output_type": "execute_result"
    }
   ],
   "source": [
    "# первые 5 строк\n",
    "tariffs.head()"
   ]
  },
  {
   "cell_type": "code",
   "execution_count": 23,
   "metadata": {},
   "outputs": [],
   "source": [
    "# импортируем датасет users\n",
    "users = pd.read_csv('C:/Users/sokol/OneDrive/Рабочий стол/portfolio/yandexp/Определение перспективного тарифа для телеком-компании/users.csv')"
   ]
  },
  {
   "cell_type": "code",
   "execution_count": 24,
   "metadata": {},
   "outputs": [
    {
     "name": "stdout",
     "output_type": "stream",
     "text": [
      "<class 'pandas.core.frame.DataFrame'>\n",
      "RangeIndex: 500 entries, 0 to 499\n",
      "Data columns (total 8 columns):\n",
      " #   Column      Non-Null Count  Dtype \n",
      "---  ------      --------------  ----- \n",
      " 0   user_id     500 non-null    int64 \n",
      " 1   age         500 non-null    int64 \n",
      " 2   churn_date  38 non-null     object\n",
      " 3   city        500 non-null    object\n",
      " 4   first_name  500 non-null    object\n",
      " 5   last_name   500 non-null    object\n",
      " 6   reg_date    500 non-null    object\n",
      " 7   tariff      500 non-null    object\n",
      "dtypes: int64(2), object(6)\n",
      "memory usage: 31.4+ KB\n"
     ]
    }
   ],
   "source": [
    "# первичное представление\n",
    "users.info()"
   ]
  },
  {
   "cell_type": "code",
   "execution_count": 25,
   "metadata": {},
   "outputs": [
    {
     "data": {
      "text/html": [
       "<div>\n",
       "<style scoped>\n",
       "    .dataframe tbody tr th:only-of-type {\n",
       "        vertical-align: middle;\n",
       "    }\n",
       "\n",
       "    .dataframe tbody tr th {\n",
       "        vertical-align: top;\n",
       "    }\n",
       "\n",
       "    .dataframe thead th {\n",
       "        text-align: right;\n",
       "    }\n",
       "</style>\n",
       "<table border=\"1\" class=\"dataframe\">\n",
       "  <thead>\n",
       "    <tr style=\"text-align: right;\">\n",
       "      <th></th>\n",
       "      <th>user_id</th>\n",
       "      <th>age</th>\n",
       "      <th>churn_date</th>\n",
       "      <th>city</th>\n",
       "      <th>first_name</th>\n",
       "      <th>last_name</th>\n",
       "      <th>reg_date</th>\n",
       "      <th>tariff</th>\n",
       "    </tr>\n",
       "  </thead>\n",
       "  <tbody>\n",
       "    <tr>\n",
       "      <th>0</th>\n",
       "      <td>1000</td>\n",
       "      <td>52</td>\n",
       "      <td>NaN</td>\n",
       "      <td>Краснодар</td>\n",
       "      <td>Рафаил</td>\n",
       "      <td>Верещагин</td>\n",
       "      <td>2018-05-25</td>\n",
       "      <td>ultra</td>\n",
       "    </tr>\n",
       "    <tr>\n",
       "      <th>1</th>\n",
       "      <td>1001</td>\n",
       "      <td>41</td>\n",
       "      <td>NaN</td>\n",
       "      <td>Москва</td>\n",
       "      <td>Иван</td>\n",
       "      <td>Ежов</td>\n",
       "      <td>2018-11-01</td>\n",
       "      <td>smart</td>\n",
       "    </tr>\n",
       "    <tr>\n",
       "      <th>2</th>\n",
       "      <td>1002</td>\n",
       "      <td>59</td>\n",
       "      <td>NaN</td>\n",
       "      <td>Стерлитамак</td>\n",
       "      <td>Евгений</td>\n",
       "      <td>Абрамович</td>\n",
       "      <td>2018-06-17</td>\n",
       "      <td>smart</td>\n",
       "    </tr>\n",
       "    <tr>\n",
       "      <th>3</th>\n",
       "      <td>1003</td>\n",
       "      <td>23</td>\n",
       "      <td>NaN</td>\n",
       "      <td>Москва</td>\n",
       "      <td>Белла</td>\n",
       "      <td>Белякова</td>\n",
       "      <td>2018-08-17</td>\n",
       "      <td>ultra</td>\n",
       "    </tr>\n",
       "    <tr>\n",
       "      <th>4</th>\n",
       "      <td>1004</td>\n",
       "      <td>68</td>\n",
       "      <td>NaN</td>\n",
       "      <td>Новокузнецк</td>\n",
       "      <td>Татьяна</td>\n",
       "      <td>Авдеенко</td>\n",
       "      <td>2018-05-14</td>\n",
       "      <td>ultra</td>\n",
       "    </tr>\n",
       "  </tbody>\n",
       "</table>\n",
       "</div>"
      ],
      "text/plain": [
       "   user_id  age churn_date         city first_name  last_name    reg_date  \\\n",
       "0     1000   52        NaN    Краснодар     Рафаил  Верещагин  2018-05-25   \n",
       "1     1001   41        NaN       Москва       Иван       Ежов  2018-11-01   \n",
       "2     1002   59        NaN  Стерлитамак    Евгений  Абрамович  2018-06-17   \n",
       "3     1003   23        NaN       Москва      Белла   Белякова  2018-08-17   \n",
       "4     1004   68        NaN  Новокузнецк    Татьяна   Авдеенко  2018-05-14   \n",
       "\n",
       "  tariff  \n",
       "0  ultra  \n",
       "1  smart  \n",
       "2  smart  \n",
       "3  ultra  \n",
       "4  ultra  "
      ]
     },
     "execution_count": 25,
     "metadata": {},
     "output_type": "execute_result"
    }
   ],
   "source": [
    "# первые 5 строк\n",
    "users.head()"
   ]
  },
  {
   "cell_type": "code",
   "execution_count": 26,
   "metadata": {},
   "outputs": [
    {
     "name": "stdout",
     "output_type": "stream",
     "text": [
      "1023    1\n",
      "1194    1\n",
      "1181    1\n",
      "1182    1\n",
      "1183    1\n",
      "       ..\n",
      "1362    1\n",
      "1363    1\n",
      "1364    1\n",
      "1365    1\n",
      "1024    1\n",
      "Name: user_id, Length: 500, dtype: int64\n",
      "53    14\n",
      "42    14\n",
      "63    13\n",
      "71    13\n",
      "64    13\n",
      "73    12\n",
      "21    12\n",
      "40    12\n",
      "39    11\n",
      "47    11\n",
      "29    11\n",
      "26    11\n",
      "37    11\n",
      "41    10\n",
      "36    10\n",
      "58    10\n",
      "45    10\n",
      "70    10\n",
      "52    10\n",
      "51     9\n",
      "27     9\n",
      "48     9\n",
      "50     9\n",
      "28     9\n",
      "30     9\n",
      "24     9\n",
      "20     9\n",
      "19     9\n",
      "56     9\n",
      "23     9\n",
      "68     9\n",
      "66     9\n",
      "65     9\n",
      "69     8\n",
      "62     8\n",
      "60     8\n",
      "44     8\n",
      "55     8\n",
      "25     7\n",
      "43     7\n",
      "67     7\n",
      "35     7\n",
      "74     7\n",
      "32     7\n",
      "31     7\n",
      "46     7\n",
      "75     6\n",
      "54     6\n",
      "59     6\n",
      "18     6\n",
      "33     5\n",
      "34     5\n",
      "38     5\n",
      "22     5\n",
      "72     5\n",
      "49     4\n",
      "57     4\n",
      "61     3\n",
      "Name: age, dtype: int64\n",
      "2018-12-21    2\n",
      "2018-10-03    2\n",
      "2018-12-09    2\n",
      "2018-10-14    2\n",
      "2018-12-03    2\n",
      "2018-10-27    1\n",
      "2018-11-13    1\n",
      "2018-10-28    1\n",
      "2018-11-26    1\n",
      "2018-12-23    1\n",
      "2018-09-02    1\n",
      "2018-10-05    1\n",
      "2018-10-04    1\n",
      "2018-12-18    1\n",
      "2018-08-31    1\n",
      "2018-12-24    1\n",
      "2018-12-14    1\n",
      "2018-11-27    1\n",
      "2018-08-17    1\n",
      "2018-12-16    1\n",
      "2018-09-26    1\n",
      "2018-11-21    1\n",
      "2018-12-20    1\n",
      "2018-12-11    1\n",
      "2018-11-22    1\n",
      "2018-12-25    1\n",
      "2018-12-26    1\n",
      "2018-11-07    1\n",
      "2018-12-30    1\n",
      "2018-11-30    1\n",
      "2018-11-16    1\n",
      "2018-09-27    1\n",
      "2018-10-25    1\n",
      "Name: churn_date, dtype: int64\n",
      "Москва             99\n",
      "Санкт-Петербург    39\n",
      "Новосибирск        16\n",
      "Казань             14\n",
      "Омск               14\n",
      "                   ..\n",
      "Подольск            1\n",
      "Нижневартовск       1\n",
      "Архангельск         1\n",
      "Химки               1\n",
      "Иваново             1\n",
      "Name: city, Length: 76, dtype: int64\n",
      "Радим     6\n",
      "Пётр      5\n",
      "Леонид    5\n",
      "Артём     4\n",
      "Марта     4\n",
      "         ..\n",
      "Белла     1\n",
      "Саида     1\n",
      "Милена    1\n",
      "Юзефа     1\n",
      "Милана    1\n",
      "Name: first_name, Length: 246, dtype: int64\n",
      "Андреенко      5\n",
      "Булгаков       3\n",
      "Березина       3\n",
      "Соловьев       3\n",
      "Анищенко       3\n",
      "              ..\n",
      "Белова         1\n",
      "Александрюк    1\n",
      "Поляков        1\n",
      "Афонасьева     1\n",
      "Синицын        1\n",
      "Name: last_name, Length: 419, dtype: int64\n",
      "2018-05-28    8\n",
      "2018-07-16    5\n",
      "2018-11-16    5\n",
      "2018-01-04    5\n",
      "2018-10-05    5\n",
      "             ..\n",
      "2018-03-13    1\n",
      "2018-06-04    1\n",
      "2018-01-06    1\n",
      "2018-05-21    1\n",
      "2018-05-06    1\n",
      "Name: reg_date, Length: 270, dtype: int64\n",
      "smart    351\n",
      "ultra    149\n",
      "Name: tariff, dtype: int64\n"
     ]
    }
   ],
   "source": [
    "# проверим на уникальные значения\n",
    "for column in users.columns:\n",
    "    print(users[column].value_counts())"
   ]
  },
  {
   "cell_type": "code",
   "execution_count": 27,
   "metadata": {},
   "outputs": [
    {
     "data": {
      "text/plain": [
       "user_id         0\n",
       "age             0\n",
       "churn_date    462\n",
       "city            0\n",
       "first_name      0\n",
       "last_name       0\n",
       "reg_date        0\n",
       "tariff          0\n",
       "dtype: int64"
      ]
     },
     "execution_count": 27,
     "metadata": {},
     "output_type": "execute_result"
    }
   ],
   "source": [
    "# проверим на пропуски\n",
    "users.isna().sum()"
   ]
  },
  {
   "cell_type": "code",
   "execution_count": 28,
   "metadata": {},
   "outputs": [
    {
     "data": {
      "text/plain": [
       "0"
      ]
     },
     "execution_count": 28,
     "metadata": {},
     "output_type": "execute_result"
    }
   ],
   "source": [
    "# проверим на дубликаты\n",
    "users.duplicated().sum()"
   ]
  },
  {
   "cell_type": "markdown",
   "metadata": {},
   "source": [
    "#### Вывод"
   ]
  },
  {
   "cell_type": "markdown",
   "metadata": {},
   "source": [
    "#### Датасет calls\n",
    "\n",
    "- id - уникальный номер звонка;\n",
    "- call_date - дата звонка;\n",
    "- duration - продолжительность звонка;\n",
    "- user_id - идентификатор пользователя, сделавшего звонок.\n",
    "\n",
    "#### Обнаруженные проблемы:\n",
    "- в столбце duration есть большое количество (39613) уникальных значений, равных нулю.\n",
    "\n",
    "---\n",
    "\n",
    "#### Датасет internet\n",
    "\n",
    "- id - уникальный номер сессии;\n",
    "- mb_used - объем потраченного трафика за интернет-сессию - уникальные значения равные нулю (19598);\n",
    "- session_date - дата интернет-сессии;\n",
    "- user_id - идентификатор пользователя - все нормально.\n",
    "\n",
    "#### Обнаруженные проблемы:\n",
    "- в столбце md_used есть большое количество (19598) уникальных значений, равных нулю;\n",
    "- в датасет присутствуют столбец Unnamed, который не содержит никакой информации, скорее всего, это просто ошибка в данных и его нужно удалить.\n",
    "\n",
    "---\n",
    "\n",
    "#### Датасет messages\n",
    "- id - уникальный номер сообщения;\n",
    "- message_date - дата сообщения;\n",
    "- user_id - идентификатор пользователя, отправившего сообщение.\n",
    "\n",
    "--- \n",
    "\n",
    "#### Датасет tariffs\n",
    "- messages_included - количество сообщений в месяц, включенных в абонентсткую плату;\n",
    "- mb_per_month_included - объем интернет трафика, включенного в абонентскую плату;\n",
    "- minutes_included - количество минут разговора в месяц, включенных в абонентскую плату;\n",
    "- rub_monthly_fee - ежемесячная абонентская плата в рублях;\n",
    "- rub_per_gb - стоимость дополнительного гигабайта интернет-трафика сверх тарифного пакета;\n",
    "- rub_per_message - стоимость отправки сообщения сверх тарифного пакет;\n",
    "- rub_per_minute - стоимость минуты разговора сверх тарифного пакета;\n",
    "- tariff_name - название тарифа.\n",
    "\n",
    "--- \n",
    "\n",
    "#### Датасет users\n",
    "- user_id - уникальный идентификатор пользователя;\n",
    "- age - возраст пользователя - все нормально;\n",
    "- churn_date - дата прекращения пользования тарифом\n",
    "- city - город проживания пользователя;\n",
    "- first_name - имя пользователя;\n",
    "- last_name - фамилия пользователя;\n",
    "- reg_date - дата подключения тарифа;\n",
    "- tariff - название тарифного плана;\n",
    "\n",
    "#### Обнаруженные проблемы:\n",
    "- в столбце churn_date есть пропущенные значения.\n",
    "\n",
    "---\n",
    "\n",
    "#### Предположения о появлении пропусков и нулевых значений, и рекомендации по их заполнению:\n",
    "- Большое количество нулевых значений в столбце duration в датасете calls возникло из-за некорректого округления значений в большую сторону. В условии проекта сказано, что если пользователей проговорил всего 1 секунду, то в тарифе засчитывается минута. Эти значения можно просто заменить единицей;\n",
    "- Большое количество нулевых значений в столбце mb_used в датасете internet может быть обусловлено тем, что некоторые пользователи не используют мобильный интернет на тарифном плане;\n",
    "- Пропущенные значения в столбце churn_rate возникли из-за того, что тарифный план продолжал действовать на момент выгрузки данных. Пропущенные значения можно заменить максимальным значением для каждого тарифного плана.\n",
    "\n",
    "---\n",
    "\n",
    "#### На этапе предобработки необходимо:\n",
    "- Заполнить пропуски в столбцах с пропущенными значениями;\n",
    "- Удалить лишний столбец Unnamed: 0 в датасете internet; \n",
    "- Значения столбца call_date датасета calls - значения столбца session_date датасета internet - значения столбца message_date датасета messages - значения столбцов churn_date и reg_date датасета users привести к типу datetime;\n",
    "- Значения столбцов duration и mb_used, и mb_per_month_included датасетов calls и internet необходимо округлить в большую сторону, а их значения привести к целочисленному типу. Также необходимо перевести значения из мегабайтов в гигабайты;\n",
    "- Для каждого пользователя рассчитать: количество сделанных звонков и израсходованных минут по месяцам; количество отправленных сообщений по месяцам; объем израсходованного трафика по месяцам; помесячную выручку."
   ]
  },
  {
   "cell_type": "markdown",
   "metadata": {},
   "source": [
    "### <a id='step2'>Предобработка данных</a>"
   ]
  },
  {
   "cell_type": "code",
   "execution_count": 29,
   "metadata": {},
   "outputs": [],
   "source": [
    "# приведем столбец call_date в датасете calls к формату даты\n",
    "calls['call_date'] = pd.to_datetime(calls['call_date'], format='%Y.%m.%dT%H:%M:%S')"
   ]
  },
  {
   "cell_type": "code",
   "execution_count": 30,
   "metadata": {},
   "outputs": [],
   "source": [
    "# приведем столбец session_date в датасете internet к форматы даты\n",
    "internet['session_date'] = pd.to_datetime(internet['session_date'], format='%Y.%m.%dT%H:%M:%S')"
   ]
  },
  {
   "cell_type": "code",
   "execution_count": 31,
   "metadata": {},
   "outputs": [],
   "source": [
    "# приведем столбец message_date в датасете messages к форматы даты\n",
    "messages['message_date'] = pd.to_datetime(messages['message_date'], format='%Y.%m.%dT%H:%M:%S')"
   ]
  },
  {
   "cell_type": "code",
   "execution_count": 32,
   "metadata": {},
   "outputs": [],
   "source": [
    "# приведем столбцы reg_date и churn_date к форматы даты\n",
    "\n",
    "# reg_date\n",
    "users['reg_date'] = pd.to_datetime(users['reg_date'], format='%Y.%m.%dT%H:%M:%S')\n",
    "\n",
    "# churn_date\n",
    "users['churn_date'] = pd.to_datetime(users['churn_date'], format='%Y.%m.%dT%H:%M:%S')"
   ]
  },
  {
   "cell_type": "code",
   "execution_count": 33,
   "metadata": {},
   "outputs": [],
   "source": [
    "# удалим столбец Unnamed:0 в датасете internet\n",
    "del internet['Unnamed: 0']"
   ]
  },
  {
   "cell_type": "code",
   "execution_count": 34,
   "metadata": {},
   "outputs": [],
   "source": [
    "# пропущенные значения в churn_date заменим максимальным значением\n",
    "users['churn_date'] = users['churn_date'].fillna(users['churn_date'].max())"
   ]
  },
  {
   "cell_type": "code",
   "execution_count": 35,
   "metadata": {},
   "outputs": [
    {
     "data": {
      "text/plain": [
       "user_id       0\n",
       "age           0\n",
       "churn_date    0\n",
       "city          0\n",
       "first_name    0\n",
       "last_name     0\n",
       "reg_date      0\n",
       "tariff        0\n",
       "dtype: int64"
      ]
     },
     "execution_count": 35,
     "metadata": {},
     "output_type": "execute_result"
    }
   ],
   "source": [
    "# проверим еще раз на пропуски датасет users\n",
    "users.isna().sum()"
   ]
  },
  {
   "cell_type": "code",
   "execution_count": 36,
   "metadata": {},
   "outputs": [],
   "source": [
    "# в датасет calls добавим столбец с информацией о месяцах совершенных звонков\n",
    "calls['month'] = pd.DatetimeIndex(calls['call_date']).month"
   ]
  },
  {
   "cell_type": "code",
   "execution_count": 37,
   "metadata": {},
   "outputs": [],
   "source": [
    "# в датафрейм messages добавим столбец с информацией о месяцах отправленных сообщений\n",
    "messages['month'] = pd.DatetimeIndex(messages['message_date']).month"
   ]
  },
  {
   "cell_type": "code",
   "execution_count": 38,
   "metadata": {},
   "outputs": [],
   "source": [
    "# в датафрейм internet добавим столбец с информацией о месяцах израсходованного интернет-трафика\n",
    "internet['month'] = pd.DatetimeIndex(internet['session_date']).month"
   ]
  },
  {
   "cell_type": "code",
   "execution_count": 39,
   "metadata": {},
   "outputs": [],
   "source": [
    "# значения столбца duration в датасете calls округлим в большую сторону\n",
    "calls['duration'] = calls['duration'].apply(np.ceil).astype('int')"
   ]
  },
  {
   "cell_type": "code",
   "execution_count": 40,
   "metadata": {},
   "outputs": [],
   "source": [
    "# значения столбца mb_used в датасете internet округлим в большую сторону и переведем в гигабайты\n",
    "internet['mb_used'] = (internet['mb_used'] / 1024).apply(np.ceil).astype('int')"
   ]
  },
  {
   "cell_type": "code",
   "execution_count": 41,
   "metadata": {},
   "outputs": [],
   "source": [
    "# значения столбца mb_per_month_included в датасете tariffs округлим в большую сторону и переведем в гигабайты\n",
    "tariffs['mb_per_month_included'] = (tariffs['mb_per_month_included'] / 1024).apply(np.ceil).astype('int')"
   ]
  },
  {
   "cell_type": "markdown",
   "metadata": {},
   "source": [
    "### <a id='step3'>Дополнительные вычисления</a>"
   ]
  },
  {
   "cell_type": "code",
   "execution_count": 42,
   "metadata": {},
   "outputs": [],
   "source": [
    "# создаем отдельную таблицу с данными о количестве звонков и израсходованных минут по каждому месяцу для каждого пользователя\n",
    "calls_for_months = calls.groupby(['user_id', 'month']).agg({'duration' : ['count', 'sum']}).reset_index()"
   ]
  },
  {
   "cell_type": "code",
   "execution_count": 43,
   "metadata": {},
   "outputs": [
    {
     "data": {
      "text/html": [
       "<div>\n",
       "<style scoped>\n",
       "    .dataframe tbody tr th:only-of-type {\n",
       "        vertical-align: middle;\n",
       "    }\n",
       "\n",
       "    .dataframe tbody tr th {\n",
       "        vertical-align: top;\n",
       "    }\n",
       "\n",
       "    .dataframe thead tr th {\n",
       "        text-align: left;\n",
       "    }\n",
       "</style>\n",
       "<table border=\"1\" class=\"dataframe\">\n",
       "  <thead>\n",
       "    <tr>\n",
       "      <th></th>\n",
       "      <th>user_id</th>\n",
       "      <th>month</th>\n",
       "      <th colspan=\"2\" halign=\"left\">duration</th>\n",
       "    </tr>\n",
       "    <tr>\n",
       "      <th></th>\n",
       "      <th></th>\n",
       "      <th></th>\n",
       "      <th>count</th>\n",
       "      <th>sum</th>\n",
       "    </tr>\n",
       "  </thead>\n",
       "  <tbody>\n",
       "    <tr>\n",
       "      <th>0</th>\n",
       "      <td>1000</td>\n",
       "      <td>5</td>\n",
       "      <td>22</td>\n",
       "      <td>159</td>\n",
       "    </tr>\n",
       "    <tr>\n",
       "      <th>1</th>\n",
       "      <td>1000</td>\n",
       "      <td>6</td>\n",
       "      <td>43</td>\n",
       "      <td>172</td>\n",
       "    </tr>\n",
       "    <tr>\n",
       "      <th>2</th>\n",
       "      <td>1000</td>\n",
       "      <td>7</td>\n",
       "      <td>47</td>\n",
       "      <td>340</td>\n",
       "    </tr>\n",
       "    <tr>\n",
       "      <th>3</th>\n",
       "      <td>1000</td>\n",
       "      <td>8</td>\n",
       "      <td>52</td>\n",
       "      <td>408</td>\n",
       "    </tr>\n",
       "    <tr>\n",
       "      <th>4</th>\n",
       "      <td>1000</td>\n",
       "      <td>9</td>\n",
       "      <td>58</td>\n",
       "      <td>466</td>\n",
       "    </tr>\n",
       "  </tbody>\n",
       "</table>\n",
       "</div>"
      ],
      "text/plain": [
       "  user_id month duration     \n",
       "                   count  sum\n",
       "0    1000     5       22  159\n",
       "1    1000     6       43  172\n",
       "2    1000     7       47  340\n",
       "3    1000     8       52  408\n",
       "4    1000     9       58  466"
      ]
     },
     "execution_count": 43,
     "metadata": {},
     "output_type": "execute_result"
    }
   ],
   "source": [
    "# первые 5 строк\n",
    "calls_for_months.head()"
   ]
  },
  {
   "cell_type": "code",
   "execution_count": 44,
   "metadata": {},
   "outputs": [],
   "source": [
    "# создаем отдельную табличку с данными о количестве отправленных сообщений по каждому месяцу для каждого пользователя\n",
    "messages_for_months = messages.groupby(['user_id', 'month']).agg({'id' : 'count'}).reset_index()"
   ]
  },
  {
   "cell_type": "code",
   "execution_count": 45,
   "metadata": {},
   "outputs": [
    {
     "data": {
      "text/html": [
       "<div>\n",
       "<style scoped>\n",
       "    .dataframe tbody tr th:only-of-type {\n",
       "        vertical-align: middle;\n",
       "    }\n",
       "\n",
       "    .dataframe tbody tr th {\n",
       "        vertical-align: top;\n",
       "    }\n",
       "\n",
       "    .dataframe thead th {\n",
       "        text-align: right;\n",
       "    }\n",
       "</style>\n",
       "<table border=\"1\" class=\"dataframe\">\n",
       "  <thead>\n",
       "    <tr style=\"text-align: right;\">\n",
       "      <th></th>\n",
       "      <th>user_id</th>\n",
       "      <th>month</th>\n",
       "      <th>id</th>\n",
       "    </tr>\n",
       "  </thead>\n",
       "  <tbody>\n",
       "    <tr>\n",
       "      <th>0</th>\n",
       "      <td>1000</td>\n",
       "      <td>5</td>\n",
       "      <td>22</td>\n",
       "    </tr>\n",
       "    <tr>\n",
       "      <th>1</th>\n",
       "      <td>1000</td>\n",
       "      <td>6</td>\n",
       "      <td>60</td>\n",
       "    </tr>\n",
       "    <tr>\n",
       "      <th>2</th>\n",
       "      <td>1000</td>\n",
       "      <td>7</td>\n",
       "      <td>75</td>\n",
       "    </tr>\n",
       "    <tr>\n",
       "      <th>3</th>\n",
       "      <td>1000</td>\n",
       "      <td>8</td>\n",
       "      <td>81</td>\n",
       "    </tr>\n",
       "    <tr>\n",
       "      <th>4</th>\n",
       "      <td>1000</td>\n",
       "      <td>9</td>\n",
       "      <td>57</td>\n",
       "    </tr>\n",
       "  </tbody>\n",
       "</table>\n",
       "</div>"
      ],
      "text/plain": [
       "   user_id  month  id\n",
       "0     1000      5  22\n",
       "1     1000      6  60\n",
       "2     1000      7  75\n",
       "3     1000      8  81\n",
       "4     1000      9  57"
      ]
     },
     "execution_count": 45,
     "metadata": {},
     "output_type": "execute_result"
    }
   ],
   "source": [
    "# первые 5 строк\n",
    "messages_for_months.head()"
   ]
  },
  {
   "cell_type": "code",
   "execution_count": 46,
   "metadata": {},
   "outputs": [],
   "source": [
    "# создаем отдельную табличку с данными об объеме израсходованного интернет-трафика по каждому месяцу для каждого пользователя\n",
    "internet_for_months = internet.groupby(['user_id', 'month']).agg({'mb_used' : 'sum'}).reset_index()"
   ]
  },
  {
   "cell_type": "code",
   "execution_count": 47,
   "metadata": {},
   "outputs": [
    {
     "data": {
      "text/html": [
       "<div>\n",
       "<style scoped>\n",
       "    .dataframe tbody tr th:only-of-type {\n",
       "        vertical-align: middle;\n",
       "    }\n",
       "\n",
       "    .dataframe tbody tr th {\n",
       "        vertical-align: top;\n",
       "    }\n",
       "\n",
       "    .dataframe thead th {\n",
       "        text-align: right;\n",
       "    }\n",
       "</style>\n",
       "<table border=\"1\" class=\"dataframe\">\n",
       "  <thead>\n",
       "    <tr style=\"text-align: right;\">\n",
       "      <th></th>\n",
       "      <th>user_id</th>\n",
       "      <th>month</th>\n",
       "      <th>mb_used</th>\n",
       "    </tr>\n",
       "  </thead>\n",
       "  <tbody>\n",
       "    <tr>\n",
       "      <th>0</th>\n",
       "      <td>1000</td>\n",
       "      <td>5</td>\n",
       "      <td>4</td>\n",
       "    </tr>\n",
       "    <tr>\n",
       "      <th>1</th>\n",
       "      <td>1000</td>\n",
       "      <td>6</td>\n",
       "      <td>49</td>\n",
       "    </tr>\n",
       "    <tr>\n",
       "      <th>2</th>\n",
       "      <td>1000</td>\n",
       "      <td>7</td>\n",
       "      <td>28</td>\n",
       "    </tr>\n",
       "    <tr>\n",
       "      <th>3</th>\n",
       "      <td>1000</td>\n",
       "      <td>8</td>\n",
       "      <td>27</td>\n",
       "    </tr>\n",
       "    <tr>\n",
       "      <th>4</th>\n",
       "      <td>1000</td>\n",
       "      <td>9</td>\n",
       "      <td>26</td>\n",
       "    </tr>\n",
       "  </tbody>\n",
       "</table>\n",
       "</div>"
      ],
      "text/plain": [
       "   user_id  month  mb_used\n",
       "0     1000      5        4\n",
       "1     1000      6       49\n",
       "2     1000      7       28\n",
       "3     1000      8       27\n",
       "4     1000      9       26"
      ]
     },
     "execution_count": 47,
     "metadata": {},
     "output_type": "execute_result"
    }
   ],
   "source": [
    "# первые 5 строк\n",
    "internet_for_months.head()"
   ]
  },
  {
   "cell_type": "code",
   "execution_count": 48,
   "metadata": {},
   "outputs": [
    {
     "name": "stderr",
     "output_type": "stream",
     "text": [
      "C:\\Users\\sokol\\anaconda3\\lib\\site-packages\\pandas\\core\\reshape\\merge.py:618: UserWarning: merging between different levels can give an unintended result (2 levels on the left, 1 on the right)\n",
      "  warnings.warn(msg, UserWarning)\n"
     ]
    }
   ],
   "source": [
    "#сделаем общую таблицу с информацией о затратах для каждого пользователя по городам\n",
    "new_table = calls_for_months.merge(messages_for_months, how = 'outer', on = ['user_id', 'month'])\\\n",
    ".merge(internet_for_months, how = 'outer', on = ['user_id', 'month'])\\\n",
    ".merge(users[['user_id', 'tariff', 'city']], how = 'left', on = 'user_id')"
   ]
  },
  {
   "cell_type": "code",
   "execution_count": 49,
   "metadata": {},
   "outputs": [
    {
     "data": {
      "text/html": [
       "<div>\n",
       "<style scoped>\n",
       "    .dataframe tbody tr th:only-of-type {\n",
       "        vertical-align: middle;\n",
       "    }\n",
       "\n",
       "    .dataframe tbody tr th {\n",
       "        vertical-align: top;\n",
       "    }\n",
       "\n",
       "    .dataframe thead th {\n",
       "        text-align: right;\n",
       "    }\n",
       "</style>\n",
       "<table border=\"1\" class=\"dataframe\">\n",
       "  <thead>\n",
       "    <tr style=\"text-align: right;\">\n",
       "      <th></th>\n",
       "      <th>user_id</th>\n",
       "      <th>month</th>\n",
       "      <th>(user_id, )</th>\n",
       "      <th>(month, )</th>\n",
       "      <th>(duration, count)</th>\n",
       "      <th>(duration, sum)</th>\n",
       "      <th>id</th>\n",
       "      <th>mb_used</th>\n",
       "      <th>tariff</th>\n",
       "      <th>city</th>\n",
       "    </tr>\n",
       "  </thead>\n",
       "  <tbody>\n",
       "    <tr>\n",
       "      <th>0</th>\n",
       "      <td>1000</td>\n",
       "      <td>5</td>\n",
       "      <td>1000.0</td>\n",
       "      <td>5.0</td>\n",
       "      <td>22.0</td>\n",
       "      <td>159.0</td>\n",
       "      <td>22.0</td>\n",
       "      <td>4.0</td>\n",
       "      <td>ultra</td>\n",
       "      <td>Краснодар</td>\n",
       "    </tr>\n",
       "    <tr>\n",
       "      <th>1</th>\n",
       "      <td>1000</td>\n",
       "      <td>6</td>\n",
       "      <td>1000.0</td>\n",
       "      <td>6.0</td>\n",
       "      <td>43.0</td>\n",
       "      <td>172.0</td>\n",
       "      <td>60.0</td>\n",
       "      <td>49.0</td>\n",
       "      <td>ultra</td>\n",
       "      <td>Краснодар</td>\n",
       "    </tr>\n",
       "    <tr>\n",
       "      <th>2</th>\n",
       "      <td>1000</td>\n",
       "      <td>7</td>\n",
       "      <td>1000.0</td>\n",
       "      <td>7.0</td>\n",
       "      <td>47.0</td>\n",
       "      <td>340.0</td>\n",
       "      <td>75.0</td>\n",
       "      <td>28.0</td>\n",
       "      <td>ultra</td>\n",
       "      <td>Краснодар</td>\n",
       "    </tr>\n",
       "    <tr>\n",
       "      <th>3</th>\n",
       "      <td>1000</td>\n",
       "      <td>8</td>\n",
       "      <td>1000.0</td>\n",
       "      <td>8.0</td>\n",
       "      <td>52.0</td>\n",
       "      <td>408.0</td>\n",
       "      <td>81.0</td>\n",
       "      <td>27.0</td>\n",
       "      <td>ultra</td>\n",
       "      <td>Краснодар</td>\n",
       "    </tr>\n",
       "    <tr>\n",
       "      <th>4</th>\n",
       "      <td>1000</td>\n",
       "      <td>9</td>\n",
       "      <td>1000.0</td>\n",
       "      <td>9.0</td>\n",
       "      <td>58.0</td>\n",
       "      <td>466.0</td>\n",
       "      <td>57.0</td>\n",
       "      <td>26.0</td>\n",
       "      <td>ultra</td>\n",
       "      <td>Краснодар</td>\n",
       "    </tr>\n",
       "  </tbody>\n",
       "</table>\n",
       "</div>"
      ],
      "text/plain": [
       "   user_id  month  (user_id, )  (month, )  (duration, count)  (duration, sum)  \\\n",
       "0     1000      5       1000.0        5.0               22.0            159.0   \n",
       "1     1000      6       1000.0        6.0               43.0            172.0   \n",
       "2     1000      7       1000.0        7.0               47.0            340.0   \n",
       "3     1000      8       1000.0        8.0               52.0            408.0   \n",
       "4     1000      9       1000.0        9.0               58.0            466.0   \n",
       "\n",
       "     id  mb_used tariff       city  \n",
       "0  22.0      4.0  ultra  Краснодар  \n",
       "1  60.0     49.0  ultra  Краснодар  \n",
       "2  75.0     28.0  ultra  Краснодар  \n",
       "3  81.0     27.0  ultra  Краснодар  \n",
       "4  57.0     26.0  ultra  Краснодар  "
      ]
     },
     "execution_count": 49,
     "metadata": {},
     "output_type": "execute_result"
    }
   ],
   "source": [
    "# первые 5 строк\n",
    "new_table.head()"
   ]
  },
  {
   "cell_type": "code",
   "execution_count": 50,
   "metadata": {},
   "outputs": [],
   "source": [
    "# удалим дубликаты столбцов\n",
    "new_table = new_table.drop(new_table.columns[[2, 3]], axis='columns')"
   ]
  },
  {
   "cell_type": "code",
   "execution_count": 51,
   "metadata": {},
   "outputs": [],
   "source": [
    "# переименуем столбцы\n",
    "new_table.columns = ['user_id', 'month', 'calls_count', 'calls_duration', 'messages_sent', 'internet_mb_used', 'tariff', 'city']"
   ]
  },
  {
   "cell_type": "code",
   "execution_count": 52,
   "metadata": {},
   "outputs": [
    {
     "data": {
      "text/html": [
       "<div>\n",
       "<style scoped>\n",
       "    .dataframe tbody tr th:only-of-type {\n",
       "        vertical-align: middle;\n",
       "    }\n",
       "\n",
       "    .dataframe tbody tr th {\n",
       "        vertical-align: top;\n",
       "    }\n",
       "\n",
       "    .dataframe thead th {\n",
       "        text-align: right;\n",
       "    }\n",
       "</style>\n",
       "<table border=\"1\" class=\"dataframe\">\n",
       "  <thead>\n",
       "    <tr style=\"text-align: right;\">\n",
       "      <th></th>\n",
       "      <th>user_id</th>\n",
       "      <th>month</th>\n",
       "      <th>calls_count</th>\n",
       "      <th>calls_duration</th>\n",
       "      <th>messages_sent</th>\n",
       "      <th>internet_mb_used</th>\n",
       "      <th>tariff</th>\n",
       "      <th>city</th>\n",
       "    </tr>\n",
       "  </thead>\n",
       "  <tbody>\n",
       "    <tr>\n",
       "      <th>0</th>\n",
       "      <td>1000</td>\n",
       "      <td>5</td>\n",
       "      <td>22.0</td>\n",
       "      <td>159.0</td>\n",
       "      <td>22.0</td>\n",
       "      <td>4.0</td>\n",
       "      <td>ultra</td>\n",
       "      <td>Краснодар</td>\n",
       "    </tr>\n",
       "    <tr>\n",
       "      <th>1</th>\n",
       "      <td>1000</td>\n",
       "      <td>6</td>\n",
       "      <td>43.0</td>\n",
       "      <td>172.0</td>\n",
       "      <td>60.0</td>\n",
       "      <td>49.0</td>\n",
       "      <td>ultra</td>\n",
       "      <td>Краснодар</td>\n",
       "    </tr>\n",
       "    <tr>\n",
       "      <th>2</th>\n",
       "      <td>1000</td>\n",
       "      <td>7</td>\n",
       "      <td>47.0</td>\n",
       "      <td>340.0</td>\n",
       "      <td>75.0</td>\n",
       "      <td>28.0</td>\n",
       "      <td>ultra</td>\n",
       "      <td>Краснодар</td>\n",
       "    </tr>\n",
       "    <tr>\n",
       "      <th>3</th>\n",
       "      <td>1000</td>\n",
       "      <td>8</td>\n",
       "      <td>52.0</td>\n",
       "      <td>408.0</td>\n",
       "      <td>81.0</td>\n",
       "      <td>27.0</td>\n",
       "      <td>ultra</td>\n",
       "      <td>Краснодар</td>\n",
       "    </tr>\n",
       "    <tr>\n",
       "      <th>4</th>\n",
       "      <td>1000</td>\n",
       "      <td>9</td>\n",
       "      <td>58.0</td>\n",
       "      <td>466.0</td>\n",
       "      <td>57.0</td>\n",
       "      <td>26.0</td>\n",
       "      <td>ultra</td>\n",
       "      <td>Краснодар</td>\n",
       "    </tr>\n",
       "  </tbody>\n",
       "</table>\n",
       "</div>"
      ],
      "text/plain": [
       "   user_id  month  calls_count  calls_duration  messages_sent  \\\n",
       "0     1000      5         22.0           159.0           22.0   \n",
       "1     1000      6         43.0           172.0           60.0   \n",
       "2     1000      7         47.0           340.0           75.0   \n",
       "3     1000      8         52.0           408.0           81.0   \n",
       "4     1000      9         58.0           466.0           57.0   \n",
       "\n",
       "   internet_mb_used tariff       city  \n",
       "0               4.0  ultra  Краснодар  \n",
       "1              49.0  ultra  Краснодар  \n",
       "2              28.0  ultra  Краснодар  \n",
       "3              27.0  ultra  Краснодар  \n",
       "4              26.0  ultra  Краснодар  "
      ]
     },
     "execution_count": 52,
     "metadata": {},
     "output_type": "execute_result"
    }
   ],
   "source": [
    "# проверим\n",
    "new_table.head()"
   ]
  },
  {
   "cell_type": "code",
   "execution_count": 53,
   "metadata": {},
   "outputs": [
    {
     "data": {
      "text/plain": [
       "user_id               0\n",
       "month                 0\n",
       "calls_count          40\n",
       "calls_duration       40\n",
       "messages_sent       497\n",
       "internet_mb_used     11\n",
       "tariff                0\n",
       "city                  0\n",
       "dtype: int64"
      ]
     },
     "execution_count": 53,
     "metadata": {},
     "output_type": "execute_result"
    }
   ],
   "source": [
    "# проверим на пропуски\n",
    "new_table.isna().sum()"
   ]
  },
  {
   "cell_type": "code",
   "execution_count": 54,
   "metadata": {},
   "outputs": [],
   "source": [
    "# заменим пропуски на нули\n",
    "new_table = new_table.fillna(0)"
   ]
  },
  {
   "cell_type": "code",
   "execution_count": 55,
   "metadata": {},
   "outputs": [
    {
     "data": {
      "text/plain": [
       "user_id             0\n",
       "month               0\n",
       "calls_count         0\n",
       "calls_duration      0\n",
       "messages_sent       0\n",
       "internet_mb_used    0\n",
       "tariff              0\n",
       "city                0\n",
       "dtype: int64"
      ]
     },
     "execution_count": 55,
     "metadata": {},
     "output_type": "execute_result"
    }
   ],
   "source": [
    "# проверим еще раз на пропуски\n",
    "new_table.isna().sum()"
   ]
  },
  {
   "cell_type": "code",
   "execution_count": 56,
   "metadata": {},
   "outputs": [],
   "source": [
    "# напишем функцию для рассчета выручки с каждого пользователя\n",
    "\n",
    "# на вход устанавливаем строку и обращаемся к таблице tariffs\n",
    "def users_benefits(row, tariffs = tariffs):\n",
    "    \n",
    "    # создаем переменные с данными о:\n",
    "    short_min = row['calls_duration'] # продолжительности звонков\n",
    "    short_message = row['messages_sent'] # количестве отправленных сообщений\n",
    "    short_internet = row['internet_mb_used'] # объеме израсходованного трафика\n",
    "    tariff = row['tariff'] # названии тарифа\n",
    "\n",
    "    # создаем переменные с данными о:\n",
    "    minutes_lim = tariffs.loc[tariff, 'minutes_included'] # лимите звонков\n",
    "    mess_lim = tariffs.loc[tariff, 'messages_included'] # лимите сообщений\n",
    "    inter_lim = tariffs.loc[tariff, 'mb_per_month_included'] # лимите интернет-трафика\n",
    "    \n",
    "    # посчитаем переплату по тарифному плану для каждой категории\n",
    "    \n",
    "    # звонки\n",
    "    call_overlimit = max(short_min - minutes_lim, 0)\n",
    "    call_overpay = call_overlimit * tariffs.loc[tariff, 'rub_per_minute']\n",
    "    \n",
    "    # сообщения\n",
    "    messages_overlimit = max(short_message - mess_lim, 0)\n",
    "    messages_overpay = messages_overlimit * tariffs.loc[tariff, 'rub_per_message']\n",
    "    \n",
    "    # интернет-трафик\n",
    "    internet_overlimit = max(short_internet - inter_lim, 0)\n",
    "    internet_overpay = internet_overlimit * tariffs.loc[tariff, 'rub_per_gb']\n",
    "    \n",
    "    # рассчитаем выручку с каждого пользователя\n",
    "    profit = call_overpay + messages_overpay + internet_overpay + tariffs.loc[tariff, 'rub_monthly_fee']\n",
    "    return profit\n",
    "\n",
    "# создаем новый столбец profit в датасете new_table\n",
    "new_table['profit'] = new_table[['tariff', 'calls_duration', 'internet_mb_used', 'messages_sent']]\\\n",
    ".apply(users_benefits, axis = 1)"
   ]
  },
  {
   "cell_type": "markdown",
   "metadata": {},
   "source": [
    "### <a id='step4'>Исследовательский анализ данных</a>"
   ]
  },
  {
   "cell_type": "code",
   "execution_count": 57,
   "metadata": {},
   "outputs": [],
   "source": [
    "# посчитаем среднее, дисперсию и стандартное отклонение для минут, сообщений и объема интернет-трафика\n",
    "new_table_pivot = new_table\\\n",
    ".pivot_table(columns = 'tariff', values = ['calls_count', 'calls_duration', 'messages_sent', 'internet_mb_used'], \\\n",
    "             aggfunc = ['mean', lambda x: np.var(x, ddof=0), np.std])\n",
    "\n",
    "# переименуем колонки\n",
    "new_table_pivot.columns= ['mean_smart', 'mean_ultra', 'variance_smart', 'variance_ultra', 'std_smart', 'std_ultra']"
   ]
  },
  {
   "cell_type": "code",
   "execution_count": 58,
   "metadata": {},
   "outputs": [
    {
     "data": {
      "text/html": [
       "<div>\n",
       "<style scoped>\n",
       "    .dataframe tbody tr th:only-of-type {\n",
       "        vertical-align: middle;\n",
       "    }\n",
       "\n",
       "    .dataframe tbody tr th {\n",
       "        vertical-align: top;\n",
       "    }\n",
       "\n",
       "    .dataframe thead th {\n",
       "        text-align: right;\n",
       "    }\n",
       "</style>\n",
       "<table border=\"1\" class=\"dataframe\">\n",
       "  <thead>\n",
       "    <tr style=\"text-align: right;\">\n",
       "      <th></th>\n",
       "      <th>mean_smart</th>\n",
       "      <th>mean_ultra</th>\n",
       "      <th>variance_smart</th>\n",
       "      <th>variance_ultra</th>\n",
       "      <th>std_smart</th>\n",
       "      <th>std_ultra</th>\n",
       "    </tr>\n",
       "  </thead>\n",
       "  <tbody>\n",
       "    <tr>\n",
       "      <th>calls_count</th>\n",
       "      <td>58.463437</td>\n",
       "      <td>73.392893</td>\n",
       "      <td>672.574370</td>\n",
       "      <td>1926.731929</td>\n",
       "      <td>25.939858</td>\n",
       "      <td>43.916853</td>\n",
       "    </tr>\n",
       "    <tr>\n",
       "      <th>calls_duration</th>\n",
       "      <td>417.934948</td>\n",
       "      <td>526.623350</td>\n",
       "      <td>36203.066652</td>\n",
       "      <td>100771.223617</td>\n",
       "      <td>190.313730</td>\n",
       "      <td>317.606098</td>\n",
       "    </tr>\n",
       "    <tr>\n",
       "      <th>internet_mb_used</th>\n",
       "      <td>42.418125</td>\n",
       "      <td>38.164467</td>\n",
       "      <td>223.196190</td>\n",
       "      <td>382.387164</td>\n",
       "      <td>14.943104</td>\n",
       "      <td>19.564656</td>\n",
       "    </tr>\n",
       "    <tr>\n",
       "      <th>messages_sent</th>\n",
       "      <td>33.384029</td>\n",
       "      <td>49.363452</td>\n",
       "      <td>796.455483</td>\n",
       "      <td>2282.946075</td>\n",
       "      <td>28.227876</td>\n",
       "      <td>47.804457</td>\n",
       "    </tr>\n",
       "  </tbody>\n",
       "</table>\n",
       "</div>"
      ],
      "text/plain": [
       "                  mean_smart  mean_ultra  variance_smart  variance_ultra  \\\n",
       "calls_count        58.463437   73.392893      672.574370     1926.731929   \n",
       "calls_duration    417.934948  526.623350    36203.066652   100771.223617   \n",
       "internet_mb_used   42.418125   38.164467      223.196190      382.387164   \n",
       "messages_sent      33.384029   49.363452      796.455483     2282.946075   \n",
       "\n",
       "                   std_smart   std_ultra  \n",
       "calls_count        25.939858   43.916853  \n",
       "calls_duration    190.313730  317.606098  \n",
       "internet_mb_used   14.943104   19.564656  \n",
       "messages_sent      28.227876   47.804457  "
      ]
     },
     "execution_count": 58,
     "metadata": {},
     "output_type": "execute_result"
    }
   ],
   "source": [
    "# выведем значения\n",
    "new_table_pivot.head()"
   ]
  },
  {
   "cell_type": "code",
   "execution_count": 59,
   "metadata": {},
   "outputs": [
    {
     "data": {
      "image/png": "[encoded data removed]",
      "text/plain": [
       "<Figure size 720x432 with 1 Axes>"
      ]
     },
     "metadata": {},
     "output_type": "display_data"
    },
    {
     "data": {
      "image/png": "[encoded data removed]",
      "text/plain": [
       "<Figure size 720x432 with 1 Axes>"
      ]
     },
     "metadata": {},
     "output_type": "display_data"
    },
    {
     "data": {
      "image/png": "[encoded data removed]",
      "text/plain": [
       "<Figure size 720x432 with 1 Axes>"
      ]
     },
     "metadata": {},
     "output_type": "display_data"
    }
   ],
   "source": [
    "# построим графики для распределений\n",
    "\n",
    "# словарь для графиков\n",
    "dict_for_hist = {'calls_duration' : ['Количество израсходованных минут', 'Потрачено минут'],\n",
    "                 'internet_mb_used' : ['Объем израсходованного интернет-трафика', 'Израсходовано трафика'],\n",
    "                 'messages_sent' : ['Количество отправленных сообщений', 'Отправлено сообщений']}\n",
    "\n",
    "sns.set(rc={'figure.figsize':(10, 6)})\n",
    "\n",
    "# цикл для построения\n",
    "for column in dict_for_hist.keys():\n",
    "    sns.histplot(data = new_table.query('tariff == \"smart\"')[column], label='Тариф Смарт', color = 'red')\n",
    "    sns.histplot(data = new_table.query('tariff == \"ultra\"')[column], label='Тариф Ультра', color = 'gold')\n",
    "    plt.title(dict_for_hist[column][0])\n",
    "    plt.xlabel(dict_for_hist[column][1])\n",
    "    plt.ylabel('Количество пользователей')\n",
    "    plt.legend()\n",
    "    plt.show();"
   ]
  },
  {
   "cell_type": "markdown",
   "metadata": {},
   "source": [
    "#### Вывод\n",
    "\n",
    "\n",
    "#### Статистики тарифа \"Смарт\"\n",
    "- Средние значения столбцов: calls_count - 58 звонков, calls_duration - 418 минут, internet_mb_used - 40 гигабайт, messages_sent - 33 сообщения;\n",
    "- Дисперсия: calls_count - 672, calls_duration - 36203, internet_mb_used - 223, messages_sent - 796;\n",
    "- Стандартное отклонение - calls_count - 25, calls_duration - 190, internet_mb_used - 14, messages_sent - 28.\n",
    "\n",
    "---\n",
    "\n",
    "#### Статистики тарифа \"Ультра\"\n",
    "- Средние значения столбцов: calls_count - 73 звонка, calls_duration - 527 минут, internet_mb_used - 35 гигабайт, messages_sent - 49 сообщения;\n",
    "- Дисперсия: calls_count - 1926, calls_duration - 100771, internet_mb_used - 382, messages_sent - 2282;\n",
    "- Стандартное отклонение - calls_count - 44, calls_duration - 318, internet_mb_used - 39, messages_sent - 48.\n",
    "\n",
    "---\n",
    "\n",
    "#### Описание распределений  на основании графиков\n",
    "\n",
    "#### График \"Количество израсходованных минут\"\n",
    "- Тарифом \"Смарт\" пользуется больше пользователей, чем тарифом \"Ультра\";\n",
    "- Основной расход минут на тарифе \"Смарт\" распределен на промежутке от 150 до 700 минут, с последующим спадом до нуля;\n",
    "- Основной расход минут на тарифе \"Ультра\" распределен на промежутке от 0 до 1300 минут, с последующим спадом до нуля;\n",
    "- Пользователи тарифа \"Смарт\" чаще превышают лимит, установленный тарифным планом.\n",
    "\n",
    "#### Тарифом \"Смарт\" пользуется большое количество людей. Они чаше превышают лимит минут, установленных тарифным планом, что приводит к дополнительным тратам на обслуживание.\n",
    "\n",
    "---\n",
    "\n",
    "#### График \"Объем израсходованного интернет-трафика\"\n",
    "- Тариф \"Смарт\" пользуется больше людей;\n",
    "- Основной объем израсходованного трафика на тарифе \"Смарт\" распределен в диапазоне от 8 гигабайт до 25 гигабайт;\n",
    "- Основной объем израсходованного трафика на тарифе \"Ультра\" распределен в диапазоне от 5 гигабайт до 35 гигабайт;\n",
    "- Пользователи тарифа \"Смарт\" чаще превышают лимит, установленный тарифным планом.\n",
    "\n",
    "#### Тарифом \"Смарт\" пользуется большое количество людей. Они чаше превышают лимит минут, установленных тарифным планом, что приводит к дополнительным тратам на обслуживание.  Пользователи тарифа \"Ультра\" тоже превышают установленный лимит, но не так часто, что может свидетельствовать о достаточном объеме лимитного трафика.\n",
    "\n",
    "---\n",
    "\n",
    "#### График \"Количество отправленных сообщений\"\n",
    "- Тарифом \"Смарт\" пользуется большое количество людей;\n",
    "- Некоторое пользователи практически не пользуются смс-сообщениями, о чем говорит и маленькое количество отправленных сообщений на обоих тарифах, и графические распределения;\n",
    "- Пользователи тарифа \"Смарт\" снова превышают установленный лимит, а пользователи тарифа \"Ультра\" едва ли используют 25% предоставленного лимита.\n",
    "\n",
    "#### Тарифом \"Смарт\" пользуется большое количество людей. Пользователи тарифа \"Смарт\" чаще превышают установленный лимит. Пользователи тарифа \"Ультра\" практически не отправляют сообщений.\n",
    "\n",
    "--- \n",
    "\n",
    "#### Общий вывод:\n",
    "- Тарифом \"Смарт\" пользуется большее количество людей;\n",
    "- Пользователи тарифа \"Смарт\" чаще превышают лимит, установленный на звонки, смс и интернет;\n",
    "- Пользователи тарифа \"Смарт\" чаще переплачивают, соответственно, приносят большую выручку;\n",
    "- Несмотря на то, что тариф \"Ультра\" более дорогой, он более удобен для пользователей.\n",
    "\n",
    "#### Сделаю предположение: тарифный план \"Смарт\" для компании выгоднее, чем тарифный план \"Ультра\"."
   ]
  },
  {
   "cell_type": "markdown",
   "metadata": {},
   "source": [
    "### <a id='step5'>Проверка гипотез</a>"
   ]
  },
  {
   "cell_type": "code",
   "execution_count": 60,
   "metadata": {},
   "outputs": [],
   "source": [
    "# создаю отдельные датафреймы с выручкой пользователей для каждого тарифного плана\n",
    "\n",
    "# smart\n",
    "profit_smart = new_table[new_table['tariff'] == 'smart']['profit']\n",
    "\n",
    "# ultra\n",
    "profit_ultra = new_table[new_table['tariff'] == 'ultra']['profit']"
   ]
  },
  {
   "cell_type": "markdown",
   "metadata": {},
   "source": [
    "#### H0 - средняя выручка пользователей тарифов \"Ультра\" и \"Смарт\" не различается.\n",
    "#### H1 - средняя выручка пользователей тарифов \"Ультра\" и \"Смарт\" различается."
   ]
  },
  {
   "cell_type": "code",
   "execution_count": 61,
   "metadata": {},
   "outputs": [
    {
     "name": "stdout",
     "output_type": "stream",
     "text": [
      "p-значение:  3.366123216919074e-132\n",
      "Отвергаем нулевую гипотезу\n"
     ]
    }
   ],
   "source": [
    "# проверим гипотезу \"средняя выручка пользователей тарифов «Ультра» и «Смарт» различается\"\n",
    "\n",
    "alpha = .05  # критический уровень статистической значимости \n",
    "\n",
    "# ttest\n",
    "results = st.ttest_ind(profit_smart, profit_ultra, equal_var = False)\n",
    "\n",
    "print('p-значение: ', results.pvalue)\n",
    "\n",
    "if (results.pvalue < alpha):\n",
    "    print(\"Отвергаем нулевую гипотезу\")\n",
    "else:\n",
    "    print(\"Не получилось отвергнуть нулевую гипотезу\")"
   ]
  },
  {
   "cell_type": "code",
   "execution_count": 62,
   "metadata": {},
   "outputs": [],
   "source": [
    "# создаю отдельные датафреймы с выручкой пользователей для каждого тарифного плана для Москвы, Санкт-Петербурга и регионов\n",
    "\n",
    "# для этого произведем категоризацию столбца 'city' датафрейма users отделив Москву от регионов\n",
    "def category(city):\n",
    "    if 'Москва' in city:\n",
    "        return 'Москва'\n",
    "    return 'Регион'\n",
    "\n",
    "# добавим столбец\n",
    "new_table['city_category'] = new_table['city'].apply(category)\n",
    "\n",
    "# датасет для Москвы\n",
    "profit_msc = new_table[new_table['city_category'] == 'Москва']['profit']\n",
    "\n",
    "# датасет для регионов\n",
    "profit_reg = new_table[new_table['city_category'] == 'Регион']['profit']"
   ]
  },
  {
   "cell_type": "markdown",
   "metadata": {},
   "source": [
    "#### H0 - средняя выручка пользователей из Москвы не отличается от выручки пользователей из других регионов.\n",
    "#### H1 - средняя выручка пользователей из Москвы отличается от выручки пользователей из других регионов."
   ]
  },
  {
   "cell_type": "code",
   "execution_count": 63,
   "metadata": {},
   "outputs": [
    {
     "name": "stdout",
     "output_type": "stream",
     "text": [
      "p-значение:  0.25438147756433427\n",
      "Не получилось отвергнуть нулевую гипотезу\n"
     ]
    }
   ],
   "source": [
    "# проверим гипотезу \"средняя выручка пользователей из Москвы отличается от выручки пользователей из других регионов\"\n",
    "\n",
    "alpha = .05\n",
    "\n",
    "# ttest\n",
    "results = st.ttest_ind(profit_msc, profit_reg, equal_var = False)\n",
    "\n",
    "print('p-значение: ', results.pvalue)\n",
    "\n",
    "if (results.pvalue < alpha):\n",
    "    print(\"Отвергаем нулевую гипотезу\")\n",
    "else:\n",
    "    print(\"Не получилось отвергнуть нулевую гипотезу\")"
   ]
  },
  {
   "cell_type": "markdown",
   "metadata": {},
   "source": [
    "### <a id='step6'>Общий вывод</a>"
   ]
  },
  {
   "cell_type": "markdown",
   "metadata": {},
   "source": [
    "#### Задачей проекта было определить какой тарифный план выгоднее для компании.\n",
    "\n",
    "#### Средняя вырчука с каждого пользователя составила:\n",
    "- Тариф \"Смарт\" - 692 рубля;\n",
    "- Тариф \"Ультра\" - 1950 рублей.\n",
    "\n",
    "---\n",
    "\n",
    "#### Характеристика тарифных планов\n",
    "- Пользователей тарифного плана \"Смарт\" больше, чем пользователей тарифа \"Ультра\";\n",
    "- Пользователи тарифного плана \"Смарт\" чаще превышает установленный лимит на звонки, смс и интернет;\n",
    "- Пользователи тарифного плана \"Смарт\" чаще превышают установленные лимит и, соответственное, приносят большую выручку;\n",
    "- Тарифный план \"Ультра\" дороже, но более удобен для пользователей.\n",
    "\n",
    "#### В проекте также необходимо было проверить гипотезы:\n",
    "- h0 - средняя выручка пользователей тарифов «Ультра» и «Смарт» не различается;\n",
    "- h1 - средняя выручка пользователей тарифов «Ультра» и «Смарт» различается.\n",
    "#### Гипотеза h0 была отвергнута, а значит, что выручка между пользователями тарифа \"Смарт\" и \"Ультра\" различается.\n",
    "\n",
    "---\n",
    "\n",
    "- h0.1 - средняя выручка пользователей из Москвы не отличается от выручки пользователей из других регионов;\n",
    "- h.1.1 - средняя выручка пользователей из Москвы отличается от выручки пользователей из других регионов.\n",
    "#### Гипотеза h.0.1 не была отвергнута, что может говорить о том, что выручка между пользователями из Москвы не отличается от выручки пользователей из регионов.\n",
    "\n",
    "---\n",
    "\n",
    "#### По результатам исследования можно сделать вывод о том, что тариф \"Смарт\" выгоднее для компании, чем тариф \"Ультра\". Это обусловлено тем, что на нем пользователи чаще совершают перерасходы установленных лимит и, соотвественно, чаще приносят дополнительную выручку."
   ]
  }
 ],
 "metadata": {
  "kernelspec": {
   "display_name": "Python 3",
   "language": "python",
   "name": "python3"
  },
  "language_info": {
   "codemirror_mode": {
    "name": "ipython",
    "version": 3
   },
   "file_extension": ".py",
   "mimetype": "text/x-python",
   "name": "python",
   "nbconvert_exporter": "python",
   "pygments_lexer": "ipython3",
   "version": "3.7.6"
  }
 },
 "nbformat": 4,
 "nbformat_minor": 4
}
