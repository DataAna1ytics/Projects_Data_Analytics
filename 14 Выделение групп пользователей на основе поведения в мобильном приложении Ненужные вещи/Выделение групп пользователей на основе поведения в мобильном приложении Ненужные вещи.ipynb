{
 "cells": [
  {
   "cell_type": "markdown",
   "metadata": {},
   "source": [
    "## Выделение групп пользователей на основе поведения в мобильном приложении \"Ненужные вещи\""
   ]
  },
  {
   "cell_type": "markdown",
   "metadata": {},
   "source": [
    "### Шаг 1. Загрузка данных и изучение общей информации\n",
    "- Загрузить данные и получить первичное представление об их структуре и наполнении. \n",
    "\n",
    "### Шаг 2. Предобработка данных\n",
    "- Исследовать и обработать дубликаты;\n",
    "- Исследовать и заменить пропущенные значения;\n",
    "- В тех случаях, где необходимо, привести данные к соответствующим типам;\n",
    "- Если необходимо, то изменить и привести названия столбцов к нижнему регистру;\n",
    "- Объединить события show_contacts и contacts_show;\n",
    "- Объединить события search_1 - search_7;\n",
    "- Выделить из столбца с датой необходимые временные промежутки.\n",
    "\n",
    "### Шаг 3. Исследовательский анализ данных\n",
    "- Определить, сколько всего пользователей воспользовались приложением;\n",
    "- Определить, сколько пользователей приносят нам наши источники;\n",
    "- Построить график распределения событий по дням за исследуемый период;\n",
    "- Посчитать конверсию пользователей в целевое событие - просмотр контактов;\n",
    "- Определить время начала и конца события для каждого пользователя в приложении;\n",
    "- Сконструировать таблицу с признаками, необходимыми для последующей кластеризации;\n",
    "- Произвести рассчет следующих показателей: продолжительность каждого сеанса пользователя, количество совершения пользователем целевого действия, определить количество просмотров рекомендованных объявлений и добавлений объявления в избранное, посчитать общее время использования приложения для каждого пользователя;\n",
    "- построить графики распределения для признаков и написать вывод;\n",
    "- построить матрицу корреляция для признаков и написать вывод; \n",
    "- на основании получившихся признаков разобьем наших пользователей на группы при помощи ML;\n",
    "- построить графики распредления признаков для кластеров и описать получившиеся кластеры.\n",
    "\n",
    "### Шаг 4. Статистический анализ данных\n",
    "- Проверить гипотезу: Конверсия в просмотр контактов между пользователя, установившими приложение по ссылке из yandex и пользователями, установившими приложение по ссылке из google, различается;\n",
    "- Проверить гипотезу: Конверсия в добавление объявления в избранное между пользователями, установшими приложение по ссылке из yandex, различается от конверсии пользователей, установивших приложение по ссылке из google.\n",
    "\n",
    "### Шаг 6. Общий вывод \n",
    " - Написать общий вывод и составить небольшие рекомендации для маркетологов по повышению вовлеченности пользователей;\n",
    " - Подготовить презентацию с результатами исследований;\n",
    " - Подготовить дашборд в Tableau."
   ]
  },
  {
   "cell_type": "markdown",
   "metadata": {},
   "source": [
    "### Шаг 1. Загрузка данных и изучение общей информации"
   ]
  },
  {
   "cell_type": "code",
   "execution_count": 1,
   "metadata": {},
   "outputs": [],
   "source": [
    "# импортируем необходимые библиотеки\n",
    "import pandas as pd\n",
    "import datetime as dt\n",
    "import numpy as np\n",
    "import math as mth\n",
    "import scipy.stats as stats\n",
    "import seaborn as sns\n",
    "import matplotlib.pyplot as plt\n",
    "from sklearn.model_selection import train_test_split\n",
    "from sklearn.linear_model import LogisticRegression\n",
    "from sklearn.ensemble import RandomForestClassifier\n",
    "from sklearn.metrics import confusion_matrix\n",
    "from sklearn.metrics import accuracy_score, precision_score, recall_score, f1_score\n",
    "from sklearn.preprocessing import StandardScaler\n",
    "from scipy.cluster.hierarchy import dendrogram, linkage\n",
    "from sklearn.cluster import KMeans\n",
    "from matplotlib import pyplot\n",
    "from matplotlib import rcParams"
   ]
  },
  {
   "cell_type": "code",
   "execution_count": 2,
   "metadata": {},
   "outputs": [],
   "source": [
    "# отключим на будущее предупреждения об ошибках\n",
    "import warnings\n",
    "warnings.filterwarnings('ignore')"
   ]
  },
  {
   "cell_type": "code",
   "execution_count": 3,
   "metadata": {},
   "outputs": [],
   "source": [
    "# прочитаем датасет data\n",
    "data = pd.read_csv('/datasets/mobile_dataset.csv', sep = ',')"
   ]
  },
  {
   "cell_type": "code",
   "execution_count": 4,
   "metadata": {},
   "outputs": [],
   "source": [
    "# прочитаем датасет sources\n",
    "sources = pd.read_csv('datasets/mobile_soures.csv', sep = ',')"
   ]
  },
  {
   "cell_type": "code",
   "execution_count": 5,
   "metadata": {},
   "outputs": [
    {
     "name": "stdout",
     "output_type": "stream",
     "text": [
      "<class 'pandas.core.frame.DataFrame'>\n",
      "RangeIndex: 74197 entries, 0 to 74196\n",
      "Data columns (total 3 columns):\n",
      " #   Column      Non-Null Count  Dtype \n",
      "---  ------      --------------  ----- \n",
      " 0   event.time  74197 non-null  object\n",
      " 1   event.name  74197 non-null  object\n",
      " 2   user.id     74197 non-null  object\n",
      "dtypes: object(3)\n",
      "memory usage: 1.7+ MB\n",
      "None\n",
      "<class 'pandas.core.frame.DataFrame'>\n",
      "RangeIndex: 4293 entries, 0 to 4292\n",
      "Data columns (total 2 columns):\n",
      " #   Column  Non-Null Count  Dtype \n",
      "---  ------  --------------  ----- \n",
      " 0   userId  4293 non-null   object\n",
      " 1   source  4293 non-null   object\n",
      "dtypes: object(2)\n",
      "memory usage: 67.2+ KB\n",
      "None\n"
     ]
    }
   ],
   "source": [
    "# первичное представление о данных \n",
    "for df in [data, sources]:\n",
    "    print(df.info())"
   ]
  },
  {
   "cell_type": "code",
   "execution_count": 6,
   "metadata": {},
   "outputs": [
    {
     "name": "stdout",
     "output_type": "stream",
     "text": [
      "event.time    0\n",
      "event.name    0\n",
      "user.id       0\n",
      "dtype: int64\n",
      "userId    0\n",
      "source    0\n",
      "dtype: int64\n"
     ]
    }
   ],
   "source": [
    "# проверка пропущенных значений\n",
    "for df in [data, sources]:\n",
    "    print(df.isna().sum())"
   ]
  },
  {
   "cell_type": "code",
   "execution_count": 7,
   "metadata": {},
   "outputs": [
    {
     "name": "stdout",
     "output_type": "stream",
     "text": [
      "0\n",
      "0\n"
     ]
    }
   ],
   "source": [
    "# проверка дубликатов \n",
    "for df in [data, sources]:\n",
    "    print(df.duplicated().sum())"
   ]
  },
  {
   "cell_type": "code",
   "execution_count": 8,
   "metadata": {},
   "outputs": [
    {
     "data": {
      "text/html": [
       "<div>\n",
       "<style scoped>\n",
       "    .dataframe tbody tr th:only-of-type {\n",
       "        vertical-align: middle;\n",
       "    }\n",
       "\n",
       "    .dataframe tbody tr th {\n",
       "        vertical-align: top;\n",
       "    }\n",
       "\n",
       "    .dataframe thead th {\n",
       "        text-align: right;\n",
       "    }\n",
       "</style>\n",
       "<table border=\"1\" class=\"dataframe\">\n",
       "  <thead>\n",
       "    <tr style=\"text-align: right;\">\n",
       "      <th></th>\n",
       "      <th>event.time</th>\n",
       "      <th>event.name</th>\n",
       "      <th>user.id</th>\n",
       "    </tr>\n",
       "  </thead>\n",
       "  <tbody>\n",
       "    <tr>\n",
       "      <th>0</th>\n",
       "      <td>2019-10-07 00:00:00.431357</td>\n",
       "      <td>advert_open</td>\n",
       "      <td>020292ab-89bc-4156-9acf-68bc2783f894</td>\n",
       "    </tr>\n",
       "    <tr>\n",
       "      <th>1</th>\n",
       "      <td>2019-10-07 00:00:01.236320</td>\n",
       "      <td>tips_show</td>\n",
       "      <td>020292ab-89bc-4156-9acf-68bc2783f894</td>\n",
       "    </tr>\n",
       "    <tr>\n",
       "      <th>2</th>\n",
       "      <td>2019-10-07 00:00:02.245341</td>\n",
       "      <td>tips_show</td>\n",
       "      <td>cf7eda61-9349-469f-ac27-e5b6f5ec475c</td>\n",
       "    </tr>\n",
       "    <tr>\n",
       "      <th>3</th>\n",
       "      <td>2019-10-07 00:00:07.039334</td>\n",
       "      <td>tips_show</td>\n",
       "      <td>020292ab-89bc-4156-9acf-68bc2783f894</td>\n",
       "    </tr>\n",
       "    <tr>\n",
       "      <th>4</th>\n",
       "      <td>2019-10-07 00:00:56.319813</td>\n",
       "      <td>advert_open</td>\n",
       "      <td>cf7eda61-9349-469f-ac27-e5b6f5ec475c</td>\n",
       "    </tr>\n",
       "  </tbody>\n",
       "</table>\n",
       "</div>"
      ],
      "text/plain": [
       "                   event.time   event.name  \\\n",
       "0  2019-10-07 00:00:00.431357  advert_open   \n",
       "1  2019-10-07 00:00:01.236320    tips_show   \n",
       "2  2019-10-07 00:00:02.245341    tips_show   \n",
       "3  2019-10-07 00:00:07.039334    tips_show   \n",
       "4  2019-10-07 00:00:56.319813  advert_open   \n",
       "\n",
       "                                user.id  \n",
       "0  020292ab-89bc-4156-9acf-68bc2783f894  \n",
       "1  020292ab-89bc-4156-9acf-68bc2783f894  \n",
       "2  cf7eda61-9349-469f-ac27-e5b6f5ec475c  \n",
       "3  020292ab-89bc-4156-9acf-68bc2783f894  \n",
       "4  cf7eda61-9349-469f-ac27-e5b6f5ec475c  "
      ]
     },
     "metadata": {},
     "output_type": "display_data"
    },
    {
     "data": {
      "text/html": [
       "<div>\n",
       "<style scoped>\n",
       "    .dataframe tbody tr th:only-of-type {\n",
       "        vertical-align: middle;\n",
       "    }\n",
       "\n",
       "    .dataframe tbody tr th {\n",
       "        vertical-align: top;\n",
       "    }\n",
       "\n",
       "    .dataframe thead th {\n",
       "        text-align: right;\n",
       "    }\n",
       "</style>\n",
       "<table border=\"1\" class=\"dataframe\">\n",
       "  <thead>\n",
       "    <tr style=\"text-align: right;\">\n",
       "      <th></th>\n",
       "      <th>userId</th>\n",
       "      <th>source</th>\n",
       "    </tr>\n",
       "  </thead>\n",
       "  <tbody>\n",
       "    <tr>\n",
       "      <th>0</th>\n",
       "      <td>020292ab-89bc-4156-9acf-68bc2783f894</td>\n",
       "      <td>other</td>\n",
       "    </tr>\n",
       "    <tr>\n",
       "      <th>1</th>\n",
       "      <td>cf7eda61-9349-469f-ac27-e5b6f5ec475c</td>\n",
       "      <td>yandex</td>\n",
       "    </tr>\n",
       "    <tr>\n",
       "      <th>2</th>\n",
       "      <td>8c356c42-3ba9-4cb6-80b8-3f868d0192c3</td>\n",
       "      <td>yandex</td>\n",
       "    </tr>\n",
       "    <tr>\n",
       "      <th>3</th>\n",
       "      <td>d9b06b47-0f36-419b-bbb0-3533e582a6cb</td>\n",
       "      <td>other</td>\n",
       "    </tr>\n",
       "    <tr>\n",
       "      <th>4</th>\n",
       "      <td>f32e1e2a-3027-4693-b793-b7b3ff274439</td>\n",
       "      <td>google</td>\n",
       "    </tr>\n",
       "  </tbody>\n",
       "</table>\n",
       "</div>"
      ],
      "text/plain": [
       "                                 userId  source\n",
       "0  020292ab-89bc-4156-9acf-68bc2783f894   other\n",
       "1  cf7eda61-9349-469f-ac27-e5b6f5ec475c  yandex\n",
       "2  8c356c42-3ba9-4cb6-80b8-3f868d0192c3  yandex\n",
       "3  d9b06b47-0f36-419b-bbb0-3533e582a6cb   other\n",
       "4  f32e1e2a-3027-4693-b793-b7b3ff274439  google"
      ]
     },
     "metadata": {},
     "output_type": "display_data"
    }
   ],
   "source": [
    "# первые пять строк датасетов\n",
    "for df in [data, sources]:\n",
    "    display(df.head())"
   ]
  },
  {
   "cell_type": "markdown",
   "metadata": {},
   "source": [
    "### Вывод\n",
    "- дубликатов и пропущенных значений не обнаружено;\n",
    "- нужно изменить названия столбцов в обоих датасетах;\n",
    "- привести столбец с датой к формату даты;\n",
    "- необходимо изменить названия столбцов в обоих датасетах и привести их к нижнему регистру;\n",
    "- привести столбец с датой к формату даты;\n",
    "- объединить события show_contact и contact_show;\n",
    "- объединить события search_1 - search_7 в одно."
   ]
  },
  {
   "cell_type": "markdown",
   "metadata": {},
   "source": [
    "### Шаг 2. Предобработка данных"
   ]
  },
  {
   "cell_type": "code",
   "execution_count": 9,
   "metadata": {},
   "outputs": [
    {
     "data": {
      "text/html": [
       "<div>\n",
       "<style scoped>\n",
       "    .dataframe tbody tr th:only-of-type {\n",
       "        vertical-align: middle;\n",
       "    }\n",
       "\n",
       "    .dataframe tbody tr th {\n",
       "        vertical-align: top;\n",
       "    }\n",
       "\n",
       "    .dataframe thead th {\n",
       "        text-align: right;\n",
       "    }\n",
       "</style>\n",
       "<table border=\"1\" class=\"dataframe\">\n",
       "  <thead>\n",
       "    <tr style=\"text-align: right;\">\n",
       "      <th></th>\n",
       "      <th>event_time</th>\n",
       "      <th>event_name</th>\n",
       "      <th>user_id</th>\n",
       "    </tr>\n",
       "  </thead>\n",
       "  <tbody>\n",
       "    <tr>\n",
       "      <th>0</th>\n",
       "      <td>2019-10-07 00:00:00.431357</td>\n",
       "      <td>advert_open</td>\n",
       "      <td>020292ab-89bc-4156-9acf-68bc2783f894</td>\n",
       "    </tr>\n",
       "    <tr>\n",
       "      <th>1</th>\n",
       "      <td>2019-10-07 00:00:01.236320</td>\n",
       "      <td>tips_show</td>\n",
       "      <td>020292ab-89bc-4156-9acf-68bc2783f894</td>\n",
       "    </tr>\n",
       "    <tr>\n",
       "      <th>2</th>\n",
       "      <td>2019-10-07 00:00:02.245341</td>\n",
       "      <td>tips_show</td>\n",
       "      <td>cf7eda61-9349-469f-ac27-e5b6f5ec475c</td>\n",
       "    </tr>\n",
       "    <tr>\n",
       "      <th>3</th>\n",
       "      <td>2019-10-07 00:00:07.039334</td>\n",
       "      <td>tips_show</td>\n",
       "      <td>020292ab-89bc-4156-9acf-68bc2783f894</td>\n",
       "    </tr>\n",
       "    <tr>\n",
       "      <th>4</th>\n",
       "      <td>2019-10-07 00:00:56.319813</td>\n",
       "      <td>advert_open</td>\n",
       "      <td>cf7eda61-9349-469f-ac27-e5b6f5ec475c</td>\n",
       "    </tr>\n",
       "  </tbody>\n",
       "</table>\n",
       "</div>"
      ],
      "text/plain": [
       "                   event_time   event_name  \\\n",
       "0  2019-10-07 00:00:00.431357  advert_open   \n",
       "1  2019-10-07 00:00:01.236320    tips_show   \n",
       "2  2019-10-07 00:00:02.245341    tips_show   \n",
       "3  2019-10-07 00:00:07.039334    tips_show   \n",
       "4  2019-10-07 00:00:56.319813  advert_open   \n",
       "\n",
       "                                user_id  \n",
       "0  020292ab-89bc-4156-9acf-68bc2783f894  \n",
       "1  020292ab-89bc-4156-9acf-68bc2783f894  \n",
       "2  cf7eda61-9349-469f-ac27-e5b6f5ec475c  \n",
       "3  020292ab-89bc-4156-9acf-68bc2783f894  \n",
       "4  cf7eda61-9349-469f-ac27-e5b6f5ec475c  "
      ]
     },
     "execution_count": 9,
     "metadata": {},
     "output_type": "execute_result"
    }
   ],
   "source": [
    "# изменим названия столбцов data\n",
    "data.columns = ['event_time', 'event_name', 'user_id']\n",
    "data.head()"
   ]
  },
  {
   "cell_type": "code",
   "execution_count": 10,
   "metadata": {},
   "outputs": [
    {
     "data": {
      "text/html": [
       "<div>\n",
       "<style scoped>\n",
       "    .dataframe tbody tr th:only-of-type {\n",
       "        vertical-align: middle;\n",
       "    }\n",
       "\n",
       "    .dataframe tbody tr th {\n",
       "        vertical-align: top;\n",
       "    }\n",
       "\n",
       "    .dataframe thead th {\n",
       "        text-align: right;\n",
       "    }\n",
       "</style>\n",
       "<table border=\"1\" class=\"dataframe\">\n",
       "  <thead>\n",
       "    <tr style=\"text-align: right;\">\n",
       "      <th></th>\n",
       "      <th>user_id</th>\n",
       "      <th>source</th>\n",
       "    </tr>\n",
       "  </thead>\n",
       "  <tbody>\n",
       "    <tr>\n",
       "      <th>0</th>\n",
       "      <td>020292ab-89bc-4156-9acf-68bc2783f894</td>\n",
       "      <td>other</td>\n",
       "    </tr>\n",
       "    <tr>\n",
       "      <th>1</th>\n",
       "      <td>cf7eda61-9349-469f-ac27-e5b6f5ec475c</td>\n",
       "      <td>yandex</td>\n",
       "    </tr>\n",
       "    <tr>\n",
       "      <th>2</th>\n",
       "      <td>8c356c42-3ba9-4cb6-80b8-3f868d0192c3</td>\n",
       "      <td>yandex</td>\n",
       "    </tr>\n",
       "    <tr>\n",
       "      <th>3</th>\n",
       "      <td>d9b06b47-0f36-419b-bbb0-3533e582a6cb</td>\n",
       "      <td>other</td>\n",
       "    </tr>\n",
       "    <tr>\n",
       "      <th>4</th>\n",
       "      <td>f32e1e2a-3027-4693-b793-b7b3ff274439</td>\n",
       "      <td>google</td>\n",
       "    </tr>\n",
       "  </tbody>\n",
       "</table>\n",
       "</div>"
      ],
      "text/plain": [
       "                                user_id  source\n",
       "0  020292ab-89bc-4156-9acf-68bc2783f894   other\n",
       "1  cf7eda61-9349-469f-ac27-e5b6f5ec475c  yandex\n",
       "2  8c356c42-3ba9-4cb6-80b8-3f868d0192c3  yandex\n",
       "3  d9b06b47-0f36-419b-bbb0-3533e582a6cb   other\n",
       "4  f32e1e2a-3027-4693-b793-b7b3ff274439  google"
      ]
     },
     "execution_count": 10,
     "metadata": {},
     "output_type": "execute_result"
    }
   ],
   "source": [
    "# изменим названия столбцов sources\n",
    "sources.columns = ['user_id', 'source']\n",
    "sources.head()"
   ]
  },
  {
   "cell_type": "code",
   "execution_count": 11,
   "metadata": {},
   "outputs": [
    {
     "data": {
      "text/html": [
       "<div>\n",
       "<style scoped>\n",
       "    .dataframe tbody tr th:only-of-type {\n",
       "        vertical-align: middle;\n",
       "    }\n",
       "\n",
       "    .dataframe tbody tr th {\n",
       "        vertical-align: top;\n",
       "    }\n",
       "\n",
       "    .dataframe thead th {\n",
       "        text-align: right;\n",
       "    }\n",
       "</style>\n",
       "<table border=\"1\" class=\"dataframe\">\n",
       "  <thead>\n",
       "    <tr style=\"text-align: right;\">\n",
       "      <th></th>\n",
       "      <th>event_time</th>\n",
       "      <th>event_name</th>\n",
       "      <th>user_id</th>\n",
       "    </tr>\n",
       "  </thead>\n",
       "  <tbody>\n",
       "    <tr>\n",
       "      <th>0</th>\n",
       "      <td>2019-10-07 00:00:00</td>\n",
       "      <td>advert_open</td>\n",
       "      <td>020292ab-89bc-4156-9acf-68bc2783f894</td>\n",
       "    </tr>\n",
       "    <tr>\n",
       "      <th>1</th>\n",
       "      <td>2019-10-07 00:00:01</td>\n",
       "      <td>tips_show</td>\n",
       "      <td>020292ab-89bc-4156-9acf-68bc2783f894</td>\n",
       "    </tr>\n",
       "    <tr>\n",
       "      <th>2</th>\n",
       "      <td>2019-10-07 00:00:02</td>\n",
       "      <td>tips_show</td>\n",
       "      <td>cf7eda61-9349-469f-ac27-e5b6f5ec475c</td>\n",
       "    </tr>\n",
       "    <tr>\n",
       "      <th>3</th>\n",
       "      <td>2019-10-07 00:00:07</td>\n",
       "      <td>tips_show</td>\n",
       "      <td>020292ab-89bc-4156-9acf-68bc2783f894</td>\n",
       "    </tr>\n",
       "    <tr>\n",
       "      <th>4</th>\n",
       "      <td>2019-10-07 00:00:56</td>\n",
       "      <td>advert_open</td>\n",
       "      <td>cf7eda61-9349-469f-ac27-e5b6f5ec475c</td>\n",
       "    </tr>\n",
       "  </tbody>\n",
       "</table>\n",
       "</div>"
      ],
      "text/plain": [
       "           event_time   event_name                               user_id\n",
       "0 2019-10-07 00:00:00  advert_open  020292ab-89bc-4156-9acf-68bc2783f894\n",
       "1 2019-10-07 00:00:01    tips_show  020292ab-89bc-4156-9acf-68bc2783f894\n",
       "2 2019-10-07 00:00:02    tips_show  cf7eda61-9349-469f-ac27-e5b6f5ec475c\n",
       "3 2019-10-07 00:00:07    tips_show  020292ab-89bc-4156-9acf-68bc2783f894\n",
       "4 2019-10-07 00:00:56  advert_open  cf7eda61-9349-469f-ac27-e5b6f5ec475c"
      ]
     },
     "execution_count": 11,
     "metadata": {},
     "output_type": "execute_result"
    }
   ],
   "source": [
    "# приведем столбцец event_time датасета data к формату даты, и округлим данные до 1 секунды\n",
    "data['event_time'] = pd.to_datetime(data['event_time'], format='%Y.%m.%d %H:%M:%S').dt.round('1S')\n",
    "data.head()"
   ]
  },
  {
   "cell_type": "code",
   "execution_count": 12,
   "metadata": {},
   "outputs": [
    {
     "data": {
      "text/plain": [
       "tips_show        40055\n",
       "photos_show      10012\n",
       "search            6784\n",
       "advert_open       6164\n",
       "show_contacts     4529\n",
       "map               3881\n",
       "favorites_add     1417\n",
       "tips_click         814\n",
       "contacts_call      541\n",
       "Name: event_name, dtype: int64"
      ]
     },
     "execution_count": 12,
     "metadata": {},
     "output_type": "execute_result"
    }
   ],
   "source": [
    "# объединим события contacts_show и show_contacts\n",
    "data = data.replace('contacts_show', 'show_contacts')\n",
    "\n",
    "# объединим события search \n",
    "data = data.replace([['search_1', 'search_2', 'search_3', 'search_4', 'search_5', 'search_6', 'search_7']], 'search')\n",
    "\n",
    "# проверим\n",
    "data['event_name'].value_counts()"
   ]
  },
  {
   "cell_type": "code",
   "execution_count": 13,
   "metadata": {},
   "outputs": [
    {
     "data": {
      "text/html": [
       "<div>\n",
       "<style scoped>\n",
       "    .dataframe tbody tr th:only-of-type {\n",
       "        vertical-align: middle;\n",
       "    }\n",
       "\n",
       "    .dataframe tbody tr th {\n",
       "        vertical-align: top;\n",
       "    }\n",
       "\n",
       "    .dataframe thead th {\n",
       "        text-align: right;\n",
       "    }\n",
       "</style>\n",
       "<table border=\"1\" class=\"dataframe\">\n",
       "  <thead>\n",
       "    <tr style=\"text-align: right;\">\n",
       "      <th></th>\n",
       "      <th>event_time</th>\n",
       "      <th>event_name</th>\n",
       "      <th>user_id</th>\n",
       "      <th>source</th>\n",
       "    </tr>\n",
       "  </thead>\n",
       "  <tbody>\n",
       "    <tr>\n",
       "      <th>0</th>\n",
       "      <td>2019-10-07 00:00:00</td>\n",
       "      <td>advert_open</td>\n",
       "      <td>020292ab-89bc-4156-9acf-68bc2783f894</td>\n",
       "      <td>other</td>\n",
       "    </tr>\n",
       "    <tr>\n",
       "      <th>1</th>\n",
       "      <td>2019-10-07 00:00:01</td>\n",
       "      <td>tips_show</td>\n",
       "      <td>020292ab-89bc-4156-9acf-68bc2783f894</td>\n",
       "      <td>other</td>\n",
       "    </tr>\n",
       "    <tr>\n",
       "      <th>2</th>\n",
       "      <td>2019-10-07 00:00:07</td>\n",
       "      <td>tips_show</td>\n",
       "      <td>020292ab-89bc-4156-9acf-68bc2783f894</td>\n",
       "      <td>other</td>\n",
       "    </tr>\n",
       "    <tr>\n",
       "      <th>3</th>\n",
       "      <td>2019-10-07 00:01:28</td>\n",
       "      <td>advert_open</td>\n",
       "      <td>020292ab-89bc-4156-9acf-68bc2783f894</td>\n",
       "      <td>other</td>\n",
       "    </tr>\n",
       "    <tr>\n",
       "      <th>4</th>\n",
       "      <td>2019-10-07 00:01:35</td>\n",
       "      <td>tips_show</td>\n",
       "      <td>020292ab-89bc-4156-9acf-68bc2783f894</td>\n",
       "      <td>other</td>\n",
       "    </tr>\n",
       "  </tbody>\n",
       "</table>\n",
       "</div>"
      ],
      "text/plain": [
       "           event_time   event_name                               user_id  \\\n",
       "0 2019-10-07 00:00:00  advert_open  020292ab-89bc-4156-9acf-68bc2783f894   \n",
       "1 2019-10-07 00:00:01    tips_show  020292ab-89bc-4156-9acf-68bc2783f894   \n",
       "2 2019-10-07 00:00:07    tips_show  020292ab-89bc-4156-9acf-68bc2783f894   \n",
       "3 2019-10-07 00:01:28  advert_open  020292ab-89bc-4156-9acf-68bc2783f894   \n",
       "4 2019-10-07 00:01:35    tips_show  020292ab-89bc-4156-9acf-68bc2783f894   \n",
       "\n",
       "  source  \n",
       "0  other  \n",
       "1  other  \n",
       "2  other  \n",
       "3  other  \n",
       "4  other  "
      ]
     },
     "execution_count": 13,
     "metadata": {},
     "output_type": "execute_result"
    }
   ],
   "source": [
    "# объединим наши датасеты в один\n",
    "data = data.merge(sources, on='user_id', how = 'right')\n",
    "data.head()"
   ]
  },
  {
   "cell_type": "code",
   "execution_count": 14,
   "metadata": {},
   "outputs": [],
   "source": [
    "# выделим из столбца с датой час, неделю, месяц, год и полную дату в отдельные столбцы\n",
    "data['event_hour'] = data['event_time'].dt.hour # час\n",
    "data['event_week'] = data['event_time'].astype('datetime64[W]') # неделя\n",
    "data['event_month'] = data['event_time'].astype('datetime64[M]') # месяц\n",
    "data['event_year'] = data['event_time'].astype('datetime64[Y]') # год\n",
    "data['event_date'] = data['event_time'].astype('datetime64[D]') # полная дата"
   ]
  },
  {
   "cell_type": "code",
   "execution_count": 15,
   "metadata": {},
   "outputs": [],
   "source": [
    "# посмотрим, что получилось\n",
    "data.head()\n",
    "data.to_csv('data.csv', index=False)"
   ]
  },
  {
   "cell_type": "markdown",
   "metadata": {},
   "source": [
    "### Вывод\n",
    "- по итогу шага выполнены все необходимые пробразования."
   ]
  },
  {
   "cell_type": "markdown",
   "metadata": {},
   "source": [
    "### Шаг 3. Исследовательский анализ данных"
   ]
  },
  {
   "cell_type": "code",
   "execution_count": 16,
   "metadata": {},
   "outputs": [
    {
     "data": {
      "text/plain": [
       "4293"
      ]
     },
     "execution_count": 16,
     "metadata": {},
     "output_type": "execute_result"
    }
   ],
   "source": [
    "# посмотрим, сколько всего пользователей у нас есть\n",
    "data['user_id'].nunique()"
   ]
  },
  {
   "cell_type": "markdown",
   "metadata": {},
   "source": [
    "##### Всего у нас в данных есть информация о 4293 пользователях."
   ]
  },
  {
   "cell_type": "code",
   "execution_count": 17,
   "metadata": {},
   "outputs": [
    {
     "data": {
      "text/html": [
       "<div>\n",
       "<style scoped>\n",
       "    .dataframe tbody tr th:only-of-type {\n",
       "        vertical-align: middle;\n",
       "    }\n",
       "\n",
       "    .dataframe tbody tr th {\n",
       "        vertical-align: top;\n",
       "    }\n",
       "\n",
       "    .dataframe thead th {\n",
       "        text-align: right;\n",
       "    }\n",
       "</style>\n",
       "<table border=\"1\" class=\"dataframe\">\n",
       "  <thead>\n",
       "    <tr style=\"text-align: right;\">\n",
       "      <th></th>\n",
       "      <th>user_id</th>\n",
       "    </tr>\n",
       "    <tr>\n",
       "      <th>source</th>\n",
       "      <th></th>\n",
       "    </tr>\n",
       "  </thead>\n",
       "  <tbody>\n",
       "    <tr>\n",
       "      <th>yandex</th>\n",
       "      <td>1934</td>\n",
       "    </tr>\n",
       "    <tr>\n",
       "      <th>other</th>\n",
       "      <td>1230</td>\n",
       "    </tr>\n",
       "    <tr>\n",
       "      <th>google</th>\n",
       "      <td>1129</td>\n",
       "    </tr>\n",
       "  </tbody>\n",
       "</table>\n",
       "</div>"
      ],
      "text/plain": [
       "        user_id\n",
       "source         \n",
       "yandex     1934\n",
       "other      1230\n",
       "google     1129"
      ]
     },
     "execution_count": 17,
     "metadata": {},
     "output_type": "execute_result"
    }
   ],
   "source": [
    "# посмотрим, сколько пользователей приносят нам наши источники\n",
    "data.groupby('source').agg({'user_id' : 'nunique'}).sort_values(by='user_id', ascending = False)"
   ]
  },
  {
   "cell_type": "markdown",
   "metadata": {},
   "source": [
    "- Больше всего трафика приносит yandex - 1934 пользователя;\n",
    "- Меньше всего трафика приносит google - 1129 пользователей;\n",
    "- Из других источников пришли 1230 пользователей. "
   ]
  },
  {
   "cell_type": "code",
   "execution_count": 18,
   "metadata": {},
   "outputs": [
    {
     "data": {
      "image/png": "[encoded data removed]",
      "text/plain": [
       "<Figure size 1080x432 with 1 Axes>"
      ]
     },
     "metadata": {
      "needs_background": "light"
     },
     "output_type": "display_data"
    }
   ],
   "source": [
    "# распределение событий по дням\n",
    "events_by_day = data.groupby('event_date', as_index=False).agg({'user_id':'count'})\n",
    "\n",
    "plt.figure(figsize=(15,6))\n",
    "with plt.style.context('seaborn-pastel'):\n",
    "    plt.bar(events_by_day['event_date'], events_by_day['user_id'])\n",
    "plt.xlabel('Дата')\n",
    "plt.ylabel('Количество')\n",
    "plt.title('Распределение событий по дням')\n",
    "plt.xticks(rotation=45)\n",
    "plt.grid(True)\n",
    "plt.show();"
   ]
  },
  {
   "cell_type": "markdown",
   "metadata": {},
   "source": [
    "##### Выводы по графику:\n",
    "- У нас есть данные с 7 октября 2019 года по 3 ноября 2019 года;\n",
    "- Больше всего событий произошло 23 октября - почти 3500;\n",
    "- Меньше всего событий произошло 12 октября и 2 ноября - 2000;\n",
    "- Наименьшее количество событий, а также отрицательные спады зарегистрированы в выходные дни (12.10.2019 - суббота и 02.11.2019 - суббота). Однако в последние выходные дни октября наблюдается большая активность. Вполне вероятно, что это связано с получением заработной планы и желанием приобрести новые вещи, пока есть деньги. \n",
    "- Наибольший пик активности приходится на будние дни;\n",
    "- Данные можно разделить на несколько промежутков. 1 неделя - с 07.10.2019 по 12.10.2019; 2 неделя - с 13.10.2019 по 20.10.2019; 3 неделя - с 21.10.2019 по 27.10.2019; 4 неделя с 28.10.2019 по 3.11.2019;\n",
    "- В целом, события распределены нормально. Никаких аномалий не выявлено."
   ]
  },
  {
   "cell_type": "code",
   "execution_count": 19,
   "metadata": {},
   "outputs": [
    {
     "data": {
      "text/plain": [
       "22.851153039832283"
      ]
     },
     "execution_count": 19,
     "metadata": {},
     "output_type": "execute_result"
    }
   ],
   "source": [
    "# посчитаем конверсию пользователей в целевое событие\n",
    "(data.query('event_name==\"show_contacts\"')['user_id'].nunique() / data['user_id'].nunique()) * 100"
   ]
  },
  {
   "cell_type": "markdown",
   "metadata": {},
   "source": [
    "##### Конверсия пользователей в целевое событие - просмотр контактов - составляет 23%."
   ]
  },
  {
   "cell_type": "code",
   "execution_count": 20,
   "metadata": {},
   "outputs": [],
   "source": [
    "# определим начало и конец каждого события пользователя в приложении\n",
    "\n",
    "# начало сеанса\n",
    "user_time_min = data.groupby(['user_id', 'event_date', 'event_hour'], as_index=False).agg({'event_time':'min'})\n",
    "user_time_min = user_time_min.rename(columns={'event_time':'event_time_start'})\n",
    "# конец сеанса \n",
    "user_time_max = data.groupby(['user_id', 'event_date', 'event_hour'], as_index=False).agg({'event_time':'max'})\n",
    "user_time_max = user_time_max.rename(columns={'event_time':'event_time_stop'})"
   ]
  },
  {
   "cell_type": "code",
   "execution_count": 21,
   "metadata": {},
   "outputs": [
    {
     "data": {
      "text/html": [
       "<div>\n",
       "<style scoped>\n",
       "    .dataframe tbody tr th:only-of-type {\n",
       "        vertical-align: middle;\n",
       "    }\n",
       "\n",
       "    .dataframe tbody tr th {\n",
       "        vertical-align: top;\n",
       "    }\n",
       "\n",
       "    .dataframe thead th {\n",
       "        text-align: right;\n",
       "    }\n",
       "</style>\n",
       "<table border=\"1\" class=\"dataframe\">\n",
       "  <thead>\n",
       "    <tr style=\"text-align: right;\">\n",
       "      <th></th>\n",
       "      <th>user_id</th>\n",
       "      <th>event_date</th>\n",
       "      <th>event_hour</th>\n",
       "      <th>event_time_start</th>\n",
       "      <th>event_time_stop</th>\n",
       "      <th>time_spent</th>\n",
       "    </tr>\n",
       "  </thead>\n",
       "  <tbody>\n",
       "    <tr>\n",
       "      <th>0</th>\n",
       "      <td>0001b1d5-b74a-4cbf-aeb0-7df5947bf349</td>\n",
       "      <td>2019-10-07</td>\n",
       "      <td>13</td>\n",
       "      <td>2019-10-07 13:39:46</td>\n",
       "      <td>2019-10-07 13:49:42</td>\n",
       "      <td>9.933333</td>\n",
       "    </tr>\n",
       "    <tr>\n",
       "      <th>1</th>\n",
       "      <td>0001b1d5-b74a-4cbf-aeb0-7df5947bf349</td>\n",
       "      <td>2019-10-09</td>\n",
       "      <td>18</td>\n",
       "      <td>2019-10-09 18:33:56</td>\n",
       "      <td>2019-10-09 18:42:23</td>\n",
       "      <td>8.450000</td>\n",
       "    </tr>\n",
       "    <tr>\n",
       "      <th>2</th>\n",
       "      <td>0001b1d5-b74a-4cbf-aeb0-7df5947bf349</td>\n",
       "      <td>2019-10-21</td>\n",
       "      <td>19</td>\n",
       "      <td>2019-10-21 19:52:31</td>\n",
       "      <td>2019-10-21 19:57:49</td>\n",
       "      <td>5.300000</td>\n",
       "    </tr>\n",
       "    <tr>\n",
       "      <th>3</th>\n",
       "      <td>0001b1d5-b74a-4cbf-aeb0-7df5947bf349</td>\n",
       "      <td>2019-10-21</td>\n",
       "      <td>20</td>\n",
       "      <td>2019-10-21 20:00:00</td>\n",
       "      <td>2019-10-21 20:07:30</td>\n",
       "      <td>7.500000</td>\n",
       "    </tr>\n",
       "    <tr>\n",
       "      <th>4</th>\n",
       "      <td>0001b1d5-b74a-4cbf-aeb0-7df5947bf349</td>\n",
       "      <td>2019-10-22</td>\n",
       "      <td>11</td>\n",
       "      <td>2019-10-22 11:18:15</td>\n",
       "      <td>2019-10-22 11:30:53</td>\n",
       "      <td>12.633333</td>\n",
       "    </tr>\n",
       "  </tbody>\n",
       "</table>\n",
       "</div>"
      ],
      "text/plain": [
       "                                user_id event_date  event_hour  \\\n",
       "0  0001b1d5-b74a-4cbf-aeb0-7df5947bf349 2019-10-07          13   \n",
       "1  0001b1d5-b74a-4cbf-aeb0-7df5947bf349 2019-10-09          18   \n",
       "2  0001b1d5-b74a-4cbf-aeb0-7df5947bf349 2019-10-21          19   \n",
       "3  0001b1d5-b74a-4cbf-aeb0-7df5947bf349 2019-10-21          20   \n",
       "4  0001b1d5-b74a-4cbf-aeb0-7df5947bf349 2019-10-22          11   \n",
       "\n",
       "     event_time_start     event_time_stop  time_spent  \n",
       "0 2019-10-07 13:39:46 2019-10-07 13:49:42    9.933333  \n",
       "1 2019-10-09 18:33:56 2019-10-09 18:42:23    8.450000  \n",
       "2 2019-10-21 19:52:31 2019-10-21 19:57:49    5.300000  \n",
       "3 2019-10-21 20:00:00 2019-10-21 20:07:30    7.500000  \n",
       "4 2019-10-22 11:18:15 2019-10-22 11:30:53   12.633333  "
      ]
     },
     "execution_count": 21,
     "metadata": {},
     "output_type": "execute_result"
    }
   ],
   "source": [
    "# объединяем столбцы с временем начала и окончания сеанса пользователей, и рассчитываем общую продолжительность сеанса\n",
    "\n",
    "# объединяем \n",
    "user_time =  pd.merge(user_time_min, user_time_max, on=['user_id', 'event_date', 'event_hour'])\n",
    "# общая продолжительность сеанса\n",
    "user_time['time_spent'] = user_time['event_time_stop'] - user_time['event_time_start']\n",
    "# переведем в минуты\n",
    "user_time['time_spent'] = user_time['time_spent'].astype('timedelta64[s]') / 60\n",
    "user_time.head()"
   ]
  },
  {
   "cell_type": "markdown",
   "metadata": {},
   "source": [
    "##### Сформируем таблицу с признаками, которые потребуются нам для последующей кластеризации."
   ]
  },
  {
   "cell_type": "code",
   "execution_count": 22,
   "metadata": {},
   "outputs": [
    {
     "data": {
      "text/html": [
       "<div>\n",
       "<style scoped>\n",
       "    .dataframe tbody tr th:only-of-type {\n",
       "        vertical-align: middle;\n",
       "    }\n",
       "\n",
       "    .dataframe tbody tr th {\n",
       "        vertical-align: top;\n",
       "    }\n",
       "\n",
       "    .dataframe thead th {\n",
       "        text-align: right;\n",
       "    }\n",
       "</style>\n",
       "<table border=\"1\" class=\"dataframe\">\n",
       "  <thead>\n",
       "    <tr style=\"text-align: right;\">\n",
       "      <th></th>\n",
       "      <th>user_id</th>\n",
       "      <th>time_spent</th>\n",
       "      <th>visits</th>\n",
       "    </tr>\n",
       "  </thead>\n",
       "  <tbody>\n",
       "    <tr>\n",
       "      <th>0</th>\n",
       "      <td>0001b1d5-b74a-4cbf-aeb0-7df5947bf349</td>\n",
       "      <td>43.816667</td>\n",
       "      <td>5</td>\n",
       "    </tr>\n",
       "    <tr>\n",
       "      <th>1</th>\n",
       "      <td>00157779-810c-4498-9e05-a1e9e3cedf93</td>\n",
       "      <td>177.700000</td>\n",
       "      <td>10</td>\n",
       "    </tr>\n",
       "    <tr>\n",
       "      <th>2</th>\n",
       "      <td>00463033-5717-4bf1-91b4-09183923b9df</td>\n",
       "      <td>21.250000</td>\n",
       "      <td>2</td>\n",
       "    </tr>\n",
       "    <tr>\n",
       "      <th>3</th>\n",
       "      <td>004690c3-5a84-4bb7-a8af-e0c8f8fca64e</td>\n",
       "      <td>87.533333</td>\n",
       "      <td>7</td>\n",
       "    </tr>\n",
       "    <tr>\n",
       "      <th>4</th>\n",
       "      <td>00551e79-152e-4441-9cf7-565d7eb04090</td>\n",
       "      <td>9.333333</td>\n",
       "      <td>3</td>\n",
       "    </tr>\n",
       "  </tbody>\n",
       "</table>\n",
       "</div>"
      ],
      "text/plain": [
       "                                user_id  time_spent  visits\n",
       "0  0001b1d5-b74a-4cbf-aeb0-7df5947bf349   43.816667       5\n",
       "1  00157779-810c-4498-9e05-a1e9e3cedf93  177.700000      10\n",
       "2  00463033-5717-4bf1-91b4-09183923b9df   21.250000       2\n",
       "3  004690c3-5a84-4bb7-a8af-e0c8f8fca64e   87.533333       7\n",
       "4  00551e79-152e-4441-9cf7-565d7eb04090    9.333333       3"
      ]
     },
     "execution_count": 22,
     "metadata": {},
     "output_type": "execute_result"
    }
   ],
   "source": [
    "# features - таблица с признаками; добавим в нее общее время, которое пользователь провел в приложении и количество сессий\n",
    "features = user_time.groupby('user_id', as_index=False).agg({'time_spent':'sum','event_date':'count'}).rename(columns={'event_date':'visits'})\n",
    "features.head()"
   ]
  },
  {
   "cell_type": "code",
   "execution_count": 23,
   "metadata": {},
   "outputs": [
    {
     "data": {
      "text/html": [
       "<div>\n",
       "<style scoped>\n",
       "    .dataframe tbody tr th:only-of-type {\n",
       "        vertical-align: middle;\n",
       "    }\n",
       "\n",
       "    .dataframe tbody tr th {\n",
       "        vertical-align: top;\n",
       "    }\n",
       "\n",
       "    .dataframe thead th {\n",
       "        text-align: right;\n",
       "    }\n",
       "</style>\n",
       "<table border=\"1\" class=\"dataframe\">\n",
       "  <thead>\n",
       "    <tr style=\"text-align: right;\">\n",
       "      <th></th>\n",
       "      <th>user_id</th>\n",
       "      <th>conversions</th>\n",
       "    </tr>\n",
       "  </thead>\n",
       "  <tbody>\n",
       "    <tr>\n",
       "      <th>0</th>\n",
       "      <td>00157779-810c-4498-9e05-a1e9e3cedf93</td>\n",
       "      <td>11</td>\n",
       "    </tr>\n",
       "    <tr>\n",
       "      <th>1</th>\n",
       "      <td>00551e79-152e-4441-9cf7-565d7eb04090</td>\n",
       "      <td>3</td>\n",
       "    </tr>\n",
       "    <tr>\n",
       "      <th>2</th>\n",
       "      <td>005fbea5-2678-406f-88a6-fbe9787e2268</td>\n",
       "      <td>3</td>\n",
       "    </tr>\n",
       "    <tr>\n",
       "      <th>3</th>\n",
       "      <td>00753c79-ea81-4456-acd0-a47a23ca2fb9</td>\n",
       "      <td>1</td>\n",
       "    </tr>\n",
       "    <tr>\n",
       "      <th>4</th>\n",
       "      <td>007d031d-5018-4e02-b7ee-72a30609173f</td>\n",
       "      <td>2</td>\n",
       "    </tr>\n",
       "  </tbody>\n",
       "</table>\n",
       "</div>"
      ],
      "text/plain": [
       "                                user_id  conversions\n",
       "0  00157779-810c-4498-9e05-a1e9e3cedf93           11\n",
       "1  00551e79-152e-4441-9cf7-565d7eb04090            3\n",
       "2  005fbea5-2678-406f-88a6-fbe9787e2268            3\n",
       "3  00753c79-ea81-4456-acd0-a47a23ca2fb9            1\n",
       "4  007d031d-5018-4e02-b7ee-72a30609173f            2"
      ]
     },
     "execution_count": 23,
     "metadata": {},
     "output_type": "execute_result"
    }
   ],
   "source": [
    "# посчитаем, сколько раз пользователи совершили целевое действие - просмотр контактов\n",
    "conversion = data.query('event_name==\"show_contacts\"').groupby('user_id', as_index=False).agg({'event_name':'count'})\n",
    "conversion = conversion.rename(columns={'event_name':'conversions'})\n",
    "conversion.head()"
   ]
  },
  {
   "cell_type": "code",
   "execution_count": 24,
   "metadata": {},
   "outputs": [
    {
     "data": {
      "text/html": [
       "<div>\n",
       "<style scoped>\n",
       "    .dataframe tbody tr th:only-of-type {\n",
       "        vertical-align: middle;\n",
       "    }\n",
       "\n",
       "    .dataframe tbody tr th {\n",
       "        vertical-align: top;\n",
       "    }\n",
       "\n",
       "    .dataframe thead th {\n",
       "        text-align: right;\n",
       "    }\n",
       "</style>\n",
       "<table border=\"1\" class=\"dataframe\">\n",
       "  <thead>\n",
       "    <tr style=\"text-align: right;\">\n",
       "      <th></th>\n",
       "      <th>user_id</th>\n",
       "      <th>time_spent</th>\n",
       "      <th>visits</th>\n",
       "      <th>conversions</th>\n",
       "    </tr>\n",
       "  </thead>\n",
       "  <tbody>\n",
       "    <tr>\n",
       "      <th>0</th>\n",
       "      <td>0001b1d5-b74a-4cbf-aeb0-7df5947bf349</td>\n",
       "      <td>43.816667</td>\n",
       "      <td>5</td>\n",
       "      <td>0.0</td>\n",
       "    </tr>\n",
       "    <tr>\n",
       "      <th>1</th>\n",
       "      <td>00157779-810c-4498-9e05-a1e9e3cedf93</td>\n",
       "      <td>177.700000</td>\n",
       "      <td>10</td>\n",
       "      <td>11.0</td>\n",
       "    </tr>\n",
       "    <tr>\n",
       "      <th>2</th>\n",
       "      <td>00463033-5717-4bf1-91b4-09183923b9df</td>\n",
       "      <td>21.250000</td>\n",
       "      <td>2</td>\n",
       "      <td>0.0</td>\n",
       "    </tr>\n",
       "    <tr>\n",
       "      <th>3</th>\n",
       "      <td>004690c3-5a84-4bb7-a8af-e0c8f8fca64e</td>\n",
       "      <td>87.533333</td>\n",
       "      <td>7</td>\n",
       "      <td>0.0</td>\n",
       "    </tr>\n",
       "    <tr>\n",
       "      <th>4</th>\n",
       "      <td>00551e79-152e-4441-9cf7-565d7eb04090</td>\n",
       "      <td>9.333333</td>\n",
       "      <td>3</td>\n",
       "      <td>3.0</td>\n",
       "    </tr>\n",
       "  </tbody>\n",
       "</table>\n",
       "</div>"
      ],
      "text/plain": [
       "                                user_id  time_spent  visits  conversions\n",
       "0  0001b1d5-b74a-4cbf-aeb0-7df5947bf349   43.816667       5          0.0\n",
       "1  00157779-810c-4498-9e05-a1e9e3cedf93  177.700000      10         11.0\n",
       "2  00463033-5717-4bf1-91b4-09183923b9df   21.250000       2          0.0\n",
       "3  004690c3-5a84-4bb7-a8af-e0c8f8fca64e   87.533333       7          0.0\n",
       "4  00551e79-152e-4441-9cf7-565d7eb04090    9.333333       3          3.0"
      ]
     },
     "execution_count": 24,
     "metadata": {},
     "output_type": "execute_result"
    }
   ],
   "source": [
    "# добавляем получившийся столбец в датасет с признаками\n",
    "features = pd.merge(features, conversion, on='user_id', how='left')\n",
    "\n",
    "# сразу заменим образовавшиеся пропуски нулями\n",
    "features['conversions'] = features['conversions'].fillna(0)\n",
    "features.head()"
   ]
  },
  {
   "cell_type": "markdown",
   "metadata": {},
   "source": [
    "##### Примем события 'tips_click' - просмотр рекомендованного объявления и 'favorites_add' - добавление объявления в избранное за показатели вовлеченности пользователя в приложение."
   ]
  },
  {
   "cell_type": "code",
   "execution_count": 25,
   "metadata": {},
   "outputs": [],
   "source": [
    "# посчитаем, сколько раз пользователи просмотрели рекомендованные объявления и сколько раз добавили объявления в избранное\n",
    "\n",
    "# промотр рекомендованного объявления\n",
    "tips = data.query('event_name==\"tips_click\"').groupby('user_id', as_index=False).agg({'event_name':'count'})\n",
    "tips = tips.rename(columns={'event_name':'tips'})\n",
    "\n",
    "# добавление в избранное \n",
    "favorites = data.query('event_name==\"favorites_add\"').groupby('user_id', as_index=False).agg({'event_name':'count'})\n",
    "favorites = favorites.rename(columns={'event_name':'favorites'})"
   ]
  },
  {
   "cell_type": "code",
   "execution_count": 26,
   "metadata": {},
   "outputs": [],
   "source": [
    "# добавим получившиеся столбцы в наш датасет с признаками\n",
    "\n",
    "# просмотры\n",
    "features = pd.merge(features, tips, on=['user_id', ], how='left')\n",
    "features['tips'] = features['tips'].fillna(0)\n",
    "\n",
    "# добавления\n",
    "features = pd.merge(features, favorites, on=['user_id', ], how='left')\n",
    "features['favorites'] = features['favorites'].fillna(0)"
   ]
  },
  {
   "cell_type": "markdown",
   "metadata": {},
   "source": [
    "##### Посчитаем общее время, проведенное каждым пользователем в приложении."
   ]
  },
  {
   "cell_type": "code",
   "execution_count": 27,
   "metadata": {},
   "outputs": [],
   "source": [
    "# определим начало и конец сеанса каждого пользователя\n",
    "\n",
    "# начало\n",
    "user_start_time = data.groupby(['user_id'], as_index=False).agg({'event_time':'min'})\n",
    "user_start_time = user_start_time.rename(columns={'event_time':'user_start_time'})\n",
    "\n",
    "# конец\n",
    "user_stop_time = data.groupby(['user_id'], as_index=False).agg({'event_time':'max'})\n",
    "user_stop_time = user_stop_time.rename(columns={'event_time':'user_stop_time'})"
   ]
  },
  {
   "cell_type": "code",
   "execution_count": 28,
   "metadata": {},
   "outputs": [
    {
     "data": {
      "text/html": [
       "<div>\n",
       "<style scoped>\n",
       "    .dataframe tbody tr th:only-of-type {\n",
       "        vertical-align: middle;\n",
       "    }\n",
       "\n",
       "    .dataframe tbody tr th {\n",
       "        vertical-align: top;\n",
       "    }\n",
       "\n",
       "    .dataframe thead th {\n",
       "        text-align: right;\n",
       "    }\n",
       "</style>\n",
       "<table border=\"1\" class=\"dataframe\">\n",
       "  <thead>\n",
       "    <tr style=\"text-align: right;\">\n",
       "      <th></th>\n",
       "      <th>user_id</th>\n",
       "      <th>total_time_spent</th>\n",
       "    </tr>\n",
       "  </thead>\n",
       "  <tbody>\n",
       "    <tr>\n",
       "      <th>0</th>\n",
       "      <td>0001b1d5-b74a-4cbf-aeb0-7df5947bf349</td>\n",
       "      <td>21471.116667</td>\n",
       "    </tr>\n",
       "    <tr>\n",
       "      <th>1</th>\n",
       "      <td>00157779-810c-4498-9e05-a1e9e3cedf93</td>\n",
       "      <td>21337.600000</td>\n",
       "    </tr>\n",
       "    <tr>\n",
       "      <th>2</th>\n",
       "      <td>00463033-5717-4bf1-91b4-09183923b9df</td>\n",
       "      <td>24.716667</td>\n",
       "    </tr>\n",
       "    <tr>\n",
       "      <th>3</th>\n",
       "      <td>004690c3-5a84-4bb7-a8af-e0c8f8fca64e</td>\n",
       "      <td>18688.166667</td>\n",
       "    </tr>\n",
       "    <tr>\n",
       "      <th>4</th>\n",
       "      <td>00551e79-152e-4441-9cf7-565d7eb04090</td>\n",
       "      <td>4892.516667</td>\n",
       "    </tr>\n",
       "  </tbody>\n",
       "</table>\n",
       "</div>"
      ],
      "text/plain": [
       "                                user_id  total_time_spent\n",
       "0  0001b1d5-b74a-4cbf-aeb0-7df5947bf349      21471.116667\n",
       "1  00157779-810c-4498-9e05-a1e9e3cedf93      21337.600000\n",
       "2  00463033-5717-4bf1-91b4-09183923b9df         24.716667\n",
       "3  004690c3-5a84-4bb7-a8af-e0c8f8fca64e      18688.166667\n",
       "4  00551e79-152e-4441-9cf7-565d7eb04090       4892.516667"
      ]
     },
     "execution_count": 28,
     "metadata": {},
     "output_type": "execute_result"
    }
   ],
   "source": [
    "# объединим получившиеся столбцы и найдем общее время, проведенное каждым пользователем в приложении\n",
    "\n",
    "# объединяем\n",
    "total_user_time =  pd.merge(user_start_time, user_stop_time, on=['user_id'])\n",
    "\n",
    "# общее время \n",
    "total_user_time['total_time_spent'] = total_user_time['user_stop_time'] - total_user_time['user_start_time']\n",
    "total_user_time = total_user_time.drop(['user_start_time', 'user_stop_time'], axis=1)\n",
    "\n",
    "# переведем в минуты\n",
    "total_user_time['total_time_spent'] = total_user_time['total_time_spent'].astype('timedelta64[s]') / 60\n",
    "total_user_time.head()"
   ]
  },
  {
   "cell_type": "code",
   "execution_count": 29,
   "metadata": {},
   "outputs": [
    {
     "data": {
      "text/html": [
       "<div>\n",
       "<style scoped>\n",
       "    .dataframe tbody tr th:only-of-type {\n",
       "        vertical-align: middle;\n",
       "    }\n",
       "\n",
       "    .dataframe tbody tr th {\n",
       "        vertical-align: top;\n",
       "    }\n",
       "\n",
       "    .dataframe thead th {\n",
       "        text-align: right;\n",
       "    }\n",
       "</style>\n",
       "<table border=\"1\" class=\"dataframe\">\n",
       "  <thead>\n",
       "    <tr style=\"text-align: right;\">\n",
       "      <th></th>\n",
       "      <th>user_id</th>\n",
       "      <th>time_spent</th>\n",
       "      <th>visits</th>\n",
       "      <th>conversions</th>\n",
       "      <th>tips</th>\n",
       "      <th>favorites</th>\n",
       "      <th>total_time_spent</th>\n",
       "    </tr>\n",
       "  </thead>\n",
       "  <tbody>\n",
       "    <tr>\n",
       "      <th>0</th>\n",
       "      <td>0001b1d5-b74a-4cbf-aeb0-7df5947bf349</td>\n",
       "      <td>43.816667</td>\n",
       "      <td>5</td>\n",
       "      <td>0.0</td>\n",
       "      <td>0.0</td>\n",
       "      <td>0.0</td>\n",
       "      <td>21471.116667</td>\n",
       "    </tr>\n",
       "    <tr>\n",
       "      <th>1</th>\n",
       "      <td>00157779-810c-4498-9e05-a1e9e3cedf93</td>\n",
       "      <td>177.700000</td>\n",
       "      <td>10</td>\n",
       "      <td>11.0</td>\n",
       "      <td>0.0</td>\n",
       "      <td>2.0</td>\n",
       "      <td>21337.600000</td>\n",
       "    </tr>\n",
       "    <tr>\n",
       "      <th>2</th>\n",
       "      <td>00463033-5717-4bf1-91b4-09183923b9df</td>\n",
       "      <td>21.250000</td>\n",
       "      <td>2</td>\n",
       "      <td>0.0</td>\n",
       "      <td>0.0</td>\n",
       "      <td>0.0</td>\n",
       "      <td>24.716667</td>\n",
       "    </tr>\n",
       "    <tr>\n",
       "      <th>3</th>\n",
       "      <td>004690c3-5a84-4bb7-a8af-e0c8f8fca64e</td>\n",
       "      <td>87.533333</td>\n",
       "      <td>7</td>\n",
       "      <td>0.0</td>\n",
       "      <td>0.0</td>\n",
       "      <td>0.0</td>\n",
       "      <td>18688.166667</td>\n",
       "    </tr>\n",
       "    <tr>\n",
       "      <th>4</th>\n",
       "      <td>00551e79-152e-4441-9cf7-565d7eb04090</td>\n",
       "      <td>9.333333</td>\n",
       "      <td>3</td>\n",
       "      <td>3.0</td>\n",
       "      <td>0.0</td>\n",
       "      <td>0.0</td>\n",
       "      <td>4892.516667</td>\n",
       "    </tr>\n",
       "  </tbody>\n",
       "</table>\n",
       "</div>"
      ],
      "text/plain": [
       "                                user_id  time_spent  visits  conversions  \\\n",
       "0  0001b1d5-b74a-4cbf-aeb0-7df5947bf349   43.816667       5          0.0   \n",
       "1  00157779-810c-4498-9e05-a1e9e3cedf93  177.700000      10         11.0   \n",
       "2  00463033-5717-4bf1-91b4-09183923b9df   21.250000       2          0.0   \n",
       "3  004690c3-5a84-4bb7-a8af-e0c8f8fca64e   87.533333       7          0.0   \n",
       "4  00551e79-152e-4441-9cf7-565d7eb04090    9.333333       3          3.0   \n",
       "\n",
       "   tips  favorites  total_time_spent  \n",
       "0   0.0        0.0      21471.116667  \n",
       "1   0.0        2.0      21337.600000  \n",
       "2   0.0        0.0         24.716667  \n",
       "3   0.0        0.0      18688.166667  \n",
       "4   0.0        0.0       4892.516667  "
      ]
     },
     "execution_count": 29,
     "metadata": {},
     "output_type": "execute_result"
    }
   ],
   "source": [
    "# добавим получившийся столбц в датасет с признаками\n",
    "features = pd.merge(features, total_user_time, on=['user_id', ], how='left')\n",
    "features.head()"
   ]
  },
  {
   "cell_type": "code",
   "execution_count": 30,
   "metadata": {},
   "outputs": [
    {
     "name": "stdout",
     "output_type": "stream",
     "text": [
      "visits\n",
      "[ 5.  8. 19.]\n",
      "conversions\n",
      "[ 2.  5. 15.]\n",
      "tips\n",
      "[0. 1. 4.]\n",
      "favorites\n",
      "[0. 1. 9.]\n"
     ]
    },
    {
     "data": {
      "image/png": "[encoded data removed]",
      "text/plain": [
       "<Figure size 720x432 with 1 Axes>"
      ]
     },
     "metadata": {
      "needs_background": "light"
     },
     "output_type": "display_data"
    },
    {
     "data": {
      "image/png": "[encoded data removed]",
      "text/plain": [
       "<Figure size 720x432 with 1 Axes>"
      ]
     },
     "metadata": {
      "needs_background": "light"
     },
     "output_type": "display_data"
    },
    {
     "data": {
      "image/png": "[encoded data removed]",
      "text/plain": [
       "<Figure size 720x432 with 1 Axes>"
      ]
     },
     "metadata": {
      "needs_background": "light"
     },
     "output_type": "display_data"
    },
    {
     "data": {
      "image/png": "[encoded data removed]",
      "text/plain": [
       "<Figure size 720x432 with 1 Axes>"
      ]
     },
     "metadata": {
      "needs_background": "light"
     },
     "output_type": "display_data"
    }
   ],
   "source": [
    "# посмотрим на распределение признаков и построим графики \n",
    "for i in {'visits', 'conversions', 'tips', 'favorites'}:\n",
    "    print(i)\n",
    "    print(np.percentile(features[i], [90, 95, 99])) # выведем перцентили\n",
    "    str = 'Распределение признака '+ i\n",
    "    plt.figure(figsize=(10,6))\n",
    "    plt.title(str)\n",
    "    plt.hist(features[i], bins=30, range=(0,20))\n",
    "    plt.grid(True);"
   ]
  },
  {
   "cell_type": "markdown",
   "metadata": {},
   "source": [
    "##### Выводы по графикам: \n",
    "- На каждого пользователя приходится от 1 до 5 сессий. Случаются и исключения, но они достаточно редки;\n",
    "- К сожалению, но пользователи крайне редко добавляют объявления в избранное;\n",
    "- Точно такая же ситуация и с просмотром рекомендованных объявлений;\n",
    "- В основном, большая часть пользователей не совершает целевое действие - просмотр контактов - а тех, кто его совершает, крайне мало (менее пятисот человек);\n",
    "- Полученные перцентили также подтверждают графики;\n",
    "- В целом, можно было бы удалить выбросы, но как бы не получилось того, что удалив их - мы лишим себя наиболее активной части пользователей. "
   ]
  },
  {
   "cell_type": "code",
   "execution_count": 31,
   "metadata": {},
   "outputs": [
    {
     "name": "stdout",
     "output_type": "stream",
     "text": [
      "[ 62.23       102.30666667 241.22533333]\n"
     ]
    },
    {
     "data": {
      "image/png": "[encoded data removed]",
      "text/plain": [
       "<Figure size 576x432 with 1 Axes>"
      ]
     },
     "metadata": {
      "needs_background": "light"
     },
     "output_type": "display_data"
    },
    {
     "name": "stdout",
     "output_type": "stream",
     "text": [
      "[14115.01666667 21850.21666667 33106.28      ]\n"
     ]
    },
    {
     "data": {
      "image/png": "[encoded data removed]",
      "text/plain": [
       "<Figure size 576x432 with 1 Axes>"
      ]
     },
     "metadata": {
      "needs_background": "light"
     },
     "output_type": "display_data"
    }
   ],
   "source": [
    "# построим графики распределения для показателей \"продолжительность сеанса\" и \"общее время, проведенное каждом пользователем в приложении\"\n",
    "print(np.percentile(features['time_spent'], [90, 95, 99])) # перцентили\n",
    "plt.figure(figsize=(8,6))\n",
    "features['time_spent'].hist(bins=100, range=(0, 500))\n",
    "plt.title('Распределение признака time_spent')\n",
    "plt.xlabel('Время в секундах')\n",
    "plt.ylabel('Количество пользователей')\n",
    "plt.show()\n",
    "print(np.percentile(features['total_time_spent'], [90, 95, 99])) # перцентили \n",
    "plt.figure(figsize=(8,6))\n",
    "features['total_time_spent'].hist(bins=100, range=(0, 3000))\n",
    "plt.title('Распределение признака total_time_spent')\n",
    "plt.xlabel('Время в секундах')\n",
    "plt.ylabel('Количество пользователей')\n",
    "plt.show();"
   ]
  },
  {
   "cell_type": "markdown",
   "metadata": {},
   "source": [
    "##### Выводы по графикам:\n",
    "- Время каждого сеанса пользователя варьируется от 0 и плавно перемещается до 200 секунд. Существуют и те, у кого сеанса длятся больше, но их не так много;\n",
    "- Общее время, проведенное каждым пользователем в приложении также варьируется от 0 и ниспадает до 500 секунд. Опять же, есть и те, у кого суммарное время пользования приложением больше, но их все также мало. \n",
    "- В обоих случаях мы видим, что крайне высок процент тех, кто практически сразу закрывает приложение, так и не успев им попользоваться. "
   ]
  },
  {
   "cell_type": "code",
   "execution_count": 32,
   "metadata": {},
   "outputs": [
    {
     "data": {
      "image/png": "[encoded data removed]",
      "text/plain": [
       "<Figure size 720x720 with 2 Axes>"
      ]
     },
     "metadata": {
      "needs_background": "light"
     },
     "output_type": "display_data"
    }
   ],
   "source": [
    "# матрица коллеряции для признаков\n",
    "corr_m = features.corr()\n",
    "fig, ax = plt.subplots(figsize=(10,10))\n",
    "sns.heatmap(corr_m, square = True, annot = True,  ax=ax);"
   ]
  },
  {
   "cell_type": "markdown",
   "metadata": {},
   "source": [
    "##### Выявленные корреляции:\n",
    "- Сильная положительная корреляция между переменными time_spent и visits. Логично предположить, что пользователи, чаще использующие приложение, с каждым разом проводят в нем все больше времени;\n",
    "- Средняя корреляция между переменными time_spent и conversions. Тот же самый эффект, чем больше длится сеанс пользователи, тем больше они вовлекаются в него и совершают покупки;\n",
    "- Средняя корреляция между переменными visits и conversions. Вполне объяснимо, что чем чаще пользователи заходят в приложение, тем чаще они совершают целевое действие;\n",
    "- Сильная положительная корреляция между общим временем, проведенным пользователями в приложении и количеством его визитов.\n",
    "- В целом из таблицы корреляций мы видим сильную зависимость между количеством сессий и временем, проведенным пользователями в приложении. "
   ]
  },
  {
   "cell_type": "markdown",
   "metadata": {},
   "source": [
    "##### Разобьем, наконец, наших пользователей с помощью кластеризации, на основании получившихся признаков. "
   ]
  },
  {
   "cell_type": "code",
   "execution_count": 33,
   "metadata": {},
   "outputs": [
    {
     "data": {
      "image/png": "[encoded data removed]",
      "text/plain": [
       "<Figure size 1080x720 with 1 Axes>"
      ]
     },
     "metadata": {
      "needs_background": "light"
     },
     "output_type": "display_data"
    }
   ],
   "source": [
    "# построим дендограмму\n",
    "\n",
    "# отбросим ненужный столбец с id пользователей и целевую переменную, чтобы модель не подглядывала\n",
    "X = features.drop(['user_id', 'conversions'], axis=1)\n",
    "\n",
    "# стандартизируем данные\n",
    "sc = StandardScaler()\n",
    "X_sc = sc.fit_transform(X)\n",
    "\n",
    "linked = linkage(X_sc, method = 'ward')\n",
    "plt.figure(figsize=(15, 10))  \n",
    "dendrogram(linked, orientation='top')\n",
    "plt.title('Иерархическая кластеризация пользователей в мобильном приложении \"Ненужные вещи\"')\n",
    "plt.show();"
   ]
  },
  {
   "cell_type": "markdown",
   "metadata": {},
   "source": [
    "##### Оптимальное число кластеров для пользователей - 3."
   ]
  },
  {
   "cell_type": "code",
   "execution_count": 34,
   "metadata": {},
   "outputs": [
    {
     "data": {
      "text/html": [
       "<div>\n",
       "<style scoped>\n",
       "    .dataframe tbody tr th:only-of-type {\n",
       "        vertical-align: middle;\n",
       "    }\n",
       "\n",
       "    .dataframe tbody tr th {\n",
       "        vertical-align: top;\n",
       "    }\n",
       "\n",
       "    .dataframe thead th {\n",
       "        text-align: right;\n",
       "    }\n",
       "</style>\n",
       "<table border=\"1\" class=\"dataframe\">\n",
       "  <thead>\n",
       "    <tr style=\"text-align: right;\">\n",
       "      <th></th>\n",
       "      <th>user_id</th>\n",
       "      <th>time_spent</th>\n",
       "      <th>visits</th>\n",
       "      <th>conversions</th>\n",
       "      <th>tips</th>\n",
       "      <th>favorites</th>\n",
       "      <th>total_time_spent</th>\n",
       "      <th>cluster_km</th>\n",
       "    </tr>\n",
       "  </thead>\n",
       "  <tbody>\n",
       "    <tr>\n",
       "      <th>0</th>\n",
       "      <td>0001b1d5-b74a-4cbf-aeb0-7df5947bf349</td>\n",
       "      <td>43.816667</td>\n",
       "      <td>5</td>\n",
       "      <td>0.0</td>\n",
       "      <td>0.0</td>\n",
       "      <td>0.0</td>\n",
       "      <td>21471.116667</td>\n",
       "      <td>1</td>\n",
       "    </tr>\n",
       "    <tr>\n",
       "      <th>1</th>\n",
       "      <td>00157779-810c-4498-9e05-a1e9e3cedf93</td>\n",
       "      <td>177.700000</td>\n",
       "      <td>10</td>\n",
       "      <td>11.0</td>\n",
       "      <td>0.0</td>\n",
       "      <td>2.0</td>\n",
       "      <td>21337.600000</td>\n",
       "      <td>1</td>\n",
       "    </tr>\n",
       "    <tr>\n",
       "      <th>2</th>\n",
       "      <td>00463033-5717-4bf1-91b4-09183923b9df</td>\n",
       "      <td>21.250000</td>\n",
       "      <td>2</td>\n",
       "      <td>0.0</td>\n",
       "      <td>0.0</td>\n",
       "      <td>0.0</td>\n",
       "      <td>24.716667</td>\n",
       "      <td>0</td>\n",
       "    </tr>\n",
       "    <tr>\n",
       "      <th>3</th>\n",
       "      <td>004690c3-5a84-4bb7-a8af-e0c8f8fca64e</td>\n",
       "      <td>87.533333</td>\n",
       "      <td>7</td>\n",
       "      <td>0.0</td>\n",
       "      <td>0.0</td>\n",
       "      <td>0.0</td>\n",
       "      <td>18688.166667</td>\n",
       "      <td>1</td>\n",
       "    </tr>\n",
       "    <tr>\n",
       "      <th>4</th>\n",
       "      <td>00551e79-152e-4441-9cf7-565d7eb04090</td>\n",
       "      <td>9.333333</td>\n",
       "      <td>3</td>\n",
       "      <td>3.0</td>\n",
       "      <td>0.0</td>\n",
       "      <td>0.0</td>\n",
       "      <td>4892.516667</td>\n",
       "      <td>0</td>\n",
       "    </tr>\n",
       "  </tbody>\n",
       "</table>\n",
       "</div>"
      ],
      "text/plain": [
       "                                user_id  time_spent  visits  conversions  \\\n",
       "0  0001b1d5-b74a-4cbf-aeb0-7df5947bf349   43.816667       5          0.0   \n",
       "1  00157779-810c-4498-9e05-a1e9e3cedf93  177.700000      10         11.0   \n",
       "2  00463033-5717-4bf1-91b4-09183923b9df   21.250000       2          0.0   \n",
       "3  004690c3-5a84-4bb7-a8af-e0c8f8fca64e   87.533333       7          0.0   \n",
       "4  00551e79-152e-4441-9cf7-565d7eb04090    9.333333       3          3.0   \n",
       "\n",
       "   tips  favorites  total_time_spent  cluster_km  \n",
       "0   0.0        0.0      21471.116667           1  \n",
       "1   0.0        2.0      21337.600000           1  \n",
       "2   0.0        0.0         24.716667           0  \n",
       "3   0.0        0.0      18688.166667           1  \n",
       "4   0.0        0.0       4892.516667           0  "
      ]
     },
     "execution_count": 34,
     "metadata": {},
     "output_type": "execute_result"
    }
   ],
   "source": [
    "# произведем кластеризацию\n",
    "\n",
    "#обучим модель кластеризации на основании K-means\n",
    "km = KMeans(n_clusters=3, random_state = 0) # три кластера\n",
    "labels = km.fit_predict(X_sc) # применение алгоритма к кластерам и формирование векторов \n",
    "\n",
    "# поместим кластеры в наш датасет\n",
    "features['cluster_km'] = labels\n",
    "features.head()"
   ]
  },
  {
   "cell_type": "code",
   "execution_count": 35,
   "metadata": {},
   "outputs": [
    {
     "data": {
      "text/html": [
       "<div>\n",
       "<style scoped>\n",
       "    .dataframe tbody tr th:only-of-type {\n",
       "        vertical-align: middle;\n",
       "    }\n",
       "\n",
       "    .dataframe tbody tr th {\n",
       "        vertical-align: top;\n",
       "    }\n",
       "\n",
       "    .dataframe thead th {\n",
       "        text-align: right;\n",
       "    }\n",
       "</style>\n",
       "<table border=\"1\" class=\"dataframe\">\n",
       "  <thead>\n",
       "    <tr style=\"text-align: right;\">\n",
       "      <th></th>\n",
       "      <th>cluster_km</th>\n",
       "      <th>clusters_value</th>\n",
       "      <th>pies</th>\n",
       "    </tr>\n",
       "  </thead>\n",
       "  <tbody>\n",
       "    <tr>\n",
       "      <th>0</th>\n",
       "      <td>0</td>\n",
       "      <td>3649</td>\n",
       "      <td>84.998835</td>\n",
       "    </tr>\n",
       "    <tr>\n",
       "      <th>1</th>\n",
       "      <td>1</td>\n",
       "      <td>603</td>\n",
       "      <td>14.046122</td>\n",
       "    </tr>\n",
       "    <tr>\n",
       "      <th>2</th>\n",
       "      <td>2</td>\n",
       "      <td>41</td>\n",
       "      <td>0.955043</td>\n",
       "    </tr>\n",
       "  </tbody>\n",
       "</table>\n",
       "</div>"
      ],
      "text/plain": [
       "   cluster_km  clusters_value       pies\n",
       "0           0            3649  84.998835\n",
       "1           1             603  14.046122\n",
       "2           2              41   0.955043"
      ]
     },
     "execution_count": 35,
     "metadata": {},
     "output_type": "execute_result"
    }
   ],
   "source": [
    "# посчитаем количество  пользователей  в каждом кластере\n",
    "clusters_users = features.groupby('cluster_km', as_index=False).count()[['cluster_km', 'user_id']].rename(columns={'user_id': 'clusters_value'})\n",
    "\n",
    "# процентное соотношение количества пользователей каждого кластера к общему\n",
    "clusters_users['pies'] = (clusters_users['clusters_value'] / 4293) * 100\n",
    "clusters_users"
   ]
  },
  {
   "cell_type": "code",
   "execution_count": 36,
   "metadata": {},
   "outputs": [
    {
     "data": {
      "text/html": [
       "<div>\n",
       "<style scoped>\n",
       "    .dataframe tbody tr th:only-of-type {\n",
       "        vertical-align: middle;\n",
       "    }\n",
       "\n",
       "    .dataframe tbody tr th {\n",
       "        vertical-align: top;\n",
       "    }\n",
       "\n",
       "    .dataframe thead th {\n",
       "        text-align: right;\n",
       "    }\n",
       "</style>\n",
       "<table border=\"1\" class=\"dataframe\">\n",
       "  <thead>\n",
       "    <tr style=\"text-align: right;\">\n",
       "      <th></th>\n",
       "      <th>time_spent</th>\n",
       "      <th>visits</th>\n",
       "      <th>conversions</th>\n",
       "      <th>tips</th>\n",
       "      <th>favorites</th>\n",
       "      <th>total_time_spent</th>\n",
       "      <th>pies</th>\n",
       "    </tr>\n",
       "    <tr>\n",
       "      <th>cluster_km</th>\n",
       "      <th></th>\n",
       "      <th></th>\n",
       "      <th></th>\n",
       "      <th></th>\n",
       "      <th></th>\n",
       "      <th></th>\n",
       "      <th></th>\n",
       "    </tr>\n",
       "  </thead>\n",
       "  <tbody>\n",
       "    <tr>\n",
       "      <th>0</th>\n",
       "      <td>19.120800</td>\n",
       "      <td>1.949849</td>\n",
       "      <td>0.682653</td>\n",
       "      <td>0.102220</td>\n",
       "      <td>0.175116</td>\n",
       "      <td>1139.075815</td>\n",
       "      <td>84.998835</td>\n",
       "    </tr>\n",
       "    <tr>\n",
       "      <th>1</th>\n",
       "      <td>61.966473</td>\n",
       "      <td>6.850746</td>\n",
       "      <td>1.902156</td>\n",
       "      <td>0.475954</td>\n",
       "      <td>0.815920</td>\n",
       "      <td>18637.348286</td>\n",
       "      <td>14.046122</td>\n",
       "    </tr>\n",
       "    <tr>\n",
       "      <th>2</th>\n",
       "      <td>407.490244</td>\n",
       "      <td>28.878049</td>\n",
       "      <td>21.731707</td>\n",
       "      <td>3.756098</td>\n",
       "      <td>6.975610</td>\n",
       "      <td>21809.404472</td>\n",
       "      <td>0.955043</td>\n",
       "    </tr>\n",
       "  </tbody>\n",
       "</table>\n",
       "</div>"
      ],
      "text/plain": [
       "            time_spent     visits  conversions      tips  favorites  \\\n",
       "cluster_km                                                            \n",
       "0            19.120800   1.949849     0.682653  0.102220   0.175116   \n",
       "1            61.966473   6.850746     1.902156  0.475954   0.815920   \n",
       "2           407.490244  28.878049    21.731707  3.756098   6.975610   \n",
       "\n",
       "            total_time_spent       pies  \n",
       "cluster_km                               \n",
       "0                1139.075815  84.998835  \n",
       "1               18637.348286  14.046122  \n",
       "2               21809.404472   0.955043  "
      ]
     },
     "execution_count": 36,
     "metadata": {},
     "output_type": "execute_result"
    }
   ],
   "source": [
    "# статистика средних значений признаков для кластеров\n",
    "clusters_mean = features.groupby('cluster_km').mean()\n",
    "\n",
    "# добавим столбец pies в датасет\n",
    "clusters_mean ['pies'] = clusters_users['pies']\n",
    "clusters_mean"
   ]
  },
  {
   "cell_type": "markdown",
   "metadata": {},
   "source": [
    "- С помощью кластеризации мы разбили наших пользователей на три кластера, однако они получились достаточно неравными между собой;\n",
    "- Самым большим получился кластер 1 - в него попало 85% всех пользователей, однако по остальным показателям он существенно проседает. Среднее время сеанса пользователей составило 19 минут, а суммарное время проведенное в приложении 19 часов. Практически не просматривают рекомендованные объявления и не добавляют объявления в избранное. Конверсия совершенно никакая (0,68%). Да и посещаемость у этого кластера низкая, в среднем 2 посещения на каждого пользователя;\n",
    "- Средним получился кластер 2 - в него попало 14% от всех пользователей. По показателям он лучше предыдущего кластера, но есть куда расти. Среднее время сеанса пользователей составило 62 минуты, а суммарное время, проведенное в приложении 310 часов. Просматривают и добавляют объявления в избранное куда охотнее, да и конверсия в несколько раз лучше. К тому же посещаемость у них в среднем 7 визитов на каждого пользователя;\n",
    "- Самым немногочисленным, но эффективным получился кластер 3. Всего 1% от общего количества пользователей, но этот 1% стоит оставшихся 99%. Среднее время сеанса пользователей составило почти 7 часов, а суммарное время использования приложения больше двух недель. Самый высокий показатель конверсии в целевое действие - просмотр контактов и уверенные показатели просмотра рекомендованных объявлений и добавления объявлений в избранное. Определенно, самые активные пользователи собрались в этом кластере. "
   ]
  },
  {
   "cell_type": "code",
   "execution_count": 37,
   "metadata": {},
   "outputs": [
    {
     "data": {
      "image/png": "[encoded data removed]",
      "text/plain": [
       "<Figure size 720x576 with 1 Axes>"
      ]
     },
     "metadata": {
      "needs_background": "light"
     },
     "output_type": "display_data"
    },
    {
     "data": {
      "image/png": "[encoded data removed]",
      "text/plain": [
       "<Figure size 720x576 with 1 Axes>"
      ]
     },
     "metadata": {
      "needs_background": "light"
     },
     "output_type": "display_data"
    },
    {
     "data": {
      "image/png": "[encoded data removed]",
      "text/plain": [
       "<Figure size 720x576 with 1 Axes>"
      ]
     },
     "metadata": {
      "needs_background": "light"
     },
     "output_type": "display_data"
    },
    {
     "data": {
      "image/png": "[encoded data removed]",
      "text/plain": [
       "<Figure size 720x576 with 1 Axes>"
      ]
     },
     "metadata": {
      "needs_background": "light"
     },
     "output_type": "display_data"
    },
    {
     "data": {
      "image/png": "[encoded data removed]",
      "text/plain": [
       "<Figure size 720x576 with 1 Axes>"
      ]
     },
     "metadata": {
      "needs_background": "light"
     },
     "output_type": "display_data"
    }
   ],
   "source": [
    "# построим графики распределения признаков для кластеров\n",
    "for column in {'visits', 'total_time_spent', 'time_spent', 'tips', 'favorites'}:\n",
    "    rcParams['figure.figsize'] = 10, 8\n",
    "    sns.boxplot(x='cluster_km', y=column,  data=features)\n",
    "    plt.show()"
   ]
  },
  {
   "cell_type": "code",
   "execution_count": 38,
   "metadata": {},
   "outputs": [
    {
     "data": {
      "image/png": "[encoded data removed]",
      "text/plain": [
       "<Figure size 720x576 with 1 Axes>"
      ]
     },
     "metadata": {
      "needs_background": "light"
     },
     "output_type": "display_data"
    },
    {
     "name": "stdout",
     "output_type": "stream",
     "text": [
      "cluster_km\n",
      "0     0.682653\n",
      "1     1.902156\n",
      "2    21.731707\n",
      "Name: conversions, dtype: float64\n"
     ]
    }
   ],
   "source": [
    "# построим график распределения целевой переменной для кластеров\n",
    "rcParams['figure.figsize'] = 10, 8\n",
    "sns.boxplot(x='cluster_km', y='conversions',  data=features)\n",
    "plt.show();\n",
    "# выведем значения\n",
    "print(clusters_mean['conversions'])"
   ]
  },
  {
   "cell_type": "markdown",
   "metadata": {},
   "source": [
    "##### В прицнипе, построенные графики распределения признаков для кластеров подтверждают выводы, сделанные ранее."
   ]
  },
  {
   "cell_type": "markdown",
   "metadata": {},
   "source": [
    "### Шаг 5. Статистический анализ данных"
   ]
  },
  {
   "cell_type": "code",
   "execution_count": 39,
   "metadata": {},
   "outputs": [
    {
     "data": {
      "text/html": [
       "<div>\n",
       "<style scoped>\n",
       "    .dataframe tbody tr th:only-of-type {\n",
       "        vertical-align: middle;\n",
       "    }\n",
       "\n",
       "    .dataframe tbody tr th {\n",
       "        vertical-align: top;\n",
       "    }\n",
       "\n",
       "    .dataframe thead th {\n",
       "        text-align: right;\n",
       "    }\n",
       "</style>\n",
       "<table border=\"1\" class=\"dataframe\">\n",
       "  <thead>\n",
       "    <tr style=\"text-align: right;\">\n",
       "      <th></th>\n",
       "      <th>source</th>\n",
       "      <th>total_users</th>\n",
       "    </tr>\n",
       "  </thead>\n",
       "  <tbody>\n",
       "    <tr>\n",
       "      <th>0</th>\n",
       "      <td>google</td>\n",
       "      <td>1129</td>\n",
       "    </tr>\n",
       "    <tr>\n",
       "      <th>1</th>\n",
       "      <td>other</td>\n",
       "      <td>1230</td>\n",
       "    </tr>\n",
       "    <tr>\n",
       "      <th>2</th>\n",
       "      <td>yandex</td>\n",
       "      <td>1934</td>\n",
       "    </tr>\n",
       "  </tbody>\n",
       "</table>\n",
       "</div>"
      ],
      "text/plain": [
       "   source  total_users\n",
       "0  google         1129\n",
       "1   other         1230\n",
       "2  yandex         1934"
      ]
     },
     "execution_count": 39,
     "metadata": {},
     "output_type": "execute_result"
    }
   ],
   "source": [
    "# сформируем таблицу с общим количеством пользователей по источникам\n",
    "total_users = sources.groupby('source', as_index=False).count().rename(columns={'user_id':'total_users'})\n",
    "total_users"
   ]
  },
  {
   "cell_type": "code",
   "execution_count": 40,
   "metadata": {},
   "outputs": [
    {
     "data": {
      "text/html": [
       "<div>\n",
       "<style scoped>\n",
       "    .dataframe tbody tr th:only-of-type {\n",
       "        vertical-align: middle;\n",
       "    }\n",
       "\n",
       "    .dataframe tbody tr th {\n",
       "        vertical-align: top;\n",
       "    }\n",
       "\n",
       "    .dataframe thead th {\n",
       "        text-align: right;\n",
       "    }\n",
       "</style>\n",
       "<table border=\"1\" class=\"dataframe\">\n",
       "  <thead>\n",
       "    <tr style=\"text-align: right;\">\n",
       "      <th></th>\n",
       "      <th>source</th>\n",
       "      <th>goal_users</th>\n",
       "      <th>total_users</th>\n",
       "      <th>cr</th>\n",
       "    </tr>\n",
       "  </thead>\n",
       "  <tbody>\n",
       "    <tr>\n",
       "      <th>0</th>\n",
       "      <td>google</td>\n",
       "      <td>275</td>\n",
       "      <td>1129</td>\n",
       "      <td>0.243578</td>\n",
       "    </tr>\n",
       "    <tr>\n",
       "      <th>1</th>\n",
       "      <td>other</td>\n",
       "      <td>228</td>\n",
       "      <td>1230</td>\n",
       "      <td>0.185366</td>\n",
       "    </tr>\n",
       "    <tr>\n",
       "      <th>2</th>\n",
       "      <td>yandex</td>\n",
       "      <td>478</td>\n",
       "      <td>1934</td>\n",
       "      <td>0.247156</td>\n",
       "    </tr>\n",
       "  </tbody>\n",
       "</table>\n",
       "</div>"
      ],
      "text/plain": [
       "   source  goal_users  total_users        cr\n",
       "0  google         275         1129  0.243578\n",
       "1   other         228         1230  0.185366\n",
       "2  yandex         478         1934  0.247156"
      ]
     },
     "execution_count": 40,
     "metadata": {},
     "output_type": "execute_result"
    }
   ],
   "source": [
    "# сформируем таблицу с пользователями, совершившими целевое действие - просмотр контактов\n",
    "goal_users = data.query('event_name==\"show_contacts\"').groupby(['source'], as_index=False).agg({'user_id':'nunique'}).rename(columns={'user_id':'goal_users'})\n",
    "\n",
    "# объединим датасеты\n",
    "conversion_users = pd.merge(goal_users, total_users, on='source')\n",
    "\n",
    "# рассчитаем CR\n",
    "conversion_users['cr'] = conversion_users['goal_users'] / conversion_users['total_users']\n",
    "conversion_users"
   ]
  },
  {
   "cell_type": "code",
   "execution_count": 41,
   "metadata": {},
   "outputs": [
    {
     "data": {
      "text/html": [
       "<div>\n",
       "<style scoped>\n",
       "    .dataframe tbody tr th:only-of-type {\n",
       "        vertical-align: middle;\n",
       "    }\n",
       "\n",
       "    .dataframe tbody tr th {\n",
       "        vertical-align: top;\n",
       "    }\n",
       "\n",
       "    .dataframe thead th {\n",
       "        text-align: right;\n",
       "    }\n",
       "</style>\n",
       "<table border=\"1\" class=\"dataframe\">\n",
       "  <thead>\n",
       "    <tr style=\"text-align: right;\">\n",
       "      <th></th>\n",
       "      <th>source</th>\n",
       "      <th>favorites_users</th>\n",
       "      <th>total_users</th>\n",
       "      <th>cr</th>\n",
       "    </tr>\n",
       "  </thead>\n",
       "  <tbody>\n",
       "    <tr>\n",
       "      <th>0</th>\n",
       "      <td>google</td>\n",
       "      <td>114</td>\n",
       "      <td>1129</td>\n",
       "      <td>0.100974</td>\n",
       "    </tr>\n",
       "    <tr>\n",
       "      <th>1</th>\n",
       "      <td>other</td>\n",
       "      <td>77</td>\n",
       "      <td>1230</td>\n",
       "      <td>0.062602</td>\n",
       "    </tr>\n",
       "    <tr>\n",
       "      <th>2</th>\n",
       "      <td>yandex</td>\n",
       "      <td>160</td>\n",
       "      <td>1934</td>\n",
       "      <td>0.082730</td>\n",
       "    </tr>\n",
       "  </tbody>\n",
       "</table>\n",
       "</div>"
      ],
      "text/plain": [
       "   source  favorites_users  total_users        cr\n",
       "0  google              114         1129  0.100974\n",
       "1   other               77         1230  0.062602\n",
       "2  yandex              160         1934  0.082730"
      ]
     },
     "execution_count": 41,
     "metadata": {},
     "output_type": "execute_result"
    }
   ],
   "source": [
    "# сформируем таблицу с пользователями, добавившими объявление в избранное\n",
    "fav_users = data.query('event_name==\"favorites_add\"').groupby(['source'], as_index=False).agg({'user_id':'nunique'}).rename(columns={'user_id':'favorites_users'})\n",
    "\n",
    "# объединим датасеты\n",
    "fav_users_1 = pd.merge(fav_users, total_users, on='source')\n",
    "# рассчитаем CR\n",
    "fav_users_1['cr'] = fav_users_1['favorites_users'] / fav_users_1['total_users']\n",
    "fav_users_1"
   ]
  },
  {
   "cell_type": "code",
   "execution_count": 42,
   "metadata": {},
   "outputs": [
    {
     "name": "stdout",
     "output_type": "stream",
     "text": [
      "z_value = -0.2218487822311678\n",
      "Не получилось отвергнуть нулевую гипотезу, нет оснований считать доли разными\n"
     ]
    }
   ],
   "source": [
    "# произведем проверку первой пары статистических гипотез\n",
    "\n",
    "# H0 - Конверсия в просмотр контактов между пользователяи, установшими приложение по ссылке из yandex и пользователями, установшими приложение по ссылке из google, одинаковая\n",
    "# H1 - Конверсия в просмотр контактов между пользователями, установившими приложение по ссылке из yandex и пользователями, установившими приложение по ссылке из google, различается\n",
    "\n",
    "alpha = .05 # критический уровень статистической значимости\n",
    "\n",
    "purchases = np.array([275, 478])\n",
    "leads = np.array([1129, 1934])\n",
    "\n",
    "p1 = purchases[0] / leads[0]\n",
    "p2 = purchases[1] / leads[1]\n",
    "p_combined = (purchases[0] + purchases[1]) / (leads[0] + leads[1])\n",
    "z_value = (p1 - p2) / mth.sqrt(p_combined * (1 - p_combined) * (1/leads[0] + 1/leads[1]))\n",
    "distr = stats.norm(0, 1)\n",
    "p_value = (1 - distr.cdf(abs(z_value))) * 2\n",
    "print('z_value =', z_value)\n",
    "\n",
    "if (p_value < alpha):\n",
    "    print(\"Отвергаем нулевую гипотезу: между долями есть значимая разница\")\n",
    "else:\n",
    "    print(\"Не получилось отвергнуть нулевую гипотезу, нет оснований считать доли разными\")"
   ]
  },
  {
   "cell_type": "code",
   "execution_count": 43,
   "metadata": {},
   "outputs": [
    {
     "name": "stdout",
     "output_type": "stream",
     "text": [
      "z_value = 1.7067679449703979\n",
      "Не получилось отвергнуть нулевую гипотезу, нет оснований считать доли разными\n"
     ]
    }
   ],
   "source": [
    "# произведем проверку второй пары статистических гипотезы\n",
    "\n",
    "# H0 - Конверсия в добавление объявления в избранное между пользователями, установившими приложение по ссылке из других источников не отличается от конверсии пользователей, установивших приложение по ссылке из yandex или google\n",
    "# H1 - Конверсия в добавление объявления в избранное между пользователями, установшими приложение по ссылке из других источников отличается от конверсии пользователей, установивших приложение со ссылке из yandex или google\n",
    "\n",
    "alpha = .05 # критический уровень статистической значимости\n",
    "\n",
    "purchases = np.array([114, 160])\n",
    "leads = np.array([1129, 1934])\n",
    "\n",
    "p1 = purchases[0] / leads[0]\n",
    "p2 = purchases[1] / leads[1]\n",
    "p_combined = (purchases[0] + purchases[1]) / (leads[0] + leads[1])\n",
    "z_value = (p1 - p2) / mth.sqrt(p_combined * (1 - p_combined) * (1/leads[0] + 1/leads[1]))\n",
    "distr = stats.norm(0, 1)\n",
    "p_value = (1 - distr.cdf(abs(z_value))) * 2\n",
    "print('z_value =', z_value)\n",
    "\n",
    "if (p_value < alpha):\n",
    "    print(\"Отвергаем нулевую гипотезу: между долями есть значимая разница\")\n",
    "else:\n",
    "    print(\"Не получилось отвергнуть нулевую гипотезу, нет оснований считать доли разными\")"
   ]
  },
  {
   "cell_type": "markdown",
   "metadata": {},
   "source": [
    "##### Вывод\n",
    "- На основании проведенного статистического анализа данных можно сделать вывод о том, что разницы между конверсией в просмотр контактов между пользователями, пришедшими из yandex, и пользователями, пришедшими из google, нет;\n",
    "- Также разницы в конверсии в добавлении объявлений в избранное между пользователями, пришедшими из yandex и пользователями, пришедшими из google, нет;\n",
    "- Можно считать, что по итогу статистического анализа данных были подтверждены обе нулевые гипотезы, выдвинутые в процессе исследования. "
   ]
  },
  {
   "cell_type": "markdown",
   "metadata": {},
   "source": [
    "### Шаг 6. Общий вывод и рекомендации"
   ]
  },
  {
   "cell_type": "markdown",
   "metadata": {},
   "source": [
    "##### Общий вывод\n",
    "- всего приложением воспользовались 4293 пользователей;\n",
    "- большего всего трафика приходит через Яндекс, а меньше всего через Googlе - 1934 против 1129;\n",
    "- больше всего активности пользователей происходит в будни, а меньше в выходные;\n",
    "- конверсия в просмотр контактов для всех пользователей составляет 23%.\n",
    "\n",
    "##### Оптимальное количество кластеров - 3.\n",
    "\n",
    "###### Кластер 1 \n",
    "- 85% от общего количества пользователей. Среднее время сеанса 19 минут, суммарное время в приложении 19 часов. Практически отсувствуют показатели вовлеченности и низкая конверсия в целевое действие;\n",
    "\n",
    "##### Кластер 2\n",
    "- 14% от общего количества пользователей. Среднее время сеанса 62 минуты, суммарное время в приложении 310 часов. Показатели вовлеченности значительно выше, чем у первого кластера;\n",
    "\n",
    "##### Кластер 3\n",
    "- 1% от общего количества пользователей. Среднее время сеанса 7 часов, суммарное время в приложении более двух недель. Самые высокие показатели вовлеченности и конвервии в целевое действие. Наиболее активные пользователи в этом кластере. \n",
    "\n",
    "##### В процессе работы были выдвинуты следующие пары гипотез:\n",
    "\n",
    "##### Первая пара\n",
    "- H0 - Конверсия в просмотр контактов между пользователяи, установшими приложение по ссылке из yandex и пользователями, установшими приложение по ссылке из google, одинаковая;\n",
    "- H1 - Конверсия в просмотр контактов между пользователями, установившими приложение по ссылке из yandex и пользователями, установившими приложение по ссылке из google, различается.\n",
    "\n",
    "##### Вторая пара\n",
    "- H0 - Конверсия в добавление объявления в избранное между пользователями, установившими приложение по ссылке из yandex не отличается от конверсии пользователей, установивших приложение по ссылке из google;\n",
    "- H1 - Конверсия в добавление объявления в избранное между пользователями, установшими приложение по ссылке из yandex отличается от конверсии пользователей, установивших приложение со ссылке из google.\n",
    "\n",
    "##### По итогу статистического анализа можно сделать вывод о том, что между долями нет значимой разницы, а следовательно обе гипотезы H0 были подтверждены. Следовательно, разницы в конверсии в просмотр контактов между пользователи, пришедшими из yandex и пользователями, пришедшими из google, нет. Также разницы в конверсии в добавление контактов между пользователями из yandeх и пользователями из google, нет.\n",
    "\n",
    "##### Рекомендации\n",
    "- Развивать рекламу в Google и других источниках. Хорошо, конечно, что через Яндекс столько приходит пользователей, но нужно охватить как можно больше пользователей;\n",
    "- Настроить более точно алгоритм подбора рекомендованных объявлений. Вполне вероятно, что пользователи не просматривают рекомендованные объявления и не добавляют объявления в избранное из-за того, что им система не предлагает им действительно нужные предложения;\n",
    "- Стимулировать пользователей к покупкам. Допустим, запустить начсление баллов за покупку. "
   ]
  }
 ],
 "metadata": {
  "kernelspec": {
   "display_name": "Python 3",
   "language": "python",
   "name": "python3"
  },
  "language_info": {
   "codemirror_mode": {
    "name": "ipython",
    "version": 3
   },
   "file_extension": ".py",
   "mimetype": "text/x-python",
   "name": "python",
   "nbconvert_exporter": "python",
   "pygments_lexer": "ipython3",
   "version": "3.7.6"
  }
 },
 "nbformat": 4,
 "nbformat_minor": 2
}
