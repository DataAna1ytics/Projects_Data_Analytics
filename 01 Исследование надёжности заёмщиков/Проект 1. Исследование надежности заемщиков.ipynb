{
 "cells": [
  {
   "cell_type": "markdown",
   "metadata": {},
   "source": [
    "## Исследование надежности заемщиков"
   ]
  },
  {
   "cell_type": "markdown",
   "metadata": {},
   "source": [
    "### Описание проекта\n",
    "Заказчик — кредитный отдел банка. Нужно разобраться, влияет ли семейное положение и количество детей клиента на факт погашения кредита в срок. Входные данные от банка — статистика о платёжеспособности клиентов.\n",
    "Результаты исследования будут учтены при построении модели кредитного скоринга"
   ]
  },
  {
   "cell_type": "markdown",
   "metadata": {},
   "source": [
    "---\n",
    "\n",
    "### <a id=\"stepend\"> Оглавление</a>\n",
    "\n",
    "- [Импорт библиотек, данных и получение первичной информации](#step1) </n>\n",
    "- [Предобработка данных](#step2)\n",
    "- [Лемматизация](#step3)\n",
    "- [Категоризация данных](#step4)\n",
    "- [Ответы на вопросы](#step5)\n",
    "- [Общий вывод](#step6)\n",
    "\n",
    "---"
   ]
  },
  {
   "cell_type": "markdown",
   "metadata": {},
   "source": [
    "### План исследования\n",
    "- заполнить пропущенные значения;\n",
    "- обработать дубликаты;\n",
    "- привести к нижнему регистру значения категорий в столбцах;\n",
    "- изменить тип данных в столбцах days_employed и total_income на целочисленный;\n",
    "- произвести категоризацию уровней дохода;\n",
    "- произвести категоризацию целей получения кредита в столбце purpose.\n",
    "\n",
    "---\n",
    "\n",
    "#### Ответить на вопросы:\n",
    "- Есть ли зависимость между количеством детей и возвратом кредита в срок?\n",
    "- Есть ли зависимость между семейным положением и возвратом кредита в срок?\n",
    "- Есть ли зависимость между уровнем дохода и возвратом кредита в срок?\n",
    "- Как разные цели кредита влияют на его возврат в срок?\n",
    "\n",
    "---\n",
    "\n",
    "#### Написать общий вывод."
   ]
  },
  {
   "cell_type": "markdown",
   "metadata": {},
   "source": [
    "### <a id='step1'>Импорт библиотек, данных и получение первичной информации</a>"
   ]
  },
  {
   "cell_type": "code",
   "execution_count": 1,
   "metadata": {},
   "outputs": [],
   "source": [
    "# импорт библиотек\n",
    "import pandas as pd\n",
    "import numpy as np\n",
    "import seaborn as sns\n",
    "from matplotlib import pyplot as plt\n",
    "from scipy import stats"
   ]
  },
  {
   "cell_type": "code",
   "execution_count": 2,
   "metadata": {},
   "outputs": [],
   "source": [
    "# импортируем датасет\n",
    "data = pd.read_csv('')"
   ]
  },
  {
   "cell_type": "code",
   "execution_count": 3,
   "metadata": {},
   "outputs": [
    {
     "name": "stdout",
     "output_type": "stream",
     "text": [
      "<class 'pandas.core.frame.DataFrame'>\n",
      "RangeIndex: 21525 entries, 0 to 21524\n",
      "Data columns (total 12 columns):\n",
      " #   Column            Non-Null Count  Dtype  \n",
      "---  ------            --------------  -----  \n",
      " 0   children          21525 non-null  int64  \n",
      " 1   days_employed     19351 non-null  float64\n",
      " 2   dob_years         21525 non-null  int64  \n",
      " 3   education         21525 non-null  object \n",
      " 4   education_id      21525 non-null  int64  \n",
      " 5   family_status     21525 non-null  object \n",
      " 6   family_status_id  21525 non-null  int64  \n",
      " 7   gender            21525 non-null  object \n",
      " 8   income_type       21525 non-null  object \n",
      " 9   debt              21525 non-null  int64  \n",
      " 10  total_income      19351 non-null  float64\n",
      " 11  purpose           21525 non-null  object \n",
      "dtypes: float64(2), int64(5), object(5)\n",
      "memory usage: 2.0+ MB\n"
     ]
    }
   ],
   "source": [
    "# первичное представление о данных\n",
    "data.info()"
   ]
  },
  {
   "cell_type": "code",
   "execution_count": 4,
   "metadata": {},
   "outputs": [
    {
     "name": "stdout",
     "output_type": "stream",
     "text": [
      " 0     14149\n",
      " 1      4818\n",
      " 2      2055\n",
      " 3       330\n",
      " 20       76\n",
      "-1        47\n",
      " 4        41\n",
      " 5         9\n",
      "Name: children, dtype: int64\n",
      "-986.927316     1\n",
      "-7026.359174    1\n",
      "-4236.274243    1\n",
      "-6620.396473    1\n",
      "-1238.560080    1\n",
      "               ..\n",
      "-2849.351119    1\n",
      "-5619.328204    1\n",
      "-448.829898     1\n",
      "-1687.038672    1\n",
      "-582.538413     1\n",
      "Name: days_employed, Length: 19351, dtype: int64\n",
      "35    617\n",
      "40    609\n",
      "41    607\n",
      "34    603\n",
      "38    598\n",
      "42    597\n",
      "33    581\n",
      "39    573\n",
      "31    560\n",
      "36    555\n",
      "44    547\n",
      "29    545\n",
      "30    540\n",
      "48    538\n",
      "37    537\n",
      "50    514\n",
      "43    513\n",
      "32    510\n",
      "49    508\n",
      "28    503\n",
      "45    497\n",
      "27    493\n",
      "56    487\n",
      "52    484\n",
      "47    480\n",
      "54    479\n",
      "46    475\n",
      "58    461\n",
      "57    460\n",
      "53    459\n",
      "51    448\n",
      "59    444\n",
      "55    443\n",
      "26    408\n",
      "60    377\n",
      "25    357\n",
      "61    355\n",
      "62    352\n",
      "63    269\n",
      "64    265\n",
      "24    264\n",
      "23    254\n",
      "65    194\n",
      "66    183\n",
      "22    183\n",
      "67    167\n",
      "21    111\n",
      "0     101\n",
      "68     99\n",
      "69     85\n",
      "70     65\n",
      "71     58\n",
      "20     51\n",
      "72     33\n",
      "19     14\n",
      "73      8\n",
      "74      6\n",
      "75      1\n",
      "Name: dob_years, dtype: int64\n",
      "среднее                13750\n",
      "высшее                  4718\n",
      "СРЕДНЕЕ                  772\n",
      "Среднее                  711\n",
      "неоконченное высшее      668\n",
      "ВЫСШЕЕ                   274\n",
      "Высшее                   268\n",
      "начальное                250\n",
      "Неоконченное высшее       47\n",
      "НЕОКОНЧЕННОЕ ВЫСШЕЕ       29\n",
      "НАЧАЛЬНОЕ                 17\n",
      "Начальное                 15\n",
      "ученая степень             4\n",
      "УЧЕНАЯ СТЕПЕНЬ             1\n",
      "Ученая степень             1\n",
      "Name: education, dtype: int64\n",
      "1    15233\n",
      "0     5260\n",
      "2      744\n",
      "3      282\n",
      "4        6\n",
      "Name: education_id, dtype: int64\n",
      "женат / замужем          12380\n",
      "гражданский брак          4177\n",
      "Не женат / не замужем     2813\n",
      "в разводе                 1195\n",
      "вдовец / вдова             960\n",
      "Name: family_status, dtype: int64\n",
      "0    12380\n",
      "1     4177\n",
      "4     2813\n",
      "3     1195\n",
      "2      960\n",
      "Name: family_status_id, dtype: int64\n",
      "F      14236\n",
      "M       7288\n",
      "XNA        1\n",
      "Name: gender, dtype: int64\n",
      "сотрудник          11119\n",
      "компаньон           5085\n",
      "пенсионер           3856\n",
      "госслужащий         1459\n",
      "предприниматель        2\n",
      "безработный            2\n",
      "студент                1\n",
      "в декрете              1\n",
      "Name: income_type, dtype: int64\n",
      "0    19784\n",
      "1     1741\n",
      "Name: debt, dtype: int64\n",
      "112874.418757    1\n",
      "133912.272223    1\n",
      "182036.676828    1\n",
      "122421.963500    1\n",
      "198271.837248    1\n",
      "                ..\n",
      "133299.194693    1\n",
      "115080.782380    1\n",
      "84896.781597     1\n",
      "153838.839212    1\n",
      "150014.128510    1\n",
      "Name: total_income, Length: 19351, dtype: int64\n",
      "свадьба                                   797\n",
      "на проведение свадьбы                     777\n",
      "сыграть свадьбу                           774\n",
      "операции с недвижимостью                  676\n",
      "покупка коммерческой недвижимости         664\n",
      "операции с жильем                         653\n",
      "покупка жилья для сдачи                   653\n",
      "операции с коммерческой недвижимостью     651\n",
      "жилье                                     647\n",
      "покупка жилья                             647\n",
      "покупка жилья для семьи                   641\n",
      "строительство собственной недвижимости    635\n",
      "недвижимость                              634\n",
      "операции со своей недвижимостью           630\n",
      "строительство жилой недвижимости          626\n",
      "покупка недвижимости                      624\n",
      "покупка своего жилья                      620\n",
      "строительство недвижимости                620\n",
      "ремонт жилью                              612\n",
      "покупка жилой недвижимости                607\n",
      "на покупку своего автомобиля              505\n",
      "заняться высшим образованием              496\n",
      "автомобиль                                495\n",
      "сделка с подержанным автомобилем          489\n",
      "свой автомобиль                           480\n",
      "на покупку подержанного автомобиля        479\n",
      "автомобили                                478\n",
      "на покупку автомобиля                     472\n",
      "дополнительное образование                462\n",
      "приобретение автомобиля                   462\n",
      "сделка с автомобилем                      455\n",
      "высшее образование                        453\n",
      "образование                               447\n",
      "получение дополнительного образования     447\n",
      "получение образования                     443\n",
      "профильное образование                    436\n",
      "получение высшего образования             426\n",
      "заняться образованием                     412\n",
      "Name: purpose, dtype: int64\n"
     ]
    }
   ],
   "source": [
    "# количество уникальных значений во всех\n",
    "for column in data.columns:\n",
    "     print(data[column].value_counts())"
   ]
  },
  {
   "cell_type": "code",
   "execution_count": 5,
   "metadata": {},
   "outputs": [
    {
     "data": {
      "text/plain": [
       "children               0\n",
       "days_employed       2174\n",
       "dob_years              0\n",
       "education              0\n",
       "education_id           0\n",
       "family_status          0\n",
       "family_status_id       0\n",
       "gender                 0\n",
       "income_type            0\n",
       "debt                   0\n",
       "total_income        2174\n",
       "purpose                0\n",
       "dtype: int64"
      ]
     },
     "execution_count": 5,
     "metadata": {},
     "output_type": "execute_result"
    }
   ],
   "source": [
    "# количество пропущенных значений в датасете\n",
    "data.isna().sum()"
   ]
  },
  {
   "cell_type": "code",
   "execution_count": 6,
   "metadata": {},
   "outputs": [
    {
     "data": {
      "text/plain": [
       "54"
      ]
     },
     "execution_count": 6,
     "metadata": {},
     "output_type": "execute_result"
    }
   ],
   "source": [
    "# количество дубликатов в датасете\n",
    "data.duplicated().sum()"
   ]
  },
  {
   "cell_type": "code",
   "execution_count": 7,
   "metadata": {},
   "outputs": [
    {
     "data": {
      "text/html": [
       "<div>\n",
       "<style scoped>\n",
       "    .dataframe tbody tr th:only-of-type {\n",
       "        vertical-align: middle;\n",
       "    }\n",
       "\n",
       "    .dataframe tbody tr th {\n",
       "        vertical-align: top;\n",
       "    }\n",
       "\n",
       "    .dataframe thead th {\n",
       "        text-align: right;\n",
       "    }\n",
       "</style>\n",
       "<table border=\"1\" class=\"dataframe\">\n",
       "  <thead>\n",
       "    <tr style=\"text-align: right;\">\n",
       "      <th></th>\n",
       "      <th>children</th>\n",
       "      <th>days_employed</th>\n",
       "      <th>dob_years</th>\n",
       "      <th>education</th>\n",
       "      <th>education_id</th>\n",
       "      <th>family_status</th>\n",
       "      <th>family_status_id</th>\n",
       "      <th>gender</th>\n",
       "      <th>income_type</th>\n",
       "      <th>debt</th>\n",
       "      <th>total_income</th>\n",
       "      <th>purpose</th>\n",
       "    </tr>\n",
       "  </thead>\n",
       "  <tbody>\n",
       "    <tr>\n",
       "      <th>0</th>\n",
       "      <td>1</td>\n",
       "      <td>-8437.673028</td>\n",
       "      <td>42</td>\n",
       "      <td>высшее</td>\n",
       "      <td>0</td>\n",
       "      <td>женат / замужем</td>\n",
       "      <td>0</td>\n",
       "      <td>F</td>\n",
       "      <td>сотрудник</td>\n",
       "      <td>0</td>\n",
       "      <td>253875.639453</td>\n",
       "      <td>покупка жилья</td>\n",
       "    </tr>\n",
       "    <tr>\n",
       "      <th>1</th>\n",
       "      <td>1</td>\n",
       "      <td>-4024.803754</td>\n",
       "      <td>36</td>\n",
       "      <td>среднее</td>\n",
       "      <td>1</td>\n",
       "      <td>женат / замужем</td>\n",
       "      <td>0</td>\n",
       "      <td>F</td>\n",
       "      <td>сотрудник</td>\n",
       "      <td>0</td>\n",
       "      <td>112080.014102</td>\n",
       "      <td>приобретение автомобиля</td>\n",
       "    </tr>\n",
       "    <tr>\n",
       "      <th>2</th>\n",
       "      <td>0</td>\n",
       "      <td>-5623.422610</td>\n",
       "      <td>33</td>\n",
       "      <td>Среднее</td>\n",
       "      <td>1</td>\n",
       "      <td>женат / замужем</td>\n",
       "      <td>0</td>\n",
       "      <td>M</td>\n",
       "      <td>сотрудник</td>\n",
       "      <td>0</td>\n",
       "      <td>145885.952297</td>\n",
       "      <td>покупка жилья</td>\n",
       "    </tr>\n",
       "    <tr>\n",
       "      <th>3</th>\n",
       "      <td>3</td>\n",
       "      <td>-4124.747207</td>\n",
       "      <td>32</td>\n",
       "      <td>среднее</td>\n",
       "      <td>1</td>\n",
       "      <td>женат / замужем</td>\n",
       "      <td>0</td>\n",
       "      <td>M</td>\n",
       "      <td>сотрудник</td>\n",
       "      <td>0</td>\n",
       "      <td>267628.550329</td>\n",
       "      <td>дополнительное образование</td>\n",
       "    </tr>\n",
       "    <tr>\n",
       "      <th>4</th>\n",
       "      <td>0</td>\n",
       "      <td>340266.072047</td>\n",
       "      <td>53</td>\n",
       "      <td>среднее</td>\n",
       "      <td>1</td>\n",
       "      <td>гражданский брак</td>\n",
       "      <td>1</td>\n",
       "      <td>F</td>\n",
       "      <td>пенсионер</td>\n",
       "      <td>0</td>\n",
       "      <td>158616.077870</td>\n",
       "      <td>сыграть свадьбу</td>\n",
       "    </tr>\n",
       "  </tbody>\n",
       "</table>\n",
       "</div>"
      ],
      "text/plain": [
       "   children  days_employed  dob_years education  education_id  \\\n",
       "0         1   -8437.673028         42    высшее             0   \n",
       "1         1   -4024.803754         36   среднее             1   \n",
       "2         0   -5623.422610         33   Среднее             1   \n",
       "3         3   -4124.747207         32   среднее             1   \n",
       "4         0  340266.072047         53   среднее             1   \n",
       "\n",
       "      family_status  family_status_id gender income_type  debt   total_income  \\\n",
       "0   женат / замужем                 0      F   сотрудник     0  253875.639453   \n",
       "1   женат / замужем                 0      F   сотрудник     0  112080.014102   \n",
       "2   женат / замужем                 0      M   сотрудник     0  145885.952297   \n",
       "3   женат / замужем                 0      M   сотрудник     0  267628.550329   \n",
       "4  гражданский брак                 1      F   пенсионер     0  158616.077870   \n",
       "\n",
       "                      purpose  \n",
       "0               покупка жилья  \n",
       "1     приобретение автомобиля  \n",
       "2               покупка жилья  \n",
       "3  дополнительное образование  \n",
       "4             сыграть свадьбу  "
      ]
     },
     "execution_count": 7,
     "metadata": {},
     "output_type": "execute_result"
    }
   ],
   "source": [
    "# первые пять строк датасета\n",
    "data.head()"
   ]
  },
  {
   "cell_type": "markdown",
   "metadata": {},
   "source": [
    "#### Вывод"
   ]
  },
  {
   "cell_type": "markdown",
   "metadata": {},
   "source": [
    "#### Наименования столбцов и их содержание:\n",
    "- children — количество детей в семье;\n",
    "- days_employed — общий трудовой стаж в днях;\n",
    "- dob_years — возраст клиента в годах;\n",
    "- education — уровень образования клиента;\n",
    "- education_id — идентификатор уровня образования;\n",
    "- family_status — семейное положение;\n",
    "- family_status_id — идентификатор семейного положения;\n",
    "- gender — пол клиента;\n",
    "- income_type — тип занятости;\n",
    "- debt — имел ли клиент задолженность по возврату кредитов;\n",
    "- total_income — ежемесячный доход;\n",
    "- purpose — цель получения кредита.\n",
    "\n",
    "--- \n",
    "\n",
    "#### Обнаруженные неточности в данных:\n",
    "- в столбце children есть отрицательное количество детей и также аномально-высокое количество детей почти у 80 человек;\n",
    "- в столбцах days_employed и total_income данные представлены не в целочисленном формате. Также есть отрицательные и пропущенные значения;\n",
    "- в столбцах education, family_status и purpose одинаковые по значению категории записаны разным регистром;\n",
    "- в столбцах gender и total_income есть пропущенные значения."
   ]
  },
  {
   "cell_type": "markdown",
   "metadata": {},
   "source": [
    "### <a id='step2'>Предобработка данных</a>"
   ]
  },
  {
   "cell_type": "code",
   "execution_count": 8,
   "metadata": {},
   "outputs": [
    {
     "data": {
      "text/plain": [
       "0    14149\n",
       "1     4865\n",
       "2     2131\n",
       "3      330\n",
       "4       41\n",
       "5        9\n",
       "Name: children, dtype: int64"
      ]
     },
     "execution_count": 8,
     "metadata": {},
     "output_type": "execute_result"
    }
   ],
   "source": [
    "# избавимся от отрицательных и аномально-высоких значений в столбце children\n",
    "data['children'] = data['children'].replace([20, -1], [2, 1])\n",
    "\n",
    "# проверка\n",
    "data['children'].value_counts()"
   ]
  },
  {
   "cell_type": "code",
   "execution_count": 9,
   "metadata": {},
   "outputs": [
    {
     "data": {
      "text/plain": [
       "24.14163324048118"
      ]
     },
     "execution_count": 9,
     "metadata": {},
     "output_type": "execute_result"
    }
   ],
   "source": [
    "# преобразуем отрицательные значения в столбце total_income в положительные\n",
    "data['days_employed'] = data['days_employed'].abs()\n",
    "\n",
    "# проверка\n",
    "data['days_employed'].min()"
   ]
  },
  {
   "cell_type": "code",
   "execution_count": 10,
   "metadata": {},
   "outputs": [
    {
     "data": {
      "text/plain": [
       "0"
      ]
     },
     "execution_count": 10,
     "metadata": {},
     "output_type": "execute_result"
    }
   ],
   "source": [
    "# заполним отсутствующие значения в столбце days_employed медианным значением отработанных дней для каждого типа занятости\n",
    "\n",
    "median_days = data.groupby(['income_type']).agg({'days_employed' : 'median'}) # таблица с медианными значениями для типов занятости\n",
    "\n",
    "# цикл, который заменяет пропущенные значения в days_employed\n",
    "for inc_type in median_days.index:\n",
    "    data.loc[data['income_type'] == inc_type, 'days_employed']= \\\n",
    "    data.loc[data['income_type'] == inc_type, 'days_employed'].fillna(median_days.loc[inc_type, 'days_employed'])\n",
    "    \n",
    "# проверка\n",
    "data['days_employed'].isna().sum()"
   ]
  },
  {
   "cell_type": "code",
   "execution_count": 11,
   "metadata": {},
   "outputs": [
    {
     "data": {
      "text/plain": [
       "0"
      ]
     },
     "execution_count": 11,
     "metadata": {},
     "output_type": "execute_result"
    }
   ],
   "source": [
    "# заполним отсутвующие значения в столбце total_income медианным значением ежемесячного заработка для каждого типа занятости\n",
    "\n",
    "median_income = data.groupby(['income_type']).agg({'total_income' : 'median'}) # таблица с медианными значениями для типов занятости\n",
    "\n",
    "# цикл, который заменяет пропущенные значения в total_income\n",
    "for inc_type in median_income.index:\n",
    "    data.loc[data['income_type'] == inc_type, 'total_income']= \\\n",
    "    data.loc[data['income_type'] == inc_type, 'total_income'].fillna(median_income.loc[inc_type, 'total_income'])\n",
    "    \n",
    "# проверка\n",
    "data['total_income'].isna().sum()"
   ]
  },
  {
   "cell_type": "code",
   "execution_count": 12,
   "metadata": {},
   "outputs": [
    {
     "name": "stdout",
     "output_type": "stream",
     "text": [
      "<class 'pandas.core.frame.DataFrame'>\n",
      "RangeIndex: 21525 entries, 0 to 21524\n",
      "Data columns (total 12 columns):\n",
      " #   Column            Non-Null Count  Dtype \n",
      "---  ------            --------------  ----- \n",
      " 0   children          21525 non-null  int64 \n",
      " 1   days_employed     21525 non-null  int64 \n",
      " 2   dob_years         21525 non-null  int64 \n",
      " 3   education         21525 non-null  object\n",
      " 4   education_id      21525 non-null  int64 \n",
      " 5   family_status     21525 non-null  object\n",
      " 6   family_status_id  21525 non-null  int64 \n",
      " 7   gender            21525 non-null  object\n",
      " 8   income_type       21525 non-null  object\n",
      " 9   debt              21525 non-null  int64 \n",
      " 10  total_income      21525 non-null  int64 \n",
      " 11  purpose           21525 non-null  object\n",
      "dtypes: int64(7), object(5)\n",
      "memory usage: 2.0+ MB\n"
     ]
    }
   ],
   "source": [
    "# значения в столбцах days_empoyed и total_income приведем к целочисленным значениям\n",
    "data[['days_employed', 'total_income']] = data[['days_employed', 'total_income']].astype('int64')\n",
    "\n",
    "# проверка\n",
    "data.info()"
   ]
  },
  {
   "cell_type": "code",
   "execution_count": 13,
   "metadata": {},
   "outputs": [],
   "source": [
    "# меняем отсутствующее значение в столбце gender\n",
    "data['gender'] = data['gender'].replace('XNA', 'M')"
   ]
  },
  {
   "cell_type": "code",
   "execution_count": 14,
   "metadata": {},
   "outputs": [
    {
     "data": {
      "text/plain": [
       "F    14236\n",
       "M     7289\n",
       "Name: gender, dtype: int64"
      ]
     },
     "execution_count": 14,
     "metadata": {},
     "output_type": "execute_result"
    }
   ],
   "source": [
    "# проверка\n",
    "data['gender'].value_counts()"
   ]
  },
  {
   "cell_type": "code",
   "execution_count": 15,
   "metadata": {},
   "outputs": [],
   "source": [
    "# приведем столбцы датасета к единому регистру\n",
    "data.columns = data.columns.str.lower()"
   ]
  },
  {
   "cell_type": "code",
   "execution_count": 16,
   "metadata": {},
   "outputs": [
    {
     "data": {
      "text/html": [
       "<div>\n",
       "<style scoped>\n",
       "    .dataframe tbody tr th:only-of-type {\n",
       "        vertical-align: middle;\n",
       "    }\n",
       "\n",
       "    .dataframe tbody tr th {\n",
       "        vertical-align: top;\n",
       "    }\n",
       "\n",
       "    .dataframe thead th {\n",
       "        text-align: right;\n",
       "    }\n",
       "</style>\n",
       "<table border=\"1\" class=\"dataframe\">\n",
       "  <thead>\n",
       "    <tr style=\"text-align: right;\">\n",
       "      <th></th>\n",
       "      <th>children</th>\n",
       "      <th>days_employed</th>\n",
       "      <th>dob_years</th>\n",
       "      <th>education</th>\n",
       "      <th>education_id</th>\n",
       "      <th>family_status</th>\n",
       "      <th>family_status_id</th>\n",
       "      <th>gender</th>\n",
       "      <th>income_type</th>\n",
       "      <th>debt</th>\n",
       "      <th>total_income</th>\n",
       "      <th>purpose</th>\n",
       "    </tr>\n",
       "  </thead>\n",
       "  <tbody>\n",
       "    <tr>\n",
       "      <th>0</th>\n",
       "      <td>1</td>\n",
       "      <td>8437</td>\n",
       "      <td>42</td>\n",
       "      <td>высшее</td>\n",
       "      <td>0</td>\n",
       "      <td>женат / замужем</td>\n",
       "      <td>0</td>\n",
       "      <td>F</td>\n",
       "      <td>сотрудник</td>\n",
       "      <td>0</td>\n",
       "      <td>253875</td>\n",
       "      <td>покупка жилья</td>\n",
       "    </tr>\n",
       "    <tr>\n",
       "      <th>1</th>\n",
       "      <td>1</td>\n",
       "      <td>4024</td>\n",
       "      <td>36</td>\n",
       "      <td>среднее</td>\n",
       "      <td>1</td>\n",
       "      <td>женат / замужем</td>\n",
       "      <td>0</td>\n",
       "      <td>F</td>\n",
       "      <td>сотрудник</td>\n",
       "      <td>0</td>\n",
       "      <td>112080</td>\n",
       "      <td>приобретение автомобиля</td>\n",
       "    </tr>\n",
       "    <tr>\n",
       "      <th>2</th>\n",
       "      <td>0</td>\n",
       "      <td>5623</td>\n",
       "      <td>33</td>\n",
       "      <td>Среднее</td>\n",
       "      <td>1</td>\n",
       "      <td>женат / замужем</td>\n",
       "      <td>0</td>\n",
       "      <td>M</td>\n",
       "      <td>сотрудник</td>\n",
       "      <td>0</td>\n",
       "      <td>145885</td>\n",
       "      <td>покупка жилья</td>\n",
       "    </tr>\n",
       "    <tr>\n",
       "      <th>3</th>\n",
       "      <td>3</td>\n",
       "      <td>4124</td>\n",
       "      <td>32</td>\n",
       "      <td>среднее</td>\n",
       "      <td>1</td>\n",
       "      <td>женат / замужем</td>\n",
       "      <td>0</td>\n",
       "      <td>M</td>\n",
       "      <td>сотрудник</td>\n",
       "      <td>0</td>\n",
       "      <td>267628</td>\n",
       "      <td>дополнительное образование</td>\n",
       "    </tr>\n",
       "    <tr>\n",
       "      <th>4</th>\n",
       "      <td>0</td>\n",
       "      <td>340266</td>\n",
       "      <td>53</td>\n",
       "      <td>среднее</td>\n",
       "      <td>1</td>\n",
       "      <td>гражданский брак</td>\n",
       "      <td>1</td>\n",
       "      <td>F</td>\n",
       "      <td>пенсионер</td>\n",
       "      <td>0</td>\n",
       "      <td>158616</td>\n",
       "      <td>сыграть свадьбу</td>\n",
       "    </tr>\n",
       "  </tbody>\n",
       "</table>\n",
       "</div>"
      ],
      "text/plain": [
       "   children  days_employed  dob_years education  education_id  \\\n",
       "0         1           8437         42    высшее             0   \n",
       "1         1           4024         36   среднее             1   \n",
       "2         0           5623         33   Среднее             1   \n",
       "3         3           4124         32   среднее             1   \n",
       "4         0         340266         53   среднее             1   \n",
       "\n",
       "      family_status  family_status_id gender income_type  debt  total_income  \\\n",
       "0   женат / замужем                 0      F   сотрудник     0        253875   \n",
       "1   женат / замужем                 0      F   сотрудник     0        112080   \n",
       "2   женат / замужем                 0      M   сотрудник     0        145885   \n",
       "3   женат / замужем                 0      M   сотрудник     0        267628   \n",
       "4  гражданский брак                 1      F   пенсионер     0        158616   \n",
       "\n",
       "                      purpose  \n",
       "0               покупка жилья  \n",
       "1     приобретение автомобиля  \n",
       "2               покупка жилья  \n",
       "3  дополнительное образование  \n",
       "4             сыграть свадьбу  "
      ]
     },
     "execution_count": 16,
     "metadata": {},
     "output_type": "execute_result"
    }
   ],
   "source": [
    "# первые пять строк датасета\n",
    "data.head()"
   ]
  },
  {
   "cell_type": "code",
   "execution_count": 17,
   "metadata": {},
   "outputs": [],
   "source": [
    "# удаляем дубликаты с заменой индекса\n",
    "data = data.drop_duplicates().reset_index(drop=True)"
   ]
  },
  {
   "cell_type": "code",
   "execution_count": 18,
   "metadata": {},
   "outputs": [
    {
     "data": {
      "text/plain": [
       "children            0\n",
       "days_employed       0\n",
       "dob_years           0\n",
       "education           0\n",
       "education_id        0\n",
       "family_status       0\n",
       "family_status_id    0\n",
       "gender              0\n",
       "income_type         0\n",
       "debt                0\n",
       "total_income        0\n",
       "purpose             0\n",
       "dtype: int64"
      ]
     },
     "execution_count": 18,
     "metadata": {},
     "output_type": "execute_result"
    }
   ],
   "source": [
    "# проверка\n",
    "data.isna().sum()"
   ]
  },
  {
   "cell_type": "markdown",
   "metadata": {},
   "source": [
    "### <a id='step3'>Лемматизация</a>"
   ]
  },
  {
   "cell_type": "code",
   "execution_count": null,
   "metadata": {},
   "outputs": [],
   "source": [
    "from pymystem3 import Mystem # импортиуем библиотеку pymystem3\n",
    "m = Mystem()\n",
    "\n",
    "data['purpose_lemma'] = data['purpose'].apply(m.lemmatize) # добавляем в таблицу столбец с леммами для цели кредита\n",
    "\n",
    "# создаем функцию для выделения лемм для слов в столбце\n",
    "lemmas_list = data['purpose_lemma'].values # получаю список значений в столбце, чтобы позже поместить в один большой список all_lemmas_list\n",
    "all_lemmas_list = []\n",
    "for sublist in lemmas_list: # из каждого подсписка в общем списки извлекаем лемму\n",
    "    for element in sublist:\n",
    "        all_lemmas_list.append(element)\n",
    "        \n",
    "from collections import Counter # подсчитываем количество лемм с помощью метода Counter\n",
    "Counter(all_lemmas_list)"
   ]
  },
  {
   "cell_type": "code",
   "execution_count": 19,
   "metadata": {},
   "outputs": [
    {
     "data": {
      "text/html": [
       "<div>\n",
       "<style scoped>\n",
       "    .dataframe tbody tr th:only-of-type {\n",
       "        vertical-align: middle;\n",
       "    }\n",
       "\n",
       "    .dataframe tbody tr th {\n",
       "        vertical-align: top;\n",
       "    }\n",
       "\n",
       "    .dataframe thead th {\n",
       "        text-align: right;\n",
       "    }\n",
       "</style>\n",
       "<table border=\"1\" class=\"dataframe\">\n",
       "  <thead>\n",
       "    <tr style=\"text-align: right;\">\n",
       "      <th></th>\n",
       "      <th>children</th>\n",
       "      <th>days_employed</th>\n",
       "      <th>dob_years</th>\n",
       "      <th>education</th>\n",
       "      <th>education_id</th>\n",
       "      <th>family_status</th>\n",
       "      <th>family_status_id</th>\n",
       "      <th>gender</th>\n",
       "      <th>income_type</th>\n",
       "      <th>debt</th>\n",
       "      <th>total_income</th>\n",
       "      <th>purpose</th>\n",
       "    </tr>\n",
       "  </thead>\n",
       "  <tbody>\n",
       "    <tr>\n",
       "      <th>0</th>\n",
       "      <td>1</td>\n",
       "      <td>8437</td>\n",
       "      <td>42</td>\n",
       "      <td>высшее</td>\n",
       "      <td>0</td>\n",
       "      <td>женат / замужем</td>\n",
       "      <td>0</td>\n",
       "      <td>F</td>\n",
       "      <td>сотрудник</td>\n",
       "      <td>0</td>\n",
       "      <td>253875</td>\n",
       "      <td>покупка жилья</td>\n",
       "    </tr>\n",
       "    <tr>\n",
       "      <th>1</th>\n",
       "      <td>1</td>\n",
       "      <td>4024</td>\n",
       "      <td>36</td>\n",
       "      <td>среднее</td>\n",
       "      <td>1</td>\n",
       "      <td>женат / замужем</td>\n",
       "      <td>0</td>\n",
       "      <td>F</td>\n",
       "      <td>сотрудник</td>\n",
       "      <td>0</td>\n",
       "      <td>112080</td>\n",
       "      <td>приобретение автомобиля</td>\n",
       "    </tr>\n",
       "    <tr>\n",
       "      <th>2</th>\n",
       "      <td>0</td>\n",
       "      <td>5623</td>\n",
       "      <td>33</td>\n",
       "      <td>Среднее</td>\n",
       "      <td>1</td>\n",
       "      <td>женат / замужем</td>\n",
       "      <td>0</td>\n",
       "      <td>M</td>\n",
       "      <td>сотрудник</td>\n",
       "      <td>0</td>\n",
       "      <td>145885</td>\n",
       "      <td>покупка жилья</td>\n",
       "    </tr>\n",
       "    <tr>\n",
       "      <th>3</th>\n",
       "      <td>3</td>\n",
       "      <td>4124</td>\n",
       "      <td>32</td>\n",
       "      <td>среднее</td>\n",
       "      <td>1</td>\n",
       "      <td>женат / замужем</td>\n",
       "      <td>0</td>\n",
       "      <td>M</td>\n",
       "      <td>сотрудник</td>\n",
       "      <td>0</td>\n",
       "      <td>267628</td>\n",
       "      <td>дополнительное образование</td>\n",
       "    </tr>\n",
       "    <tr>\n",
       "      <th>4</th>\n",
       "      <td>0</td>\n",
       "      <td>340266</td>\n",
       "      <td>53</td>\n",
       "      <td>среднее</td>\n",
       "      <td>1</td>\n",
       "      <td>гражданский брак</td>\n",
       "      <td>1</td>\n",
       "      <td>F</td>\n",
       "      <td>пенсионер</td>\n",
       "      <td>0</td>\n",
       "      <td>158616</td>\n",
       "      <td>сыграть свадьбу</td>\n",
       "    </tr>\n",
       "  </tbody>\n",
       "</table>\n",
       "</div>"
      ],
      "text/plain": [
       "   children  days_employed  dob_years education  education_id  \\\n",
       "0         1           8437         42    высшее             0   \n",
       "1         1           4024         36   среднее             1   \n",
       "2         0           5623         33   Среднее             1   \n",
       "3         3           4124         32   среднее             1   \n",
       "4         0         340266         53   среднее             1   \n",
       "\n",
       "      family_status  family_status_id gender income_type  debt  total_income  \\\n",
       "0   женат / замужем                 0      F   сотрудник     0        253875   \n",
       "1   женат / замужем                 0      F   сотрудник     0        112080   \n",
       "2   женат / замужем                 0      M   сотрудник     0        145885   \n",
       "3   женат / замужем                 0      M   сотрудник     0        267628   \n",
       "4  гражданский брак                 1      F   пенсионер     0        158616   \n",
       "\n",
       "                      purpose  \n",
       "0               покупка жилья  \n",
       "1     приобретение автомобиля  \n",
       "2               покупка жилья  \n",
       "3  дополнительное образование  \n",
       "4             сыграть свадьбу  "
      ]
     },
     "execution_count": 19,
     "metadata": {},
     "output_type": "execute_result"
    }
   ],
   "source": [
    "# проверка\n",
    "data.head()"
   ]
  },
  {
   "cell_type": "markdown",
   "metadata": {},
   "source": [
    "### <a id='step4'>Категоризация данных</a>"
   ]
  },
  {
   "cell_type": "code",
   "execution_count": 20,
   "metadata": {},
   "outputs": [],
   "source": [
    "# разделим столбец total_income на пять категорий в зависимости от ежемесячного показателя дохода\n",
    "\n",
    "# разбиваем на категории с помощью квантилей\n",
    "data['total_income'].quantile([.0, .2, .4, .6, .8])\n",
    "\n",
    "# каждому диапазону значений присвоим категорию дохода - очень низкий, низкий, средний, высокий, очень высокий\n",
    "def income(total_income):\n",
    "    if total_income <= 21000:\n",
    "        return 'очень низкий уровень дохода'\n",
    "    if 21001 <= total_income <= 50000:\n",
    "        return 'низкий уровень дохода'\n",
    "    if 50001 <= total_income <= 100000:\n",
    "        return 'средний уровень дохода'\n",
    "    if 100001 <= total_income <= 160000:\n",
    "        return 'высокий уровень дохода'\n",
    "    return 'очень высокий уровень дохода'\n",
    "\n",
    "# создаем в таблице столбце income_category и в него помещаем полученные значения\n",
    "data['income_category'] = data['total_income'].apply(income)"
   ]
  },
  {
   "cell_type": "code",
   "execution_count": 21,
   "metadata": {},
   "outputs": [],
   "source": [
    "# напишем фунцию для категоризации целей кредита в столбце purpose на основании полученных ранее лемм\n",
    "def credit_purpose(purpose):\n",
    "    if 'недвиж' in purpose or 'жиль' in purpose:\n",
    "        return 'недвижимость'\n",
    "    if 'свадьб' in purpose:\n",
    "        return 'свадьба'\n",
    "    if 'образов' in purpose:\n",
    "        return 'образование'\n",
    "    if 'автомоб' in purpose:\n",
    "        return 'автомобиль'\n",
    "    \n",
    "# применяем функцию в столбцу purpose\n",
    "data['purpose'] = data['purpose'].apply(credit_purpose)"
   ]
  },
  {
   "cell_type": "code",
   "execution_count": 22,
   "metadata": {},
   "outputs": [
    {
     "data": {
      "text/html": [
       "<div>\n",
       "<style scoped>\n",
       "    .dataframe tbody tr th:only-of-type {\n",
       "        vertical-align: middle;\n",
       "    }\n",
       "\n",
       "    .dataframe tbody tr th {\n",
       "        vertical-align: top;\n",
       "    }\n",
       "\n",
       "    .dataframe thead th {\n",
       "        text-align: right;\n",
       "    }\n",
       "</style>\n",
       "<table border=\"1\" class=\"dataframe\">\n",
       "  <thead>\n",
       "    <tr style=\"text-align: right;\">\n",
       "      <th></th>\n",
       "      <th>children</th>\n",
       "      <th>days_employed</th>\n",
       "      <th>dob_years</th>\n",
       "      <th>education</th>\n",
       "      <th>education_id</th>\n",
       "      <th>family_status</th>\n",
       "      <th>family_status_id</th>\n",
       "      <th>gender</th>\n",
       "      <th>income_type</th>\n",
       "      <th>debt</th>\n",
       "      <th>total_income</th>\n",
       "      <th>purpose</th>\n",
       "      <th>income_category</th>\n",
       "    </tr>\n",
       "  </thead>\n",
       "  <tbody>\n",
       "    <tr>\n",
       "      <th>0</th>\n",
       "      <td>1</td>\n",
       "      <td>8437</td>\n",
       "      <td>42</td>\n",
       "      <td>высшее</td>\n",
       "      <td>0</td>\n",
       "      <td>женат / замужем</td>\n",
       "      <td>0</td>\n",
       "      <td>F</td>\n",
       "      <td>сотрудник</td>\n",
       "      <td>0</td>\n",
       "      <td>253875</td>\n",
       "      <td>недвижимость</td>\n",
       "      <td>очень высокий уровень дохода</td>\n",
       "    </tr>\n",
       "    <tr>\n",
       "      <th>1</th>\n",
       "      <td>1</td>\n",
       "      <td>4024</td>\n",
       "      <td>36</td>\n",
       "      <td>среднее</td>\n",
       "      <td>1</td>\n",
       "      <td>женат / замужем</td>\n",
       "      <td>0</td>\n",
       "      <td>F</td>\n",
       "      <td>сотрудник</td>\n",
       "      <td>0</td>\n",
       "      <td>112080</td>\n",
       "      <td>автомобиль</td>\n",
       "      <td>высокий уровень дохода</td>\n",
       "    </tr>\n",
       "    <tr>\n",
       "      <th>2</th>\n",
       "      <td>0</td>\n",
       "      <td>5623</td>\n",
       "      <td>33</td>\n",
       "      <td>Среднее</td>\n",
       "      <td>1</td>\n",
       "      <td>женат / замужем</td>\n",
       "      <td>0</td>\n",
       "      <td>M</td>\n",
       "      <td>сотрудник</td>\n",
       "      <td>0</td>\n",
       "      <td>145885</td>\n",
       "      <td>недвижимость</td>\n",
       "      <td>высокий уровень дохода</td>\n",
       "    </tr>\n",
       "    <tr>\n",
       "      <th>3</th>\n",
       "      <td>3</td>\n",
       "      <td>4124</td>\n",
       "      <td>32</td>\n",
       "      <td>среднее</td>\n",
       "      <td>1</td>\n",
       "      <td>женат / замужем</td>\n",
       "      <td>0</td>\n",
       "      <td>M</td>\n",
       "      <td>сотрудник</td>\n",
       "      <td>0</td>\n",
       "      <td>267628</td>\n",
       "      <td>образование</td>\n",
       "      <td>очень высокий уровень дохода</td>\n",
       "    </tr>\n",
       "    <tr>\n",
       "      <th>4</th>\n",
       "      <td>0</td>\n",
       "      <td>340266</td>\n",
       "      <td>53</td>\n",
       "      <td>среднее</td>\n",
       "      <td>1</td>\n",
       "      <td>гражданский брак</td>\n",
       "      <td>1</td>\n",
       "      <td>F</td>\n",
       "      <td>пенсионер</td>\n",
       "      <td>0</td>\n",
       "      <td>158616</td>\n",
       "      <td>свадьба</td>\n",
       "      <td>высокий уровень дохода</td>\n",
       "    </tr>\n",
       "  </tbody>\n",
       "</table>\n",
       "</div>"
      ],
      "text/plain": [
       "   children  days_employed  dob_years education  education_id  \\\n",
       "0         1           8437         42    высшее             0   \n",
       "1         1           4024         36   среднее             1   \n",
       "2         0           5623         33   Среднее             1   \n",
       "3         3           4124         32   среднее             1   \n",
       "4         0         340266         53   среднее             1   \n",
       "\n",
       "      family_status  family_status_id gender income_type  debt  total_income  \\\n",
       "0   женат / замужем                 0      F   сотрудник     0        253875   \n",
       "1   женат / замужем                 0      F   сотрудник     0        112080   \n",
       "2   женат / замужем                 0      M   сотрудник     0        145885   \n",
       "3   женат / замужем                 0      M   сотрудник     0        267628   \n",
       "4  гражданский брак                 1      F   пенсионер     0        158616   \n",
       "\n",
       "        purpose               income_category  \n",
       "0  недвижимость  очень высокий уровень дохода  \n",
       "1    автомобиль        высокий уровень дохода  \n",
       "2  недвижимость        высокий уровень дохода  \n",
       "3   образование  очень высокий уровень дохода  \n",
       "4       свадьба        высокий уровень дохода  "
      ]
     },
     "execution_count": 22,
     "metadata": {},
     "output_type": "execute_result"
    }
   ],
   "source": [
    "# проверка\n",
    "data.head()"
   ]
  },
  {
   "cell_type": "markdown",
   "metadata": {},
   "source": [
    "### <a id='step5'>Ответы на вопросы</a>"
   ]
  },
  {
   "cell_type": "markdown",
   "metadata": {},
   "source": [
    "#### Есть ли зависимость между наличием детей и возвратом кредита в срок?"
   ]
  },
  {
   "cell_type": "code",
   "execution_count": 23,
   "metadata": {},
   "outputs": [
    {
     "data": {
      "text/html": [
       "<div>\n",
       "<style scoped>\n",
       "    .dataframe tbody tr th:only-of-type {\n",
       "        vertical-align: middle;\n",
       "    }\n",
       "\n",
       "    .dataframe tbody tr th {\n",
       "        vertical-align: top;\n",
       "    }\n",
       "\n",
       "    .dataframe thead th {\n",
       "        text-align: right;\n",
       "    }\n",
       "</style>\n",
       "<table border=\"1\" class=\"dataframe\">\n",
       "  <thead>\n",
       "    <tr style=\"text-align: right;\">\n",
       "      <th></th>\n",
       "      <th>debt</th>\n",
       "    </tr>\n",
       "    <tr>\n",
       "      <th>children</th>\n",
       "      <th></th>\n",
       "    </tr>\n",
       "  </thead>\n",
       "  <tbody>\n",
       "    <tr>\n",
       "      <th>0</th>\n",
       "      <td>0.0754</td>\n",
       "    </tr>\n",
       "    <tr>\n",
       "      <th>1</th>\n",
       "      <td>0.0916</td>\n",
       "    </tr>\n",
       "    <tr>\n",
       "      <th>2</th>\n",
       "      <td>0.0949</td>\n",
       "    </tr>\n",
       "    <tr>\n",
       "      <th>3</th>\n",
       "      <td>0.0818</td>\n",
       "    </tr>\n",
       "    <tr>\n",
       "      <th>4</th>\n",
       "      <td>0.0976</td>\n",
       "    </tr>\n",
       "    <tr>\n",
       "      <th>5</th>\n",
       "      <td>0.0000</td>\n",
       "    </tr>\n",
       "  </tbody>\n",
       "</table>\n",
       "</div>"
      ],
      "text/plain": [
       "            debt\n",
       "children        \n",
       "0         0.0754\n",
       "1         0.0916\n",
       "2         0.0949\n",
       "3         0.0818\n",
       "4         0.0976\n",
       "5         0.0000"
      ]
     },
     "execution_count": 23,
     "metadata": {},
     "output_type": "execute_result"
    }
   ],
   "source": [
    "# соберем сводную таблицу и рассчитаем среднее значечение параметра debt\n",
    "data.pivot_table(index='children', values='debt', aggfunc = 'mean').round(4)"
   ]
  },
  {
   "cell_type": "markdown",
   "metadata": {},
   "source": [
    "- Более надежны в своевременной выплате кредита люди, у которых вообще нет детей;\n",
    "- У людей, с пятью детьми - полное отсутствие задолженностей. Либо они выплачивают кредиты в срок, либо банки не выдают им кредиты вовсе. Скорее всего, второе;\n",
    "- Чаще остальных задерживают выплату по кредиту люди (семьи) с одним, двумя или четырьями детьми (казалось бы, семьи с одним и двумя детьми должны возвращать кредиты быстрее, чем с четырьмя, но нет);\n",
    "- Семьи с тремя детьми возвращают кредиты быстрее, чем иным количеством детей (кроме семей без детей или с пятью детьми).\n",
    "\n",
    "---\n",
    "\n",
    "Зависимость между наличием детей и возвратом кредита в срок подтверждена."
   ]
  },
  {
   "cell_type": "markdown",
   "metadata": {},
   "source": [
    "#### Есть ли зависимость между семейным положением и возвратом кредита в срок?"
   ]
  },
  {
   "cell_type": "code",
   "execution_count": 24,
   "metadata": {},
   "outputs": [
    {
     "data": {
      "text/html": [
       "<div>\n",
       "<style scoped>\n",
       "    .dataframe tbody tr th:only-of-type {\n",
       "        vertical-align: middle;\n",
       "    }\n",
       "\n",
       "    .dataframe tbody tr th {\n",
       "        vertical-align: top;\n",
       "    }\n",
       "\n",
       "    .dataframe thead th {\n",
       "        text-align: right;\n",
       "    }\n",
       "</style>\n",
       "<table border=\"1\" class=\"dataframe\">\n",
       "  <thead>\n",
       "    <tr style=\"text-align: right;\">\n",
       "      <th></th>\n",
       "      <th>debt</th>\n",
       "    </tr>\n",
       "    <tr>\n",
       "      <th>family_status</th>\n",
       "      <th></th>\n",
       "    </tr>\n",
       "  </thead>\n",
       "  <tbody>\n",
       "    <tr>\n",
       "      <th>Не женат / не замужем</th>\n",
       "      <td>0.0975</td>\n",
       "    </tr>\n",
       "    <tr>\n",
       "      <th>в разводе</th>\n",
       "      <td>0.0711</td>\n",
       "    </tr>\n",
       "    <tr>\n",
       "      <th>вдовец / вдова</th>\n",
       "      <td>0.0657</td>\n",
       "    </tr>\n",
       "    <tr>\n",
       "      <th>гражданский брак</th>\n",
       "      <td>0.0932</td>\n",
       "    </tr>\n",
       "    <tr>\n",
       "      <th>женат / замужем</th>\n",
       "      <td>0.0754</td>\n",
       "    </tr>\n",
       "  </tbody>\n",
       "</table>\n",
       "</div>"
      ],
      "text/plain": [
       "                         debt\n",
       "family_status                \n",
       "Не женат / не замужем  0.0975\n",
       "в разводе              0.0711\n",
       "вдовец / вдова         0.0657\n",
       "гражданский брак       0.0932\n",
       "женат / замужем        0.0754"
      ]
     },
     "execution_count": 24,
     "metadata": {},
     "output_type": "execute_result"
    }
   ],
   "source": [
    "# соберем сводную таблицу и рассчитаем среднее значением параметра debt\n",
    "data.pivot_table(index='family_status', values='debt', aggfunc='mean').round(4)"
   ]
  },
  {
   "cell_type": "markdown",
   "metadata": {},
   "source": [
    "- Меньше остальных склонны задерживать выплату по кредитам люди из категории \"вдовец/вдова\". Вполне возможно, это связано с тем, что люди берут кредиты на определенные (экстренные) нужды и возвращают кредит в срок. Также они не хотят усугублять свое финансовое положение и больше рассчитывают на свои собственные средства;\n",
    "- Люди в категориях \"в разводе\" и 'женат/замужем' практически схожи между собой в сроках выплаты кредита. Люди, принадлежащие к категории \"в разводе\" рассчитывают только на самих себя или они вынуждены выплачивать алименты. Семейные же пары, скорее всего, вместе составляют бюджет и, если прибегают к заемным средстам, то делают это осознанно и стараются возвращать их в срок. \n",
    "- Больше остальных не выплачивают кредиты в срок люди из категорий \"гражданский брак\" и \"не женат/не замужем\". Очевидно, что такие показатели вызваны невысокоим уровнем личной ответственности перед собой и отсутвием обязательств перед другими людьми.\n",
    "\n",
    "---\n",
    "\n",
    "Зависимость между семейным положением и возвратом кредита в срок подтверждена."
   ]
  },
  {
   "cell_type": "markdown",
   "metadata": {},
   "source": [
    "#### Есть ли зависимость между уровнем дохода и возвратом кредита в срок?"
   ]
  },
  {
   "cell_type": "code",
   "execution_count": null,
   "metadata": {},
   "outputs": [],
   "source": [
    "# соберем сводную и рассчитаем среднее параметра debt\n",
    "data.pivot_table(index='income_category', values='debt', aggfunc='mean').round(4)"
   ]
  },
  {
   "cell_type": "markdown",
   "metadata": {},
   "source": [
    "- Чаще остальных не выплачивают кредит в срок люди с очень низким уровнем дохода. Они никогда не возвращают кредиты в срок. Это может быть обусловлено нехваткой денежных средств, жизнью в стиле \"от зарплаты до зарплаты\" + добавляют займы у друзей/знакомых/коллег и в итоге вовремя не получается вернуть ни банку, ни знакомым;\n",
    "- Люди с высоким уровнем дохода расположились на втором месте в нашем \"анти-топе\". Задержки по выплате кредита в этом случае могут быть связаны с общим отношением к кредитам среди этой группы людей. Money nothing matters. Они свободно относятся к деньгам и переплаты по процентам их не стесняют;\n",
    "- На третьем и четвертом месте люди с очень высоким и средним уровнем дохода. Несвоевремнные выплаты по кредитам людьми средного класса могут быть связаны с внезапными расходами на детей/ремонт/бытовую технику и др, из-за чего не всегда получается вовремя вернуть заемные средства. Очевидно, люди с очень высоким уровнем дохода не всегда вовремя выплачивают кредит по той же причины, что и люди с высоким уровнем дохода;\n",
    "- Самыми надеждными заемщиками являются люди с низким уровнем дохода. В отличие от \"очень низкого уровня\" они более свободны в денежных средствах, предпочитают не занимать у друзей/знакомых и серьезные относятся к каждому заработанному рублю.\n",
    "---\n",
    "Зависимость между урвонем дохода и возвратом кредита в срок подтвеждена."
   ]
  },
  {
   "cell_type": "markdown",
   "metadata": {},
   "source": [
    "#### Как разные цели получения кредита влияют на его возврат в срок?"
   ]
  },
  {
   "cell_type": "code",
   "execution_count": null,
   "metadata": {},
   "outputs": [],
   "source": [
    "# соберем сводную таблицу и посмотрим на среднее параметра debt\n",
    "data.pivot_table(index='purpose', values='debt', aggfunc='mean').round(4)"
   ]
  },
  {
   "cell_type": "markdown",
   "metadata": {},
   "source": [
    "- Больше всех \"не любят\" возвращать кредит в срок люди, которые с целями \"автомобиль\" и \"образование\". В первом случае это может быть связано с тем, что люди берут к кредит не самую дешевую машину и просто не рассчитывают свой бюджет. Также стоит учесть дополнительные расходы на обслуживание транспортного средства. Во втором случае это может быть связано с тем, что люди рассчитывают найти работу сразу после окончания обучения или в процессе обучения, но, не у всех, взявших кредит, получается это сделать;\n",
    "- Люди, которые берут кредит на свадебные расходы - посередине - но все равно с достаточно высоким показателем. Очевидно, что не учтены дополнительные расходы и бюджет свадьбы;\n",
    "- Реже остальных выплату оплату кредита задерживают люди, берущие кредит для оплаты или покупки недвижимости (ипотека!). Как правило, они занимают больше суммы и относятся к этому достаточно серьезно, ведь даже 1% может составить для них значительную сумму."
   ]
  },
  {
   "cell_type": "markdown",
   "metadata": {},
   "source": [
    "### <a id='step6'>Общий вывод<a/>"
   ]
  },
  {
   "cell_type": "markdown",
   "metadata": {},
   "source": [
    "- Наличие детей не влияет на возврат кредита в срок. Точнее будет сказать - отсутствие детей влияет на возврат кредита в срок. Ведь дети - это не только радости жизни, но и дополнительные расходы, а подчас и непредвиденные расходы;\n",
    "- Семейное положение напрямую влияет на возврат кредита в срок. Если заемщик состоит в браке/отношениях, то вероятность, что он вернет кредит в срок, гораздо больше, чем если бы он не состоял в них;\n",
    "- Правило \"чем выше уровень дохода, тем выше вероятность возврата кредита в срок\" не подтвердилось, скорее наоборот. Лучше всех возвращают кредиты в срок люди с низким уровнем дохода, а хуже всех люди с очень низким уровнем дохода и высоким уровнем дохода;\n",
    "- Цель получения кредита напрямую влияет возврат его в срок. Чем больше сумма займа, например, ипотека, тем больше вероятность своевременного возврата."
   ]
  }
 ],
 "metadata": {
  "kernelspec": {
   "display_name": "Python 3",
   "language": "python",
   "name": "python3"
  },
  "language_info": {
   "codemirror_mode": {
    "name": "ipython",
    "version": 3
   },
   "file_extension": ".py",
   "mimetype": "text/x-python",
   "name": "python",
   "nbconvert_exporter": "python",
   "pygments_lexer": "ipython3",
   "version": "3.7.6"
  }
 },
 "nbformat": 4,
 "nbformat_minor": 4
}
