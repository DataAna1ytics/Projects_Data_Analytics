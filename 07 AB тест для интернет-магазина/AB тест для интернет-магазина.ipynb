{
 "cells": [
  {
   "cell_type": "markdown",
   "metadata": {},
   "source": [
    "## A/B тест для интернет-магазина"
   ]
  },
  {
   "cell_type": "markdown",
   "metadata": {},
   "source": [
    "### Шаг 1. Ознакомление с данными"
   ]
  },
  {
   "cell_type": "code",
   "execution_count": 1,
   "metadata": {},
   "outputs": [],
   "source": [
    "#импортируем необходимые библиотеки для работы с данными\n",
    "import pandas as pd\n",
    "import matplotlib.pyplot as plt\n",
    "import seaborn as sns\n",
    "import numpy as np\n",
    "import datetime as dt\n",
    "import scipy.stats as stats"
   ]
  },
  {
   "cell_type": "code",
   "execution_count": 2,
   "metadata": {},
   "outputs": [],
   "source": [
    "#прочитаем первый датасет\n",
    "hypothesis = pd.read_csv('/datasets/hypothesis.csv')"
   ]
  },
  {
   "cell_type": "code",
   "execution_count": 3,
   "metadata": {},
   "outputs": [],
   "source": [
    "#прочитаем второй датасет\n",
    "orders = pd.read_csv('/datasets/orders.csv')"
   ]
  },
  {
   "cell_type": "code",
   "execution_count": 4,
   "metadata": {},
   "outputs": [],
   "source": [
    "#прочитаем третий датасет\n",
    "visitors = pd.read_csv('/datasets/visitors.csv')"
   ]
  },
  {
   "cell_type": "code",
   "execution_count": 5,
   "metadata": {},
   "outputs": [],
   "source": [
    "#снимем ограничение на количество отображемых символов в столбцах датасетов\n",
    "pd.set_option('max_colwidth', 200)"
   ]
  },
  {
   "cell_type": "code",
   "execution_count": 6,
   "metadata": {},
   "outputs": [
    {
     "name": "stdout",
     "output_type": "stream",
     "text": [
      "<class 'pandas.core.frame.DataFrame'>\n",
      "RangeIndex: 9 entries, 0 to 8\n",
      "Data columns (total 5 columns):\n",
      "Hypothesis    9 non-null object\n",
      "Reach         9 non-null int64\n",
      "Impact        9 non-null int64\n",
      "Confidence    9 non-null int64\n",
      "Efforts       9 non-null int64\n",
      "dtypes: int64(4), object(1)\n",
      "memory usage: 488.0+ bytes\n"
     ]
    }
   ],
   "source": [
    "#взглянем кратко на первый датасет\n",
    "hypothesis.info()"
   ]
  },
  {
   "cell_type": "code",
   "execution_count": 7,
   "metadata": {},
   "outputs": [
    {
     "name": "stdout",
     "output_type": "stream",
     "text": [
      "<class 'pandas.core.frame.DataFrame'>\n",
      "RangeIndex: 1197 entries, 0 to 1196\n",
      "Data columns (total 5 columns):\n",
      "transactionId    1197 non-null int64\n",
      "visitorId        1197 non-null int64\n",
      "date             1197 non-null object\n",
      "revenue          1197 non-null int64\n",
      "group            1197 non-null object\n",
      "dtypes: int64(3), object(2)\n",
      "memory usage: 46.9+ KB\n"
     ]
    }
   ],
   "source": [
    "#взглянем кратко на второй датасет\n",
    "orders.info()"
   ]
  },
  {
   "cell_type": "code",
   "execution_count": 8,
   "metadata": {},
   "outputs": [
    {
     "name": "stdout",
     "output_type": "stream",
     "text": [
      "<class 'pandas.core.frame.DataFrame'>\n",
      "RangeIndex: 62 entries, 0 to 61\n",
      "Data columns (total 3 columns):\n",
      "date        62 non-null object\n",
      "group       62 non-null object\n",
      "visitors    62 non-null int64\n",
      "dtypes: int64(1), object(2)\n",
      "memory usage: 1.6+ KB\n"
     ]
    }
   ],
   "source": [
    "#взглянем кратко на третий датасет\n",
    "visitors.info()"
   ]
  },
  {
   "cell_type": "code",
   "execution_count": 9,
   "metadata": {},
   "outputs": [
    {
     "data": {
      "text/html": [
       "<div>\n",
       "<style scoped>\n",
       "    .dataframe tbody tr th:only-of-type {\n",
       "        vertical-align: middle;\n",
       "    }\n",
       "\n",
       "    .dataframe tbody tr th {\n",
       "        vertical-align: top;\n",
       "    }\n",
       "\n",
       "    .dataframe thead th {\n",
       "        text-align: right;\n",
       "    }\n",
       "</style>\n",
       "<table border=\"1\" class=\"dataframe\">\n",
       "  <thead>\n",
       "    <tr style=\"text-align: right;\">\n",
       "      <th></th>\n",
       "      <th>Hypothesis</th>\n",
       "      <th>Reach</th>\n",
       "      <th>Impact</th>\n",
       "      <th>Confidence</th>\n",
       "      <th>Efforts</th>\n",
       "    </tr>\n",
       "  </thead>\n",
       "  <tbody>\n",
       "    <tr>\n",
       "      <td>0</td>\n",
       "      <td>Добавить два новых канала привлечения трафика, что позволит привлекать на 30% больше пользователей</td>\n",
       "      <td>3</td>\n",
       "      <td>10</td>\n",
       "      <td>8</td>\n",
       "      <td>6</td>\n",
       "    </tr>\n",
       "    <tr>\n",
       "      <td>1</td>\n",
       "      <td>Запустить собственную службу доставки, что сократит срок доставки заказов</td>\n",
       "      <td>2</td>\n",
       "      <td>5</td>\n",
       "      <td>4</td>\n",
       "      <td>10</td>\n",
       "    </tr>\n",
       "    <tr>\n",
       "      <td>2</td>\n",
       "      <td>Добавить блоки рекомендаций товаров на сайт интернет магазина, чтобы повысить конверсию и средний чек заказа</td>\n",
       "      <td>8</td>\n",
       "      <td>3</td>\n",
       "      <td>7</td>\n",
       "      <td>3</td>\n",
       "    </tr>\n",
       "    <tr>\n",
       "      <td>3</td>\n",
       "      <td>Изменить структура категорий, что увеличит конверсию, т.к. пользователи быстрее найдут нужный товар</td>\n",
       "      <td>8</td>\n",
       "      <td>3</td>\n",
       "      <td>3</td>\n",
       "      <td>8</td>\n",
       "    </tr>\n",
       "    <tr>\n",
       "      <td>4</td>\n",
       "      <td>Изменить цвет фона главной страницы, чтобы увеличить вовлеченность пользователей</td>\n",
       "      <td>3</td>\n",
       "      <td>1</td>\n",
       "      <td>1</td>\n",
       "      <td>1</td>\n",
       "    </tr>\n",
       "  </tbody>\n",
       "</table>\n",
       "</div>"
      ],
      "text/plain": [
       "                                                                                                     Hypothesis  \\\n",
       "0            Добавить два новых канала привлечения трафика, что позволит привлекать на 30% больше пользователей   \n",
       "1                                     Запустить собственную службу доставки, что сократит срок доставки заказов   \n",
       "2  Добавить блоки рекомендаций товаров на сайт интернет магазина, чтобы повысить конверсию и средний чек заказа   \n",
       "3           Изменить структура категорий, что увеличит конверсию, т.к. пользователи быстрее найдут нужный товар   \n",
       "4                              Изменить цвет фона главной страницы, чтобы увеличить вовлеченность пользователей   \n",
       "\n",
       "   Reach  Impact  Confidence  Efforts  \n",
       "0      3      10           8        6  \n",
       "1      2       5           4       10  \n",
       "2      8       3           7        3  \n",
       "3      8       3           3        8  \n",
       "4      3       1           1        1  "
      ]
     },
     "execution_count": 9,
     "metadata": {},
     "output_type": "execute_result"
    }
   ],
   "source": [
    "#выведем первые пять строк датасета hypothesis\n",
    "hypothesis.head()"
   ]
  },
  {
   "cell_type": "code",
   "execution_count": 10,
   "metadata": {},
   "outputs": [
    {
     "data": {
      "text/html": [
       "<div>\n",
       "<style scoped>\n",
       "    .dataframe tbody tr th:only-of-type {\n",
       "        vertical-align: middle;\n",
       "    }\n",
       "\n",
       "    .dataframe tbody tr th {\n",
       "        vertical-align: top;\n",
       "    }\n",
       "\n",
       "    .dataframe thead th {\n",
       "        text-align: right;\n",
       "    }\n",
       "</style>\n",
       "<table border=\"1\" class=\"dataframe\">\n",
       "  <thead>\n",
       "    <tr style=\"text-align: right;\">\n",
       "      <th></th>\n",
       "      <th>transactionId</th>\n",
       "      <th>visitorId</th>\n",
       "      <th>date</th>\n",
       "      <th>revenue</th>\n",
       "      <th>group</th>\n",
       "    </tr>\n",
       "  </thead>\n",
       "  <tbody>\n",
       "    <tr>\n",
       "      <td>0</td>\n",
       "      <td>3667963787</td>\n",
       "      <td>3312258926</td>\n",
       "      <td>2019-08-15</td>\n",
       "      <td>1650</td>\n",
       "      <td>B</td>\n",
       "    </tr>\n",
       "    <tr>\n",
       "      <td>1</td>\n",
       "      <td>2804400009</td>\n",
       "      <td>3642806036</td>\n",
       "      <td>2019-08-15</td>\n",
       "      <td>730</td>\n",
       "      <td>B</td>\n",
       "    </tr>\n",
       "    <tr>\n",
       "      <td>2</td>\n",
       "      <td>2961555356</td>\n",
       "      <td>4069496402</td>\n",
       "      <td>2019-08-15</td>\n",
       "      <td>400</td>\n",
       "      <td>A</td>\n",
       "    </tr>\n",
       "    <tr>\n",
       "      <td>3</td>\n",
       "      <td>3797467345</td>\n",
       "      <td>1196621759</td>\n",
       "      <td>2019-08-15</td>\n",
       "      <td>9759</td>\n",
       "      <td>B</td>\n",
       "    </tr>\n",
       "    <tr>\n",
       "      <td>4</td>\n",
       "      <td>2282983706</td>\n",
       "      <td>2322279887</td>\n",
       "      <td>2019-08-15</td>\n",
       "      <td>2308</td>\n",
       "      <td>B</td>\n",
       "    </tr>\n",
       "  </tbody>\n",
       "</table>\n",
       "</div>"
      ],
      "text/plain": [
       "   transactionId   visitorId        date  revenue group\n",
       "0     3667963787  3312258926  2019-08-15     1650     B\n",
       "1     2804400009  3642806036  2019-08-15      730     B\n",
       "2     2961555356  4069496402  2019-08-15      400     A\n",
       "3     3797467345  1196621759  2019-08-15     9759     B\n",
       "4     2282983706  2322279887  2019-08-15     2308     B"
      ]
     },
     "execution_count": 10,
     "metadata": {},
     "output_type": "execute_result"
    }
   ],
   "source": [
    "#выведем первые пять строк датасета orders\n",
    "orders.head()"
   ]
  },
  {
   "cell_type": "code",
   "execution_count": 11,
   "metadata": {},
   "outputs": [
    {
     "data": {
      "text/html": [
       "<div>\n",
       "<style scoped>\n",
       "    .dataframe tbody tr th:only-of-type {\n",
       "        vertical-align: middle;\n",
       "    }\n",
       "\n",
       "    .dataframe tbody tr th {\n",
       "        vertical-align: top;\n",
       "    }\n",
       "\n",
       "    .dataframe thead th {\n",
       "        text-align: right;\n",
       "    }\n",
       "</style>\n",
       "<table border=\"1\" class=\"dataframe\">\n",
       "  <thead>\n",
       "    <tr style=\"text-align: right;\">\n",
       "      <th></th>\n",
       "      <th>date</th>\n",
       "      <th>group</th>\n",
       "      <th>visitors</th>\n",
       "    </tr>\n",
       "  </thead>\n",
       "  <tbody>\n",
       "    <tr>\n",
       "      <td>0</td>\n",
       "      <td>2019-08-01</td>\n",
       "      <td>A</td>\n",
       "      <td>719</td>\n",
       "    </tr>\n",
       "    <tr>\n",
       "      <td>1</td>\n",
       "      <td>2019-08-02</td>\n",
       "      <td>A</td>\n",
       "      <td>619</td>\n",
       "    </tr>\n",
       "    <tr>\n",
       "      <td>2</td>\n",
       "      <td>2019-08-03</td>\n",
       "      <td>A</td>\n",
       "      <td>507</td>\n",
       "    </tr>\n",
       "    <tr>\n",
       "      <td>3</td>\n",
       "      <td>2019-08-04</td>\n",
       "      <td>A</td>\n",
       "      <td>717</td>\n",
       "    </tr>\n",
       "    <tr>\n",
       "      <td>4</td>\n",
       "      <td>2019-08-05</td>\n",
       "      <td>A</td>\n",
       "      <td>756</td>\n",
       "    </tr>\n",
       "  </tbody>\n",
       "</table>\n",
       "</div>"
      ],
      "text/plain": [
       "         date group  visitors\n",
       "0  2019-08-01     A       719\n",
       "1  2019-08-02     A       619\n",
       "2  2019-08-03     A       507\n",
       "3  2019-08-04     A       717\n",
       "4  2019-08-05     A       756"
      ]
     },
     "execution_count": 11,
     "metadata": {},
     "output_type": "execute_result"
    }
   ],
   "source": [
    "#выведем первые пять строк датасета visitors\n",
    "visitors.head()"
   ]
  },
  {
   "cell_type": "code",
   "execution_count": 12,
   "metadata": {},
   "outputs": [
    {
     "name": "stdout",
     "output_type": "stream",
     "text": [
      "9\n",
      "6\n",
      "7\n",
      "7\n",
      "6\n"
     ]
    }
   ],
   "source": [
    "#проверим столбцы датасета hypothesis на наличие и количество уникальных значений\n",
    "print(len(hypothesis['Hypothesis'].unique()))\n",
    "print(len(hypothesis['Reach'].unique()))\n",
    "print(len(hypothesis['Impact'].unique()))\n",
    "print(len(hypothesis['Confidence'].unique()))\n",
    "print(len(hypothesis['Efforts'].unique()))"
   ]
  },
  {
   "cell_type": "code",
   "execution_count": 13,
   "metadata": {},
   "outputs": [
    {
     "name": "stdout",
     "output_type": "stream",
     "text": [
      "1197\n",
      "1031\n",
      "31\n",
      "713\n",
      "2\n"
     ]
    }
   ],
   "source": [
    "#проверим столбцы датасета orders на наличие и количество уникальных значений\n",
    "print(len(orders['transactionId'].unique()))\n",
    "print(len(orders['visitorId'].unique()))\n",
    "print(len(orders['date'].unique()))\n",
    "print(len(orders['revenue'].unique()))\n",
    "print(len(orders['group'].unique()))"
   ]
  },
  {
   "cell_type": "code",
   "execution_count": 14,
   "metadata": {},
   "outputs": [
    {
     "name": "stdout",
     "output_type": "stream",
     "text": [
      "31\n",
      "2\n",
      "58\n"
     ]
    }
   ],
   "source": [
    "#проверим столбцы датасета visitors на наличие и количество уникальных значений\n",
    "print(len(visitors['date'].unique()))\n",
    "print(len(visitors['group'].unique()))\n",
    "print(len(visitors['visitors'].unique()))"
   ]
  },
  {
   "cell_type": "code",
   "execution_count": 15,
   "metadata": {},
   "outputs": [
    {
     "data": {
      "text/plain": [
       "date        0\n",
       "group       0\n",
       "visitors    0\n",
       "dtype: int64"
      ]
     },
     "execution_count": 15,
     "metadata": {},
     "output_type": "execute_result"
    }
   ],
   "source": [
    "#проверим количество пропущенных значений во всех датасетах\n",
    "hypothesis.isna().sum()\n",
    "orders.isna().sum()\n",
    "visitors.isna().sum()"
   ]
  },
  {
   "cell_type": "code",
   "execution_count": 16,
   "metadata": {},
   "outputs": [
    {
     "data": {
      "text/plain": [
       "0"
      ]
     },
     "execution_count": 16,
     "metadata": {},
     "output_type": "execute_result"
    }
   ],
   "source": [
    "#проверим датасет hypothesis на наличие и количество дубликатов\n",
    "hypothesis.duplicated().sum()"
   ]
  },
  {
   "cell_type": "code",
   "execution_count": 17,
   "metadata": {},
   "outputs": [
    {
     "data": {
      "text/plain": [
       "0"
      ]
     },
     "execution_count": 17,
     "metadata": {},
     "output_type": "execute_result"
    }
   ],
   "source": [
    "#проверим датасет orders на наличие и количество дубликатов\n",
    "orders.duplicated().sum()"
   ]
  },
  {
   "cell_type": "code",
   "execution_count": 18,
   "metadata": {},
   "outputs": [
    {
     "data": {
      "text/plain": [
       "0"
      ]
     },
     "execution_count": 18,
     "metadata": {},
     "output_type": "execute_result"
    }
   ],
   "source": [
    "#проверим датасет visitors на наличие и количество дубликатов\n",
    "visitors.duplicated().sum()"
   ]
  },
  {
   "cell_type": "markdown",
   "metadata": {},
   "source": [
    "### Вывод"
   ]
  },
  {
   "cell_type": "markdown",
   "metadata": {},
   "source": [
    "##### До начала работы было сделано:\n",
    "1. Импортирована библиотека pandas для работы с датасетами;\n",
    "2. Импортирована библиотека matploplib для базовой работы с графиками;\n",
    "3. Импортирована библиотека seaborn для расширенной работы с графиками;\n",
    "4. Импортирована библиотека numpy для работы c многомерными массивами;\n",
    "5. Импортирована библиотека datetime для работы с датами;\n",
    "6. Импортиована библиотека scipy.stats для работы со статистикой.\n",
    "\n",
    "\n",
    "##### Предварительная работа с данными:\n",
    "1. Все датасеты были прочитаны и заключены в переменные hypothesis, orders и visitors соответственно;\n",
    "2. Получено первичное представление о данных и выведены первые пять строк датасетов;\n",
    "3. Для датасетов определено и подсчитано количество уникальных значений;\n",
    "4. Датасеты проверены на наличие пропущенных значений;\n",
    "5. Датасета проверены на наличие дубликатов.\n",
    "\n",
    "#### Hypothesis\n",
    "Количество элементов - 9, количество уникальных значений - 35, количество столбцов - 5, тип данных - object, int.\n",
    "\n",
    "##### Наименования столбцов, значения и обнаруженные ошибки:\n",
    "Hypothesis — краткое описание гипотезы - ошибок нет;\n",
    "Reach — охват пользователей по 10-балльной шкале - ошибок нет;\n",
    "Impact — влияние на пользователей по 10-балльной шкале - ошибок нет;\n",
    "Confidence — уверенность в гипотезе по 10-балльной шкале - ошибок нет;\n",
    "Efforts — затраты ресурсов на проверку гипотезы по 10-балльной шкале - ошибок нет.\n",
    "##### Дубликатов и пропусков не обнаружено; наименования столбцов следует привести к единому нижнему регистру.\n",
    "\n",
    "#### Orders\n",
    "Количество элементов - 1197, количество уникальных значений - 2974, количество столбцов - 5, тип данных - int, object.\n",
    "\n",
    "##### Наименования столбцов и обнаруженные ошибки:\n",
    "transactionId — идентификатор заказа - ошибок нет;\n",
    "visitorId — идентификатор пользователя, совершившего заказ - ошибок нет;\n",
    "date — дата, когда был совершён заказ - ошибок нет;\n",
    "revenue — выручка заказа - ошибок нет;\n",
    "group — группа A/B-теста, в которую попал заказ - ошибок нет.\n",
    "##### Дубликатов и пропусков не обнаружено; столбец 'date' нужно привести к формату даты.\n",
    "\n",
    "#### Visitors\n",
    "Количество элементов - 62, количество уникальных значений - 91, количество столбцов - 3, тип данных - int, object.\n",
    "\n",
    "##### Наименования столбцов и обнаруженные ошибки:\n",
    "date — дата - ошибок нет;\n",
    "group — группа A/B-теста - ошибок нет;\n",
    "visitors — количество пользователей в указанную дату в указанной группе A/B-теста - ошибок нет.\n",
    "##### Дубликатов и пропусков не обнаружено; столбец 'date' нужно привести к формату даты.\n",
    "\n",
    "##### Задачи на последующую работу:\n",
    "1. Тип данных столбцов 'date' в датасетах orders и visitors необходимо привести к формату даты;\n",
    "2. Наименования столбцов в датасете hypothesis привести к нижнему регистру.\n",
    "### Часть 1\n",
    "1. Приоритизировать гипотезы методом ICE и отсортировать по убыванию приоритета;\n",
    "2. Приоритизировать гипотезы методом RICE и отсортировать по убыванию приоритета;\n",
    "3. Объяснить, в чем разница между полученными результатами приоритизации различными методами;\n",
    "### Часть 2\n",
    "1. Построить график кумулятивной выручки по группам, сделать выводы и предположения;\n",
    "2. Построить график кумулятивного среднего чека по группам, сделать выводы и предположения;\n",
    "3. Построить график относительного изменения кумулятивного среднего чека группы B к группе A, сделать выводы и предположения;\n",
    "4. Построить график кумулятивной конверсии по группам, сделать выводы и предположения;\n",
    "5. Построить график относительного изменения кумулятивной конверсии группы B к группе А, сделать выводы и предположения\n",
    "6. Построить точечный график количества заказов по пользователям, сделать выводы и предположения;\n",
    "7. Посчитать 95-й и 99-й перцентили количества заказов на пользователя, выбрать границу для определения аномальных пользователей;\n",
    "8. Построить точечный график стоимостей заказов, сделать выводы и предположения;\n",
    "9. Посчитать 95-й и 99-й перцентили стоимости заказов, выбрать границу для определения аномальных заказов;\n",
    "10. Посчитать статистическую значить различний в конверсии между группами по \"сырым\" данным, сделать выводы и предположения;\n",
    "11. Посчитать статистическую значимость различий в среднем чеке заказа между группами по «сырым» данным, сделать выводы и предположения;\n",
    "12. Посчитать статистическую значимость различий в среднем чеке заказа между группами по «очищенным» данным, сделать выводы и предположения;\n",
    "13. Принять решение по результатам теста и объяснить его. Варианты - 1. Остановить тест и зафиксировать победу одной из группы; 2. Остановить тест, зафиксировать отсутствие различий между группами; 3 - Продолжить тест.\n",
    "14. Написать общий вывод."
   ]
  },
  {
   "cell_type": "markdown",
   "metadata": {},
   "source": [
    "### Предобработка данных"
   ]
  },
  {
   "cell_type": "code",
   "execution_count": 19,
   "metadata": {},
   "outputs": [],
   "source": [
    "#приведем тип данных столбцов 'date' датасетов orders и visitors к формату даты\n",
    "orders['date'] = orders['date'].map(lambda x: dt.datetime.strptime(x, '%Y-%m-%d'))\n",
    "visitors['date'] = visitors['date'].map(lambda x: dt.datetime.strptime(x, '%Y-%m-%d'))"
   ]
  },
  {
   "cell_type": "code",
   "execution_count": 20,
   "metadata": {},
   "outputs": [],
   "source": [
    "#приведем наименования столбцов в датасете hypothesis к нижнему регистру\n",
    "hypothesis.columns = hypothesis.columns.str.lower()"
   ]
  },
  {
   "cell_type": "markdown",
   "metadata": {},
   "source": [
    "### Вывод\n",
    "\n",
    "##### На этапе преообработки было сделано:\n",
    "1. Тип данных столбцов 'date' датасетов orders и visitors приведен к формату даты;\n",
    "2. Наименования столбцов датасета hypothesis приведены к нижнему регистру.\n",
    "\n",
    "##### По итогу выполнены все необходимые преобразования."
   ]
  },
  {
   "cell_type": "markdown",
   "metadata": {},
   "source": [
    "### Часть 1. Приоритизация гипотез"
   ]
  },
  {
   "cell_type": "code",
   "execution_count": 21,
   "metadata": {},
   "outputs": [
    {
     "data": {
      "text/html": [
       "<div>\n",
       "<style scoped>\n",
       "    .dataframe tbody tr th:only-of-type {\n",
       "        vertical-align: middle;\n",
       "    }\n",
       "\n",
       "    .dataframe tbody tr th {\n",
       "        vertical-align: top;\n",
       "    }\n",
       "\n",
       "    .dataframe thead th {\n",
       "        text-align: right;\n",
       "    }\n",
       "</style>\n",
       "<table border=\"1\" class=\"dataframe\">\n",
       "  <thead>\n",
       "    <tr style=\"text-align: right;\">\n",
       "      <th></th>\n",
       "      <th>hypothesis</th>\n",
       "      <th>ICE</th>\n",
       "    </tr>\n",
       "  </thead>\n",
       "  <tbody>\n",
       "    <tr>\n",
       "      <td>8</td>\n",
       "      <td>Запустить акцию, дающую скидку на товар в день рождения</td>\n",
       "      <td>16.200000</td>\n",
       "    </tr>\n",
       "    <tr>\n",
       "      <td>0</td>\n",
       "      <td>Добавить два новых канала привлечения трафика, что позволит привлекать на 30% больше пользователей</td>\n",
       "      <td>13.333333</td>\n",
       "    </tr>\n",
       "    <tr>\n",
       "      <td>7</td>\n",
       "      <td>Добавить форму подписки на все основные страницы, чтобы собрать базу клиентов для email-рассылок</td>\n",
       "      <td>11.200000</td>\n",
       "    </tr>\n",
       "    <tr>\n",
       "      <td>6</td>\n",
       "      <td>Показать на главной странице баннеры с актуальными акциями и распродажами, чтобы увеличить конверсию</td>\n",
       "      <td>8.000000</td>\n",
       "    </tr>\n",
       "    <tr>\n",
       "      <td>2</td>\n",
       "      <td>Добавить блоки рекомендаций товаров на сайт интернет магазина, чтобы повысить конверсию и средний чек заказа</td>\n",
       "      <td>7.000000</td>\n",
       "    </tr>\n",
       "    <tr>\n",
       "      <td>1</td>\n",
       "      <td>Запустить собственную службу доставки, что сократит срок доставки заказов</td>\n",
       "      <td>2.000000</td>\n",
       "    </tr>\n",
       "    <tr>\n",
       "      <td>5</td>\n",
       "      <td>Добавить страницу отзывов клиентов о магазине, что позволит увеличить количество заказов</td>\n",
       "      <td>1.333333</td>\n",
       "    </tr>\n",
       "    <tr>\n",
       "      <td>3</td>\n",
       "      <td>Изменить структура категорий, что увеличит конверсию, т.к. пользователи быстрее найдут нужный товар</td>\n",
       "      <td>1.125000</td>\n",
       "    </tr>\n",
       "    <tr>\n",
       "      <td>4</td>\n",
       "      <td>Изменить цвет фона главной страницы, чтобы увеличить вовлеченность пользователей</td>\n",
       "      <td>1.000000</td>\n",
       "    </tr>\n",
       "  </tbody>\n",
       "</table>\n",
       "</div>"
      ],
      "text/plain": [
       "                                                                                                     hypothesis  \\\n",
       "8                                                       Запустить акцию, дающую скидку на товар в день рождения   \n",
       "0            Добавить два новых канала привлечения трафика, что позволит привлекать на 30% больше пользователей   \n",
       "7              Добавить форму подписки на все основные страницы, чтобы собрать базу клиентов для email-рассылок   \n",
       "6          Показать на главной странице баннеры с актуальными акциями и распродажами, чтобы увеличить конверсию   \n",
       "2  Добавить блоки рекомендаций товаров на сайт интернет магазина, чтобы повысить конверсию и средний чек заказа   \n",
       "1                                     Запустить собственную службу доставки, что сократит срок доставки заказов   \n",
       "5                      Добавить страницу отзывов клиентов о магазине, что позволит увеличить количество заказов   \n",
       "3           Изменить структура категорий, что увеличит конверсию, т.к. пользователи быстрее найдут нужный товар   \n",
       "4                              Изменить цвет фона главной страницы, чтобы увеличить вовлеченность пользователей   \n",
       "\n",
       "         ICE  \n",
       "8  16.200000  \n",
       "0  13.333333  \n",
       "7  11.200000  \n",
       "6   8.000000  \n",
       "2   7.000000  \n",
       "1   2.000000  \n",
       "5   1.333333  \n",
       "3   1.125000  \n",
       "4   1.000000  "
      ]
     },
     "execution_count": 21,
     "metadata": {},
     "output_type": "execute_result"
    }
   ],
   "source": [
    "#приоритизируем гипотезы методом ICE\n",
    "hypothesis['ICE'] = (hypothesis['impact'] * hypothesis['confidence']) / hypothesis['efforts']\n",
    "hypothesis[['hypothesis', 'ICE']].sort_values(by='ICE', ascending = False)"
   ]
  },
  {
   "cell_type": "code",
   "execution_count": 22,
   "metadata": {},
   "outputs": [
    {
     "data": {
      "text/html": [
       "<div>\n",
       "<style scoped>\n",
       "    .dataframe tbody tr th:only-of-type {\n",
       "        vertical-align: middle;\n",
       "    }\n",
       "\n",
       "    .dataframe tbody tr th {\n",
       "        vertical-align: top;\n",
       "    }\n",
       "\n",
       "    .dataframe thead th {\n",
       "        text-align: right;\n",
       "    }\n",
       "</style>\n",
       "<table border=\"1\" class=\"dataframe\">\n",
       "  <thead>\n",
       "    <tr style=\"text-align: right;\">\n",
       "      <th></th>\n",
       "      <th>hypothesis</th>\n",
       "      <th>RICE</th>\n",
       "    </tr>\n",
       "  </thead>\n",
       "  <tbody>\n",
       "    <tr>\n",
       "      <td>7</td>\n",
       "      <td>Добавить форму подписки на все основные страницы, чтобы собрать базу клиентов для email-рассылок</td>\n",
       "      <td>112.0</td>\n",
       "    </tr>\n",
       "    <tr>\n",
       "      <td>2</td>\n",
       "      <td>Добавить блоки рекомендаций товаров на сайт интернет магазина, чтобы повысить конверсию и средний чек заказа</td>\n",
       "      <td>56.0</td>\n",
       "    </tr>\n",
       "    <tr>\n",
       "      <td>0</td>\n",
       "      <td>Добавить два новых канала привлечения трафика, что позволит привлекать на 30% больше пользователей</td>\n",
       "      <td>40.0</td>\n",
       "    </tr>\n",
       "    <tr>\n",
       "      <td>6</td>\n",
       "      <td>Показать на главной странице баннеры с актуальными акциями и распродажами, чтобы увеличить конверсию</td>\n",
       "      <td>40.0</td>\n",
       "    </tr>\n",
       "    <tr>\n",
       "      <td>8</td>\n",
       "      <td>Запустить акцию, дающую скидку на товар в день рождения</td>\n",
       "      <td>16.2</td>\n",
       "    </tr>\n",
       "    <tr>\n",
       "      <td>3</td>\n",
       "      <td>Изменить структура категорий, что увеличит конверсию, т.к. пользователи быстрее найдут нужный товар</td>\n",
       "      <td>9.0</td>\n",
       "    </tr>\n",
       "    <tr>\n",
       "      <td>1</td>\n",
       "      <td>Запустить собственную службу доставки, что сократит срок доставки заказов</td>\n",
       "      <td>4.0</td>\n",
       "    </tr>\n",
       "    <tr>\n",
       "      <td>5</td>\n",
       "      <td>Добавить страницу отзывов клиентов о магазине, что позволит увеличить количество заказов</td>\n",
       "      <td>4.0</td>\n",
       "    </tr>\n",
       "    <tr>\n",
       "      <td>4</td>\n",
       "      <td>Изменить цвет фона главной страницы, чтобы увеличить вовлеченность пользователей</td>\n",
       "      <td>3.0</td>\n",
       "    </tr>\n",
       "  </tbody>\n",
       "</table>\n",
       "</div>"
      ],
      "text/plain": [
       "                                                                                                     hypothesis  \\\n",
       "7              Добавить форму подписки на все основные страницы, чтобы собрать базу клиентов для email-рассылок   \n",
       "2  Добавить блоки рекомендаций товаров на сайт интернет магазина, чтобы повысить конверсию и средний чек заказа   \n",
       "0            Добавить два новых канала привлечения трафика, что позволит привлекать на 30% больше пользователей   \n",
       "6          Показать на главной странице баннеры с актуальными акциями и распродажами, чтобы увеличить конверсию   \n",
       "8                                                       Запустить акцию, дающую скидку на товар в день рождения   \n",
       "3           Изменить структура категорий, что увеличит конверсию, т.к. пользователи быстрее найдут нужный товар   \n",
       "1                                     Запустить собственную службу доставки, что сократит срок доставки заказов   \n",
       "5                      Добавить страницу отзывов клиентов о магазине, что позволит увеличить количество заказов   \n",
       "4                              Изменить цвет фона главной страницы, чтобы увеличить вовлеченность пользователей   \n",
       "\n",
       "    RICE  \n",
       "7  112.0  \n",
       "2   56.0  \n",
       "0   40.0  \n",
       "6   40.0  \n",
       "8   16.2  \n",
       "3    9.0  \n",
       "1    4.0  \n",
       "5    4.0  \n",
       "4    3.0  "
      ]
     },
     "execution_count": 22,
     "metadata": {},
     "output_type": "execute_result"
    }
   ],
   "source": [
    "#приоритизируем гипотезы методом RICE\n",
    "hypothesis['RICE'] = (hypothesis['reach'] * hypothesis['impact'] * hypothesis['confidence']) / hypothesis['efforts']\n",
    "hypothesis[['hypothesis', 'RICE']].sort_values(by='RICE', ascending = False)"
   ]
  },
  {
   "cell_type": "markdown",
   "metadata": {},
   "source": [
    "### Вывод\n",
    "\n",
    "##### Наиболее подходящая гипотеза по фреймворку ICE - 8 (Запустить акцию, дающую скидку на товар в день рождения); неподходящая - 4 (Изменить цвет фона главной страницы, чтобы увеличить вовлеченность пользователей)\n",
    "\n",
    "##### Наиболее подходящая гипотеза по фреймворку RICE - 7 (Добавить форму подписки на все основные страницы, чтобы собрать базу клиентов для email-рассылок); неподходящая - 4\n",
    "\n",
    "Изменения в приоритизации гипотез фреймворками ICE и RICE произошли из-за того, что в первом случаем при приоритазции мы не учитывали то, сколько пользователей затронет изменение, которые мы хотим произвести.\n",
    "В случае же с RICE учитывается как раз количество пользователей, на которых повлиляет привнесенное изменение, из-за чего наиболее приоритетной для нас является гипотеза под номером 7.\n",
    "\n",
    "В обоих случаях самой неподходящей остается гипотеза под номером 4.\n",
    "\n",
    "Разница между фреймворками заключается в том, что ICE в отличие от RICE не предоставляет нам информации о том, скольких пользователей затронут привнесенные изменения, поэтому предпочтительнее будет презентовать фреймворк RICE."
   ]
  },
  {
   "cell_type": "markdown",
   "metadata": {},
   "source": [
    "### Часть 2. Анализ A/B-теста"
   ]
  },
  {
   "cell_type": "code",
   "execution_count": 23,
   "metadata": {},
   "outputs": [
    {
     "name": "stderr",
     "output_type": "stream",
     "text": [
      "/opt/conda/lib/python3.7/site-packages/pandas/plotting/_matplotlib/converter.py:103: FutureWarning: Using an implicitly registered datetime converter for a matplotlib plotting method. The converter was registered by pandas on import. Future versions of pandas will require you to explicitly register matplotlib converters.\n",
      "\n",
      "To register the converters:\n",
      "\t>>> from pandas.plotting import register_matplotlib_converters\n",
      "\t>>> register_matplotlib_converters()\n",
      "  warnings.warn(msg, FutureWarning)\n"
     ]
    },
    {
     "data": {
      "image/png": "[encoded data removed]",
      "text/plain": [
       "<Figure size 936x360 with 1 Axes>"
      ]
     },
     "metadata": {
      "needs_background": "light"
     },
     "output_type": "display_data"
    }
   ],
   "source": [
    "#график кумулятивной выручки по группам\n",
    "\n",
    "#датафрейм с уникальными парами значений date и group\n",
    "datesGroups = orders[['date', 'group']].drop_duplicates()\n",
    "\n",
    "#аггрегированные кумулятивные по дням данные о заказах\n",
    "ordersAggregated = datesGroups.apply(lambda x:\n",
    "orders[np.logical_and(orders['date'] <= x['date'],\n",
    "orders['group'] == x['group'])]\\\n",
    ".agg({'date' : 'max', 'group' : 'max', 'transactionId' : pd.Series.nunique, 'visitorId' : pd.Series.nunique,\n",
    "'revenue' : 'sum'}), axis=1).sort_values(by=['date', 'group'])\n",
    "\n",
    "#аггрегированные кумулятивные по дням данные о пользователях\n",
    "visitorsAggregated = datesGroups.apply(lambda x:\n",
    "visitors[np.logical_and(visitors['date'] <= x['date'],\n",
    "visitors['group'] == x['group'])]\n",
    ".agg({'date' : 'max', 'group' : 'max', 'visitors' : 'sum'}), axis=1).sort_values(by=['date','group'])\n",
    "\n",
    "#объединим полученные данные в одной таблице\n",
    "cumulativeData = ordersAggregated.merge(visitorsAggregated, left_on = ['date', 'group'],\n",
    "right_on=['date', 'group'])\n",
    "cumulativeData.columns = ['date', 'group', 'transactions', 'buyers', 'revenue', 'visitors']\n",
    "\n",
    "#датафрейм с кумулятивным количеством заказов и кумулятивной выручкой по дням в группе А\n",
    "cumulativeRevenueA = cumulativeData[cumulativeData['group'] == 'A'][['date', 'revenue', 'transactions']]\n",
    "\n",
    "#датафрейм с кумулятивным количеством заказов и кумулятивной выручкой по дням в группе B\n",
    "cumulativeRevenueB = cumulativeData[cumulativeData['group'] == 'B'][['date', 'revenue', 'transactions']]\n",
    "\n",
    "plt.figure(figsize=(13,5))\n",
    "ax = sns.lineplot(data=cumulativeData, x='date', y='revenue', hue='group')\n",
    "plt.grid()\n",
    "ax.set_title('График кумулятивной выручки по дням и группам');"
   ]
  },
  {
   "cell_type": "markdown",
   "metadata": {},
   "source": [
    "##### Выводы по графику:\n",
    "1. Изначально графики росли практически равномерно, однако на отметке 2019.08.18 группа B сделала резкий скачок и сильно оторвалась от группы A;\n",
    "2. В целом группа B выглядит предпочтительнее группы A."
   ]
  },
  {
   "cell_type": "code",
   "execution_count": 24,
   "metadata": {},
   "outputs": [
    {
     "data": {
      "image/png": "[encoded data removed]",
      "text/plain": [
       "<Figure size 936x360 with 1 Axes>"
      ]
     },
     "metadata": {
      "needs_background": "light"
     },
     "output_type": "display_data"
    }
   ],
   "source": [
    "#график кумулятивного среднего чека по группам\n",
    "plt.figure(figsize=(13,5))\n",
    "#A\n",
    "sns.lineplot(cumulativeRevenueA['date'], cumulativeRevenueA['revenue']/cumulativeRevenueA['transactions'], label='A')\n",
    "#B\n",
    "sns.lineplot(cumulativeRevenueB['date'], cumulativeRevenueB['revenue']/cumulativeRevenueB['transactions'], label='B')\n",
    "plt.grid()\n",
    "plt.title('График кумулятивного среднего чека по группам');"
   ]
  },
  {
   "cell_type": "markdown",
   "metadata": {},
   "source": [
    "##### Выводы по графику:\n",
    "Здесь уже несколько интереснее и видно больше, чем на предыдущем.\n",
    "1. До определенного момента показателям среднего чека обеих групп стабилизироваться не удалось, однако на отметке 2019.08.18, группа B совершает резкий прирост - скорее всего, какой-нибудь аномальный средний чек - а затем продолжает снижаться, возвращаясь к группе A;\n",
    "2. В целом и здесь группа B - что неудивительно - предпочтительнее группы A."
   ]
  },
  {
   "cell_type": "code",
   "execution_count": 25,
   "metadata": {},
   "outputs": [
    {
     "data": {
      "image/png": "[encoded data removed]",
      "text/plain": [
       "<Figure size 936x360 with 1 Axes>"
      ]
     },
     "metadata": {
      "needs_background": "light"
     },
     "output_type": "display_data"
    }
   ],
   "source": [
    "#график относительного изменения кумулятивного среднего чека группы B к группе A\n",
    "\n",
    "#соберем данные о кумулятивной выручке двух групп в отдельный датасет\n",
    "mergedCumulativeRevenue = cumulativeRevenueA.merge(cumulativeRevenueB, left_on ='date', right_on='date', how='left', suffixes=['A', 'B'])\n",
    "\n",
    "#строим график относительного изменения кумулятивных средних чеков\n",
    "plt.figure(figsize=(13,5))\n",
    "ax1 = sns.lineplot(mergedCumulativeRevenue['date'], (mergedCumulativeRevenue['revenueB']/mergedCumulativeRevenue['transactionsB'])\n",
    "/(mergedCumulativeRevenue['revenueA']/mergedCumulativeRevenue['transactionsA'])-1)\n",
    "plt.grid()\n",
    "ax1.set_title('График относительного изменения кумулятивного среднего чека группы B к группе A')\n",
    "plt.axhline(y=0, color='black', linestyle='--');"
   ]
  },
  {
   "cell_type": "markdown",
   "metadata": {},
   "source": [
    "##### Выводы по графику:\n",
    "1. Лишь 2019.08.13 группа B показала себя хуже группы A, а в остальные дни стабильно лучше группы A.\n",
    "Однако еще рано говорить об остановке тестирования."
   ]
  },
  {
   "cell_type": "code",
   "execution_count": 26,
   "metadata": {},
   "outputs": [
    {
     "data": {
      "image/png": "[encoded data removed]",
      "text/plain": [
       "<Figure size 936x360 with 1 Axes>"
      ]
     },
     "metadata": {
      "needs_background": "light"
     },
     "output_type": "display_data"
    }
   ],
   "source": [
    "#график кумулятивной конверсии по группам\n",
    "\n",
    "#столбец с данными о конверсии в датасете cumulativeData\n",
    "cumulativeData['conversion'] = cumulativeData['transactions'] / cumulativeData['visitors']\n",
    "\n",
    "#график\n",
    "plt.figure(figsize=(13,5))\n",
    "ax = sns.lineplot(data=cumulativeData, x='date', y='conversion', hue='group')\n",
    "plt.grid()\n",
    "ax.set_title('График кумулятивной конверсии по дням и группам');"
   ]
  },
  {
   "cell_type": "markdown",
   "metadata": {},
   "source": [
    "##### Выводы по графику:\n",
    "1. У группы A самый высокий пик по кумулятивной консервии, что может свидетельствовать об аномальном количестве посетителей, однако далее она показывает себя гораздо хуже группы B;\n",
    "2. Конверсии групп достаточно неоднородны между собой, хотя ближе к концу графику наблюдается их некоторое сближение;\n",
    "3. У группы B конверсия выше."
   ]
  },
  {
   "cell_type": "code",
   "execution_count": 27,
   "metadata": {},
   "outputs": [
    {
     "data": {
      "image/png": "[encoded data removed]",
      "text/plain": [
       "<Figure size 936x360 with 1 Axes>"
      ]
     },
     "metadata": {
      "needs_background": "light"
     },
     "output_type": "display_data"
    }
   ],
   "source": [
    "#график относительного изменения кумулятивной конверсии группы B к группе A\n",
    "\n",
    "#разделим данные о конверсиях по группам \n",
    "\n",
    "# отделяем данные по группе A\n",
    "cumulativeDataA = cumulativeData[cumulativeData['group'] == 'A']\n",
    "\n",
    "# отделяем данные по группе B\n",
    "cumulativeDataB = cumulativeData[cumulativeData['group'] == 'B']\n",
    "\n",
    "#соберем данные о кумулятивной конверсии двух групп в отдельный датасет\n",
    "mergedCumulativeConversion = cumulativeDataA[['date','conversion']].merge(cumulativeDataB[['date','conversion']], left_on='date', right_on='date', how='left', suffixes=['A', 'B'])\n",
    "\n",
    "#строим график относительного изменения кумулятивной конверсии\n",
    "plt.figure(figsize=(13,5))\n",
    "ax2 = sns.lineplot(mergedCumulativeConversion['date'], mergedCumulativeConversion['conversionB']/mergedCumulativeConversion['conversionA']-1)\n",
    "ax2.set_title('График относительного изменения кумулятивной конверсии группы B к группе A')\n",
    "plt.grid()\n",
    "plt.axhline(y=0, color='black', linestyle='--')\n",
    "plt.axhline(y=-0.1, color='grey', linestyle='--');                                                                                   "
   ]
  },
  {
   "cell_type": "markdown",
   "metadata": {},
   "source": [
    "##### Выводы по графику:\n",
    "1. Группа B - за исключением нескольких дней, стабильно лучше в плане конверсии, чем группа A;\n",
    "2. На графике наблюдаются отдельные пики, что может свидетельствовать об аномальном количестве заказов;\n",
    "В целом, конверсия у группы B недостаточно стабилзировалась, чтобы принимать решение об остановке тестирования."
   ]
  },
  {
   "cell_type": "code",
   "execution_count": 28,
   "metadata": {},
   "outputs": [
    {
     "data": {
      "image/png": "[encoded data removed]",
      "text/plain": [
       "<Figure size 432x288 with 1 Axes>"
      ]
     },
     "metadata": {
      "needs_background": "light"
     },
     "output_type": "display_data"
    }
   ],
   "source": [
    "#точечный график количества заказов по пользователям\n",
    "\n",
    "#датасет с информацией о количество заказов каждого пользователя\n",
    "ordersByUsers = orders.drop(['group', 'revenue', 'date'], axis=1).groupby('visitorId', as_index=False).agg({'transactionId' : pd.Series.nunique})\n",
    "\n",
    "#график\n",
    "x_values = pd.Series(range(0,len(ordersByUsers)))\n",
    "plt.scatter(x_values, ordersByUsers['transactionId'])\n",
    "plt.grid()\n",
    "plt.title('График количества заказов по каждому пользователю');"
   ]
  },
  {
   "cell_type": "markdown",
   "metadata": {},
   "source": [
    "##### Выводы по графику:\n",
    "1. Основная масса заказов сосредоточена в пределах единицы; есть небольшие выбросы около двойки и тройки. \n",
    "2. После четырех заказов начинаются совсем незначительные выбросы, от которых можно будет избавиться."
   ]
  },
  {
   "cell_type": "code",
   "execution_count": 29,
   "metadata": {},
   "outputs": [
    {
     "data": {
      "text/plain": [
       "array([2., 4.])"
      ]
     },
     "execution_count": 29,
     "metadata": {},
     "output_type": "execute_result"
    }
   ],
   "source": [
    "#95-й и 99-й перцентили количества заказов на пользователя\n",
    "percentile_for_transaction = np.percentile(ordersByUsers['transactionId'],[95,99])\n",
    "percentile_for_transaction"
   ]
  },
  {
   "cell_type": "code",
   "execution_count": 30,
   "metadata": {},
   "outputs": [
    {
     "data": {
      "image/png": "[encoded data removed]",
      "text/plain": [
       "<Figure size 432x288 with 1 Axes>"
      ]
     },
     "metadata": {
      "needs_background": "light"
     },
     "output_type": "display_data"
    }
   ],
   "source": [
    "#точечный график стоимостей заказов\n",
    "x_values = pd.Series(range(0,len(orders['revenue'])))\n",
    "plt.scatter(x_values, orders['revenue'])\n",
    "plt.grid()\n",
    "plt.title('График стоимостей заказов');"
   ]
  },
  {
   "cell_type": "markdown",
   "metadata": {},
   "source": [
    "##### Выводы по графику:\n",
    "1. Основная масса стоимостей заказов сосредоточена в единой области и наблюдаются незначительные выбросы, о которых можно будет точнее узнать, если обратиться к перцентилям."
   ]
  },
  {
   "cell_type": "code",
   "execution_count": 31,
   "metadata": {},
   "outputs": [
    {
     "data": {
      "text/plain": [
       "array([28000. , 58233.2])"
      ]
     },
     "execution_count": 31,
     "metadata": {},
     "output_type": "execute_result"
    }
   ],
   "source": [
    "#95-й и 99-й перцентили стоимости заказов\n",
    "percentile_for_transaction_price = np.percentile(orders['revenue'],[95,99])\n",
    "percentile_for_transaction_price"
   ]
  },
  {
   "cell_type": "markdown",
   "metadata": {},
   "source": [
    "##### Примем за аномалии тех пользователей, которые совершили более двух заказов и на сумму от 28 тысяч рублей."
   ]
  },
  {
   "cell_type": "code",
   "execution_count": 32,
   "metadata": {},
   "outputs": [
    {
     "name": "stdout",
     "output_type": "stream",
     "text": [
      "0.008\n",
      "0.138\n"
     ]
    }
   ],
   "source": [
    "#статистическая значимость в различии конверсий между группами по сырым данным\n",
    "\n",
    "#h0 - статистически значимых различий в конверсиях между группами нет\n",
    "#h1 - в конверсиях между группами присутствуют статистически значимые различия\n",
    "\n",
    "#данные о заказах группы A\n",
    "ordersByUsersA = orders[orders['group'] == 'A'].groupby('visitorId', as_index=False).agg({'transactionId' : pd.Series.nunique})\n",
    "ordersByUsersA.columns = ['userId', 'transactions']\n",
    "\n",
    "#данные о заказах группы B\n",
    "ordersByUsersB = orders[orders['group'] == 'B'].groupby('visitorId', as_index=False).agg({'transactionId' : pd.Series.nunique})\n",
    "ordersByUsersB.columns = ['userId', 'transactions']\n",
    "\n",
    "#найдем количество посетителей группы A на конкретную дату\n",
    "visitorsADaily = visitors[visitors['group']=='A'][['date', 'visitors']]\n",
    "visitorsADaily.columns = ['date', 'visitorsPerDateA']\n",
    "\n",
    "#найдем количество посетителей группы B на конкретную дату\n",
    "visitorsBDaily = visitors[visitors['group']=='B'][['date', 'visitors']]\n",
    "visitorsBDaily.columns = ['date', 'visitorsPerDateB']\n",
    "\n",
    "#переменная sampleA\n",
    "sampleA = pd.concat([ordersByUsersA['transactions'],pd.Series(0, index=np.arange(visitorsADaily['visitorsPerDateA'].sum() - len(ordersByUsersA['transactions'])), name='transactions')],axis=0)\n",
    "\n",
    "#переменная SampleB\n",
    "sampleB = pd.concat([ordersByUsersB['transactions'], pd.Series(0, index=np.arange(visitorsBDaily['visitorsPerDateB'].sum() - len(ordersByUsersB['transactions'])), name ='transactions')], axis=0)\n",
    "\n",
    "#рассчитаем статистическую значимость\n",
    "print('{0:.3f}'.format(stats.mannwhitneyu(sampleA, sampleB)[1]))\n",
    "\n",
    "#относительное различие\n",
    "print(\"{0:.3f}\".format(sampleB.mean()/sampleA.mean()-1))"
   ]
  },
  {
   "cell_type": "markdown",
   "metadata": {},
   "source": [
    "##### Выводы по статистике:\n",
    "1. p-value(0.008) < 0.05, что свидетельствует о том, что в конверсиях между группами присутствует статистическое различие;\n",
    "2. Относительное преимущество группы B перед группой A равно 13,8%.\n",
    "\n",
    "##### Гипотеза h1 подтверждена."
   ]
  },
  {
   "cell_type": "code",
   "execution_count": 33,
   "metadata": {},
   "outputs": [
    {
     "name": "stdout",
     "output_type": "stream",
     "text": [
      "0.365\n",
      "0.259\n"
     ]
    }
   ],
   "source": [
    "#статистическая значимость различий в среднем чеке заказа между группами по «сырым» данным\n",
    "\n",
    "#h0 - статистически значимых различий в среднем чеке между группами нет\n",
    "#h1 - в среднем чеке между группами есть статистически значимые различия\n",
    "\n",
    "#статистическая значимость\n",
    "print(\"{0:.3f}\".format(stats.mannwhitneyu(orders[orders['group'] == 'A']['revenue'], orders[orders['group'] == 'B']['revenue'])[1]))\n",
    "\n",
    "#относительное различие среднего чека между группами\n",
    "print(\"{0:.3f}\".format(orders[orders['group'] == 'B']['revenue'].mean()/\n",
    "orders[orders['group'] == 'A']['revenue'].mean()-1))"
   ]
  },
  {
   "cell_type": "markdown",
   "metadata": {},
   "source": [
    "##### Выводы по статистике:\n",
    "1. p-value(0.365) > 0.05, что свидетельсвует о том, статистическое различие в среднем чеке между группами отсутствует;\n",
    "2. Относительное преимущество группы B перед группой A равно 25,9%.\n",
    "\n",
    "13,8% в конверсии являются статистически значимым результатом, а 25,9% в среднем чеке не являются статистически значимым результатом в силу особенностей непараметрического теста Уилкоксона-Манна-Уитни. Его главная особенность заключается в том, что взаимодействует только с номерами значений в упорядоченному ряду - рангами - не учитывая при этом сами значения. В данных у нас и в конверсии, и в среднем чеке присутствуют выбросы. \n",
    "\n",
    "\n",
    "##### Гипотеза h0 подтверждена."
   ]
  },
  {
   "cell_type": "code",
   "execution_count": 34,
   "metadata": {},
   "outputs": [
    {
     "name": "stdout",
     "output_type": "stream",
     "text": [
      "(86,)\n"
     ]
    }
   ],
   "source": [
    "#отсеем пользователей, совершивших более двух заказов и пользователей, совершивших покупки на сумму больше 28 тысяч рублей\n",
    "\n",
    "#заказы\n",
    "usersWithManyOrders = pd.concat([ordersByUsersA[ordersByUsersA['transactions'] > 4]['userId'], ordersByUsersB[ordersByUsersB['transactions'] > 4]['userId']], axis = 0)\n",
    "\n",
    "#стоимость\n",
    "usersWithExpensiveOrders = orders[orders['revenue'] > 20000]['visitorId']\n",
    "\n",
    "#объединим их в один датасет\n",
    "abnormalUsers = pd.concat([usersWithManyOrders, usersWithExpensiveOrders], axis=0).drop_duplicates().sort_values()\n",
    "\n",
    "#узнаем, сколько всего аномальных пользователей\n",
    "print(abnormalUsers.shape)"
   ]
  },
  {
   "cell_type": "code",
   "execution_count": 35,
   "metadata": {},
   "outputs": [
    {
     "name": "stdout",
     "output_type": "stream",
     "text": [
      "0.011\n",
      "0.149\n"
     ]
    }
   ],
   "source": [
    "#статистическая значимость различий в конверсии между группами по «очищенным» данным\n",
    "\n",
    "#h0 - статистически значимых различий в конверсии между группами по \"очищенным данным\" нет\n",
    "#h1 - в конверсии между группами \"по очищенным данным\" присутствуют статистически значимые различия\n",
    "\n",
    "#sampleAFiltered\n",
    "sampleAFiltered = pd.concat([ordersByUsersA[np.logical_not(ordersByUsersA['userId'].isin(abnormalUsers))]['transactions'], pd.Series(0, index=np.arange(visitorsADaily['visitorsPerDateA'].sum() - len(ordersByUsersA['transactions'])), name='transactions')],axis=0)\n",
    "\n",
    "#sampleBFiltered\n",
    "sampleBFiltered = pd.concat([ordersByUsersB[np.logical_not(ordersByUsersB['userId'].isin(abnormalUsers))]['transactions'], pd.Series(0, index=np.arange(visitorsBDaily['visitorsPerDateB'].sum() - len(ordersByUsersB['transactions'])), name='transactions')],axis=0)\n",
    "\n",
    "#рассчитаем статистичекую значимость\n",
    "print(\"{0:.3f}\".format(stats.mannwhitneyu(sampleAFiltered, sampleBFiltered)[1]))\n",
    "\n",
    "#относительное различие\n",
    "print(\"{0:.3f}\".format(sampleBFiltered.mean()/sampleAFiltered.mean()-1))"
   ]
  },
  {
   "cell_type": "markdown",
   "metadata": {},
   "source": [
    "##### Выводы по очищенной статистике:\n",
    "1. p-value(0.011) < 0.05, что свидетельствует о том, что статистическое различие в конверсии между группами присутствует.\n",
    "2. Относительное преимущество группы B перед группой A равно 14,9%.\n",
    "\n",
    "##### Гипотеза h1 подтверждена.\n"
   ]
  },
  {
   "cell_type": "code",
   "execution_count": 36,
   "metadata": {},
   "outputs": [
    {
     "name": "stdout",
     "output_type": "stream",
     "text": [
      "0.433\n",
      "-0.002\n"
     ]
    }
   ],
   "source": [
    "#статистическая значимость различий в среднем чеке заказа между группами по «очищенным» данным\n",
    "\n",
    "#h0 - статистически значимых различий в среднем чеке между группами \"по очищенным данным\" нет\n",
    "#h1 - в среднем чеке между группами по \"очищенным данным\" присутвтуют статистически значимые различия\n",
    "\n",
    "#рассчитаем статистическую значимость\n",
    "print(\"{0:.3f}\".format(stats.mannwhitneyu(\n",
    "orders[np.logical_and(\n",
    "orders['group'] == 'A',\n",
    "np.logical_not(orders['visitorId'].isin(abnormalUsers)))]['revenue'],\n",
    "orders[np.logical_and(\n",
    "orders['group']=='B',\n",
    "np.logical_not(orders['visitorId'].isin(abnormalUsers)))]['revenue'])[1]))\n",
    "\n",
    "#рассчитаем относительное различие среднего чека\n",
    "print(\"{0:.3f}\".format(\n",
    "orders[np.logical_and(orders['group']=='B',\n",
    "np.logical_not(orders['visitorId'].isin(abnormalUsers)))]['revenue'].mean()/\n",
    "orders[np.logical_and(\n",
    "orders['group']=='A',\n",
    "np.logical_not(orders['visitorId'].isin(abnormalUsers)))]['revenue'].mean() - 1))"
   ]
  },
  {
   "cell_type": "markdown",
   "metadata": {},
   "source": [
    "##### Выводы по очищенной статистике:\n",
    "1. p-value(0,433) > 0.05, что говорит о том, что отсутствует статистическая разница в среднем чеке между группами A и B;\n",
    "2. Относительный проигрыш группы B перед группой A равен 0,2%.\n",
    "\n",
    "##### Гипотеза h0 подтверждена."
   ]
  },
  {
   "cell_type": "markdown",
   "metadata": {},
   "source": [
    "### Выводы и решение по итогам проведенного анализа A/B теста:\n",
    "\n",
    "##### Выводы:\n",
    "1. Статистически значимое различие по конверсии между группами есть в \"сырых\" и в \"очищенных\" данных;\n",
    "2. Статистически значимое различие по среднему чека между группами отсутствует в \"сырых\" и в \"очищенных данных\";\n",
    "3. На основе графика различий конверсии между группами можно сделать вывод о том, что группа B лучше группы A, так как ее конверсия стабильно лучше;\n",
    "4. После очищения данных средний чек группы B незначительно снизился и стал меньше, чем у группы A. Это говорит о том, что изначально ее первенство было обусловлено наличием выбросов.\n",
    "\n"
   ]
  },
  {
   "cell_type": "markdown",
   "metadata": {},
   "source": [
    "##### Решение:\n",
    "\n",
    "##### Остановить тестирование и признать победу группы B."
   ]
  },
  {
   "cell_type": "markdown",
   "metadata": {},
   "source": [
    "### Общий вывод"
   ]
  },
  {
   "cell_type": "markdown",
   "metadata": {},
   "source": [
    "##### Количество уникальных значений для hypothesis - 35.\n",
    "\n",
    "##### Количество уникальных значений для orders - 2974.\n",
    "\n",
    "##### Количество уникальных значений для visitors - 91.\n",
    "\n",
    "##### Наиболее подходящая гипотеза по фреймворку ICE - 8 (Запустить акцию, дающую скидку на товар в день рождения); неподходящая - 4 (Изменить цвет фона главной страницы, чтобы увеличить вовлеченность пользователей)\n",
    "\n",
    "##### Наиболее подходящая гипотеза по фреймворку RICE - 7 (Добавить форму подписки на все основные страницы, чтобы собрать базу клиентов для email-рассылок); неподходящая - 4\n",
    "\n",
    "##### 95-й и 99-й перцентили количества заказов - 2 и 4.\n",
    "\n",
    "##### 95-й и 99-й перцентили стоимостей заказов - 28000 и 58233.2\n",
    "\n",
    "##### Выводы по \"сырым данным\":\n",
    "1. График кумулятивной выручки по дням и группам, а также график кумулятивного среднего чека сообщают о том, что группа B лучше группы A;\n",
    "2. График относительного изменения кумулятивного среднего чека группы B к группе A также сообщает о том, что группа B - несмотря на небольшой провал - стабильно лучше группы A.\n",
    "3. Графики кумулятивной конверсии и относительного изменения кумулятивной конверсии группы B к группе A сообщают о том, что группа B лучше группы A.\n",
    "4. Согласно графикам и перцентилям количества заказов на каждого пользователя - в основном пользователи совершают один или два заказа, а дальше начинаются выбросы, существенно искажающие общее представление о данных;\n",
    "5. График и перцентили стоимостей заказов говорят о том, что в основном пользователи совершают покупки на сумму до 28 тысяч рублей, а все, что лежит за этой границей - является выбросами;\n",
    "6. Статистическое различие в конверсиях между группами присутствует - p-value(0.008) < 0.05, а относительное преимущество группы B перед группой A равно 13,8%;\n",
    "7. Статистическое различие в среднем чеке между группами отсутствует - p-value(0.365) > 0.05, однако средний чек группы B больше среднего чека группы A на 25,9%.\n",
    "\n",
    "##### Выводы по \"очищенным данным\":\n",
    "1. Статистическое различие в конверсиях между группами присутствует - p-value(0.011) < 0.05, а относительное преимущество группы B перед группой A равно 14,9%;\n",
    "2. Статистическое различие в среднему чека между группами отсутствует - p-value(0.433) > 0.05 - и средний чек группы B оказался незначительно меньше среднего чека группы A.\n",
    "\n",
    "##### По итогу проведенного анализа было принято решение остановить A/B тестирование и зафиксировать победу группы B."
   ]
  }
 ],
 "metadata": {
  "kernelspec": {
   "display_name": "Python 3",
   "language": "python",
   "name": "python3"
  },
  "language_info": {
   "codemirror_mode": {
    "name": "ipython",
    "version": 3
   },
   "file_extension": ".py",
   "mimetype": "text/x-python",
   "name": "python",
   "nbconvert_exporter": "python",
   "pygments_lexer": "ipython3",
   "version": "3.7.6"
  }
 },
 "nbformat": 4,
 "nbformat_minor": 2
}
