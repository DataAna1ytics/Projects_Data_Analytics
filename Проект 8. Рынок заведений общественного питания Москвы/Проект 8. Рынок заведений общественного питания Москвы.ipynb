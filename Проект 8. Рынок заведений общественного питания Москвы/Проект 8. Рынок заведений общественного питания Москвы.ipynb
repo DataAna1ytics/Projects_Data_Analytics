{
 "cells": [
  {
   "cell_type": "markdown",
   "metadata": {},
   "source": [
    "## Рынок заведений общественного питания Москвы"
   ]
  },
  {
   "cell_type": "markdown",
   "metadata": {},
   "source": [
    "### Описание проекта\n",
    "Вы решили открыть небольшое кафе в Москве. Оно оригинальное — гостей должны обслуживать роботы. Проект многообещающий, но дорогой. Вместе с партнёрами вы решились обратиться к инвесторам. Их интересует текущее положение дел на рынке — сможете ли вы снискать популярность на долгое время, когда все зеваки насмотрятся на роботов-официантов?\n",
    "Вы — гуру аналитики, и партнёры просят вас подготовить исследование рынка. У вас есть открытые данные о заведениях общественного питания в Москве."
   ]
  },
  {
   "cell_type": "markdown",
   "metadata": {},
   "source": [
    "---\n",
    "\n",
    "### <a id=\"stepend\"> Оглавление</a>\n",
    "\n",
    "- [Импорт библиотек, данных и получение первичной информации](#step1)\n",
    "- [Предобработка данных](#step2)\n",
    "- [Исследовательский анализ данных](#step3)\n",
    "- [Общий вывод](#step4)\n",
    "\n",
    "---"
   ]
  },
  {
   "cell_type": "markdown",
   "metadata": {},
   "source": [
    "### Материалы\n",
    "\n",
    "#### Презентация https://yadi.sk/i/a1ebO9GLuQiSpA"
   ]
  },
  {
   "cell_type": "markdown",
   "metadata": {},
   "source": [
    "### План исследования\n",
    "- Исследовать соотношение видов объектов общественного питания по количеству и построить график;\n",
    "- Исследовать соотношение сетевых и несетевых заведений по количеству и построить график;\n",
    "- Определить, для какого вида объекта общественного питания характерно сетевое распространение;\n",
    "- Ответить на вопрос, что характерно для сетевых заведений;\n",
    "- Для каждого объекта общественного питания определить среднее количество посадочных мест и построить графики;\n",
    "- В отдельный столбец выделить информацию об улице из столбца address;\n",
    "- Построить график топ-10 улиц по количеству объектов общественного питания и ответить на вопрос, в каких районах Москвы находятся эти улицы;\n",
    "- Найти число улиц с одним объектом общественного питаний и ответить на вопрос, в каком районе Москвы находятся эти улицы;\n",
    "- Посмотреть на распределение количество посадочных мест для улиц с большим количеством объектов общественного питания и определить закономерности;\n",
    "- Сделать общий вывод и дать рекомендации; прокомментировать возможность развития сети.\n",
    "- Подготовить презентацию исследования для инвесторов."
   ]
  },
  {
   "cell_type": "markdown",
   "metadata": {},
   "source": [
    "### <a id='step1'>Импорт библиотек, данных и получение первичной информации</a>"
   ]
  },
  {
   "cell_type": "code",
   "execution_count": 1,
   "metadata": {},
   "outputs": [],
   "source": [
    "# импортируем библиотеки\n",
    "import pandas as pd\n",
    "import matplotlib.pyplot as plt\n",
    "import seaborn as sns\n",
    "import numpy as np\n",
    "import requests\n",
    "from io import BytesIO"
   ]
  },
  {
   "cell_type": "code",
   "execution_count": 2,
   "metadata": {},
   "outputs": [],
   "source": [
    "# импортируем данные\n",
    "rest_data = pd.read_csv('C:/Users/sokol/OneDrive/Рабочий стол/portfolio/yandexp/Рынок заведений общественного питания Москвы/rest_data.csv')"
   ]
  },
  {
   "cell_type": "code",
   "execution_count": 3,
   "metadata": {},
   "outputs": [
    {
     "name": "stderr",
     "output_type": "stream",
     "text": [
      "C:\\Users\\sokol\\anaconda3\\lib\\site-packages\\ipykernel_launcher.py:2: FutureWarning: Passing a negative integer is deprecated in version 1.0 and will not be supported in future version. Instead, use None to not limit the column width.\n",
      "  \n"
     ]
    }
   ],
   "source": [
    "# установим лимит на отображние символов в строках таблицы\n",
    "pd.set_option('max_colwidth', -1)"
   ]
  },
  {
   "cell_type": "code",
   "execution_count": 4,
   "metadata": {},
   "outputs": [
    {
     "name": "stdout",
     "output_type": "stream",
     "text": [
      "<class 'pandas.core.frame.DataFrame'>\n",
      "RangeIndex: 15366 entries, 0 to 15365\n",
      "Data columns (total 6 columns):\n",
      " #   Column       Non-Null Count  Dtype \n",
      "---  ------       --------------  ----- \n",
      " 0   id           15366 non-null  int64 \n",
      " 1   object_name  15366 non-null  object\n",
      " 2   chain        15366 non-null  object\n",
      " 3   object_type  15366 non-null  object\n",
      " 4   address      15366 non-null  object\n",
      " 5   number       15366 non-null  int64 \n",
      "dtypes: int64(2), object(4)\n",
      "memory usage: 720.4+ KB\n"
     ]
    }
   ],
   "source": [
    "# первичное представление о данных\n",
    "rest_data.info()"
   ]
  },
  {
   "cell_type": "code",
   "execution_count": 5,
   "metadata": {},
   "outputs": [
    {
     "data": {
      "text/html": [
       "<div>\n",
       "<style scoped>\n",
       "    .dataframe tbody tr th:only-of-type {\n",
       "        vertical-align: middle;\n",
       "    }\n",
       "\n",
       "    .dataframe tbody tr th {\n",
       "        vertical-align: top;\n",
       "    }\n",
       "\n",
       "    .dataframe thead th {\n",
       "        text-align: right;\n",
       "    }\n",
       "</style>\n",
       "<table border=\"1\" class=\"dataframe\">\n",
       "  <thead>\n",
       "    <tr style=\"text-align: right;\">\n",
       "      <th></th>\n",
       "      <th>id</th>\n",
       "      <th>object_name</th>\n",
       "      <th>chain</th>\n",
       "      <th>object_type</th>\n",
       "      <th>address</th>\n",
       "      <th>number</th>\n",
       "    </tr>\n",
       "  </thead>\n",
       "  <tbody>\n",
       "    <tr>\n",
       "      <th>0</th>\n",
       "      <td>151635</td>\n",
       "      <td>СМЕТАНА</td>\n",
       "      <td>нет</td>\n",
       "      <td>кафе</td>\n",
       "      <td>город Москва, улица Егора Абакумова, дом 9</td>\n",
       "      <td>48</td>\n",
       "    </tr>\n",
       "    <tr>\n",
       "      <th>1</th>\n",
       "      <td>77874</td>\n",
       "      <td>Родник</td>\n",
       "      <td>нет</td>\n",
       "      <td>кафе</td>\n",
       "      <td>город Москва, улица Талалихина, дом 2/1, корпус 1</td>\n",
       "      <td>35</td>\n",
       "    </tr>\n",
       "    <tr>\n",
       "      <th>2</th>\n",
       "      <td>24309</td>\n",
       "      <td>Кафе «Академия»</td>\n",
       "      <td>нет</td>\n",
       "      <td>кафе</td>\n",
       "      <td>город Москва, Абельмановская улица, дом 6</td>\n",
       "      <td>95</td>\n",
       "    </tr>\n",
       "    <tr>\n",
       "      <th>3</th>\n",
       "      <td>21894</td>\n",
       "      <td>ПИЦЦЕТОРИЯ</td>\n",
       "      <td>да</td>\n",
       "      <td>кафе</td>\n",
       "      <td>город Москва, Абрамцевская улица, дом 1</td>\n",
       "      <td>40</td>\n",
       "    </tr>\n",
       "    <tr>\n",
       "      <th>4</th>\n",
       "      <td>119365</td>\n",
       "      <td>Кафе «Вишневая метель»</td>\n",
       "      <td>нет</td>\n",
       "      <td>кафе</td>\n",
       "      <td>город Москва, Абрамцевская улица, дом 9, корпус 1</td>\n",
       "      <td>50</td>\n",
       "    </tr>\n",
       "  </tbody>\n",
       "</table>\n",
       "</div>"
      ],
      "text/plain": [
       "       id             object_name chain object_type  \\\n",
       "0  151635  СМЕТАНА                 нет   кафе         \n",
       "1  77874   Родник                  нет   кафе         \n",
       "2  24309   Кафе «Академия»         нет   кафе         \n",
       "3  21894   ПИЦЦЕТОРИЯ              да    кафе         \n",
       "4  119365  Кафе «Вишневая метель»  нет   кафе         \n",
       "\n",
       "                                             address  number  \n",
       "0  город Москва, улица Егора Абакумова, дом 9         48      \n",
       "1  город Москва, улица Талалихина, дом 2/1, корпус 1  35      \n",
       "2  город Москва, Абельмановская улица, дом 6          95      \n",
       "3  город Москва, Абрамцевская улица, дом 1            40      \n",
       "4  город Москва, Абрамцевская улица, дом 9, корпус 1  50      "
      ]
     },
     "execution_count": 5,
     "metadata": {},
     "output_type": "execute_result"
    }
   ],
   "source": [
    "# первые 5 строк\n",
    "rest_data.head()"
   ]
  },
  {
   "cell_type": "code",
   "execution_count": 6,
   "metadata": {},
   "outputs": [
    {
     "name": "stdout",
     "output_type": "stream",
     "text": [
      "27662     1\n",
      "223307    1\n",
      "185071    1\n",
      "23278     1\n",
      "21451     1\n",
      "         ..\n",
      "155041    1\n",
      "21920     1\n",
      "107934    1\n",
      "26006     1\n",
      "163840    1\n",
      "Name: id, Length: 15366, dtype: int64\n",
      "Столовая                          267\n",
      "Кафе                              236\n",
      "Шаурма                            234\n",
      "KFC                               155\n",
      "Шоколадница                       142\n",
      "                                 ... \n",
      "КАФЕ ПРИ ГОСТИНИЦЕ ЯРОСЛАВСКАЯ    1  \n",
      "СТОЛОВАЯ ПРИ АО ВНИИЭТО           1  \n",
      "ГБОУ Школа №771                   1  \n",
      "Rare pastrami                     1  \n",
      "Бистро 160                        1  \n",
      "Name: object_name, Length: 10393, dtype: int64\n",
      "нет    12398\n",
      "да     2968 \n",
      "Name: chain, dtype: int64\n",
      "кафе                                 6099\n",
      "столовая                             2587\n",
      "ресторан                             2285\n",
      "предприятие быстрого обслуживания    1923\n",
      "бар                                  856 \n",
      "буфет                                585 \n",
      "кафетерий                            398 \n",
      "закусочная                           360 \n",
      "магазин (отдел кулинарии)            273 \n",
      "Name: object_type, dtype: int64\n",
      "город Москва, Ходынский бульвар, дом 4                              95\n",
      "город Москва, Пресненская набережная, дом 2                         63\n",
      "город Москва, проспект Мира, дом 211, корпус 2                      60\n",
      "город Москва, Кировоградская улица, дом 13А                         53\n",
      "город Москва, площадь Киевского Вокзала, дом 2                      48\n",
      "                                                                    ..\n",
      "город Москва, город Московский, Радужная улица, дом 13, корпус 3    1 \n",
      "город Москва, Севастопольский проспект, дом 11А                     1 \n",
      "город Москва, Ставропольская улица, дом 54, корпус 3                1 \n",
      "город Москва, Печорская улица, дом 18                               1 \n",
      "город Москва, Дмитровское шоссе, дом 151, корпус 5                  1 \n",
      "Name: address, Length: 9108, dtype: int64\n",
      "0      1621\n",
      "40     835 \n",
      "20     727 \n",
      "30     685 \n",
      "10     644 \n",
      "      ...  \n",
      "491    1   \n",
      "675    1   \n",
      "455    1   \n",
      "167    1   \n",
      "495    1   \n",
      "Name: number, Length: 315, dtype: int64\n"
     ]
    }
   ],
   "source": [
    "# уникальные значения\n",
    "for column in rest_data.columns:\n",
    "    print(rest_data[column].value_counts())"
   ]
  },
  {
   "cell_type": "code",
   "execution_count": 7,
   "metadata": {},
   "outputs": [
    {
     "data": {
      "text/plain": [
       "id             0\n",
       "object_name    0\n",
       "chain          0\n",
       "object_type    0\n",
       "address        0\n",
       "number         0\n",
       "dtype: int64"
      ]
     },
     "execution_count": 7,
     "metadata": {},
     "output_type": "execute_result"
    }
   ],
   "source": [
    "# проверим на пропуски\n",
    "rest_data.isna().sum()"
   ]
  },
  {
   "cell_type": "code",
   "execution_count": 8,
   "metadata": {},
   "outputs": [
    {
     "data": {
      "text/plain": [
       "0"
      ]
     },
     "execution_count": 8,
     "metadata": {},
     "output_type": "execute_result"
    }
   ],
   "source": [
    "# проверим на дубликаты\n",
    "rest_data.duplicated().sum()"
   ]
  },
  {
   "cell_type": "markdown",
   "metadata": {},
   "source": [
    "#### Вывод\n",
    "\n",
    "#### Рекомендации по предобработке:\n",
    "- Привести значения столбца object_name к нижнему регистру\n",
    "- Определить неявные дубликаты в столбце object_name и исправить их."
   ]
  },
  {
   "cell_type": "markdown",
   "metadata": {},
   "source": [
    "### <a id='step2'>Предобработка данных</a>"
   ]
  },
  {
   "cell_type": "code",
   "execution_count": 9,
   "metadata": {},
   "outputs": [],
   "source": [
    "# приведем значения столбца object_name к нижнему регистру\n",
    "rest_data['object_name'] = rest_data['object_name'].str.lower()"
   ]
  },
  {
   "cell_type": "code",
   "execution_count": 10,
   "metadata": {},
   "outputs": [
    {
     "data": {
      "text/html": [
       "<div>\n",
       "<style scoped>\n",
       "    .dataframe tbody tr th:only-of-type {\n",
       "        vertical-align: middle;\n",
       "    }\n",
       "\n",
       "    .dataframe tbody tr th {\n",
       "        vertical-align: top;\n",
       "    }\n",
       "\n",
       "    .dataframe thead th {\n",
       "        text-align: right;\n",
       "    }\n",
       "</style>\n",
       "<table border=\"1\" class=\"dataframe\">\n",
       "  <thead>\n",
       "    <tr style=\"text-align: right;\">\n",
       "      <th></th>\n",
       "      <th>id</th>\n",
       "      <th>object_name</th>\n",
       "      <th>chain</th>\n",
       "      <th>object_type</th>\n",
       "      <th>address</th>\n",
       "      <th>number</th>\n",
       "    </tr>\n",
       "  </thead>\n",
       "  <tbody>\n",
       "    <tr>\n",
       "      <th>0</th>\n",
       "      <td>151635</td>\n",
       "      <td>сметана</td>\n",
       "      <td>нет</td>\n",
       "      <td>кафе</td>\n",
       "      <td>город Москва, улица Егора Абакумова, дом 9</td>\n",
       "      <td>48</td>\n",
       "    </tr>\n",
       "    <tr>\n",
       "      <th>1</th>\n",
       "      <td>77874</td>\n",
       "      <td>родник</td>\n",
       "      <td>нет</td>\n",
       "      <td>кафе</td>\n",
       "      <td>город Москва, улица Талалихина, дом 2/1, корпус 1</td>\n",
       "      <td>35</td>\n",
       "    </tr>\n",
       "    <tr>\n",
       "      <th>2</th>\n",
       "      <td>24309</td>\n",
       "      <td>кафе «академия»</td>\n",
       "      <td>нет</td>\n",
       "      <td>кафе</td>\n",
       "      <td>город Москва, Абельмановская улица, дом 6</td>\n",
       "      <td>95</td>\n",
       "    </tr>\n",
       "    <tr>\n",
       "      <th>3</th>\n",
       "      <td>21894</td>\n",
       "      <td>пиццетория</td>\n",
       "      <td>да</td>\n",
       "      <td>кафе</td>\n",
       "      <td>город Москва, Абрамцевская улица, дом 1</td>\n",
       "      <td>40</td>\n",
       "    </tr>\n",
       "    <tr>\n",
       "      <th>4</th>\n",
       "      <td>119365</td>\n",
       "      <td>кафе «вишневая метель»</td>\n",
       "      <td>нет</td>\n",
       "      <td>кафе</td>\n",
       "      <td>город Москва, Абрамцевская улица, дом 9, корпус 1</td>\n",
       "      <td>50</td>\n",
       "    </tr>\n",
       "  </tbody>\n",
       "</table>\n",
       "</div>"
      ],
      "text/plain": [
       "       id             object_name chain object_type  \\\n",
       "0  151635  сметана                 нет   кафе         \n",
       "1  77874   родник                  нет   кафе         \n",
       "2  24309   кафе «академия»         нет   кафе         \n",
       "3  21894   пиццетория              да    кафе         \n",
       "4  119365  кафе «вишневая метель»  нет   кафе         \n",
       "\n",
       "                                             address  number  \n",
       "0  город Москва, улица Егора Абакумова, дом 9         48      \n",
       "1  город Москва, улица Талалихина, дом 2/1, корпус 1  35      \n",
       "2  город Москва, Абельмановская улица, дом 6          95      \n",
       "3  город Москва, Абрамцевская улица, дом 1            40      \n",
       "4  город Москва, Абрамцевская улица, дом 9, корпус 1  50      "
      ]
     },
     "execution_count": 10,
     "metadata": {},
     "output_type": "execute_result"
    }
   ],
   "source": [
    "# проверим\n",
    "rest_data.head()"
   ]
  },
  {
   "cell_type": "code",
   "execution_count": 11,
   "metadata": {},
   "outputs": [],
   "source": [
    "# пройдемся по неявным дубликатам\n",
    "rest_data = rest_data.drop_duplicates(subset=['object_name','chain','object_type','address','number'], keep='first')"
   ]
  },
  {
   "cell_type": "code",
   "execution_count": 12,
   "metadata": {},
   "outputs": [
    {
     "name": "stdout",
     "output_type": "stream",
     "text": [
      "<class 'pandas.core.frame.DataFrame'>\n",
      "Int64Index: 15281 entries, 0 to 15365\n",
      "Data columns (total 6 columns):\n",
      " #   Column       Non-Null Count  Dtype \n",
      "---  ------       --------------  ----- \n",
      " 0   id           15281 non-null  int64 \n",
      " 1   object_name  15281 non-null  object\n",
      " 2   chain        15281 non-null  object\n",
      " 3   object_type  15281 non-null  object\n",
      " 4   address      15281 non-null  object\n",
      " 5   number       15281 non-null  int64 \n",
      "dtypes: int64(2), object(4)\n",
      "memory usage: 835.7+ KB\n"
     ]
    }
   ],
   "source": [
    "# первичное представление\n",
    "rest_data.info()"
   ]
  },
  {
   "cell_type": "code",
   "execution_count": 13,
   "metadata": {},
   "outputs": [],
   "source": [
    "# избавимся от схожих названий заведений в столбце object_name\n",
    "\n",
    "# соберем словарь\n",
    "dictionary = {'кальян ' : '', 'кальян' : '', 'бар ' : '', 'бар' : '', '-' : ' ', ' кафе' : '', 'кафе ' : '',\n",
    "              'пбо ' : '', '«' : '', '»' : '', 'предприятие быстрого обслуживания ' : '', 'магбургер азс №16' : 'магбургер',\n",
    "              'магбургер азс №17' : 'магбургер', 'fridays kfc' : 'kfc', 'быстрого питания kfc' : 'kfc', 'kfc покрышкина' : 'kfc',\n",
    "              'kfc волгоградский' : 'kfc', 'ростикс kfc' : 'kfc', 'закусочная kfc' : 'kfc', ' kfc' : 'kfc'}\n",
    "\n",
    "# функция для замены значений\n",
    "def clear_one_name(row):\n",
    "    new_name = row['object_name']\n",
    "    \n",
    "    for bad_word in dictionary:\n",
    "        new_name = str(new_name).replace(bad_word, dictionary[bad_word])\n",
    "        return new_name\n",
    "\n",
    "# применим функцию\n",
    "rest_data['object_name'] = rest_data.apply(clear_one_name, axis=1)"
   ]
  },
  {
   "cell_type": "markdown",
   "metadata": {},
   "source": [
    "### <a id='step3'>Исследовательский анализ данных</a>"
   ]
  },
  {
   "cell_type": "code",
   "execution_count": 14,
   "metadata": {},
   "outputs": [],
   "source": [
    "sns.set_style(\"whitegrid\")"
   ]
  },
  {
   "cell_type": "code",
   "execution_count": 15,
   "metadata": {},
   "outputs": [],
   "source": [
    "# посчитаем кол-во заведений по каждому типу\n",
    "object_types = rest_data.groupby(\"object_type\")['object_name'].count()"
   ]
  },
  {
   "cell_type": "code",
   "execution_count": 16,
   "metadata": {},
   "outputs": [
    {
     "data": {
      "text/plain": [
       "object_type\n",
       "бар                                  855 \n",
       "буфет                                576 \n",
       "закусочная                           348 \n",
       "кафе                                 6071\n",
       "кафетерий                            395 \n",
       "магазин (отдел кулинарии)            273 \n",
       "предприятие быстрого обслуживания    1897\n",
       "ресторан                             2282\n",
       "столовая                             2584\n",
       "Name: object_name, dtype: int64"
      ]
     },
     "execution_count": 16,
     "metadata": {},
     "output_type": "execute_result"
    }
   ],
   "source": [
    "# выведем\n",
    "object_types"
   ]
  },
  {
   "cell_type": "code",
   "execution_count": 17,
   "metadata": {},
   "outputs": [],
   "source": [
    "# посчитаем процентное соотношение\n",
    "count_per_types = object_types.groupby('object_type')\\\n",
    ".agg(Percentage = ('object_name', lambda p: p.sum() / object_types.sum() * 100))\\\n",
    ".round(2)\\\n",
    ".sort_values('Percentage', ascending = False)"
   ]
  },
  {
   "cell_type": "code",
   "execution_count": 18,
   "metadata": {},
   "outputs": [
    {
     "data": {
      "text/html": [
       "<div>\n",
       "<style scoped>\n",
       "    .dataframe tbody tr th:only-of-type {\n",
       "        vertical-align: middle;\n",
       "    }\n",
       "\n",
       "    .dataframe tbody tr th {\n",
       "        vertical-align: top;\n",
       "    }\n",
       "\n",
       "    .dataframe thead th {\n",
       "        text-align: right;\n",
       "    }\n",
       "</style>\n",
       "<table border=\"1\" class=\"dataframe\">\n",
       "  <thead>\n",
       "    <tr style=\"text-align: right;\">\n",
       "      <th></th>\n",
       "      <th>Percentage</th>\n",
       "    </tr>\n",
       "    <tr>\n",
       "      <th>object_type</th>\n",
       "      <th></th>\n",
       "    </tr>\n",
       "  </thead>\n",
       "  <tbody>\n",
       "    <tr>\n",
       "      <th>кафе</th>\n",
       "      <td>39.73</td>\n",
       "    </tr>\n",
       "    <tr>\n",
       "      <th>столовая</th>\n",
       "      <td>16.91</td>\n",
       "    </tr>\n",
       "    <tr>\n",
       "      <th>ресторан</th>\n",
       "      <td>14.93</td>\n",
       "    </tr>\n",
       "    <tr>\n",
       "      <th>предприятие быстрого обслуживания</th>\n",
       "      <td>12.41</td>\n",
       "    </tr>\n",
       "    <tr>\n",
       "      <th>бар</th>\n",
       "      <td>5.60</td>\n",
       "    </tr>\n",
       "    <tr>\n",
       "      <th>буфет</th>\n",
       "      <td>3.77</td>\n",
       "    </tr>\n",
       "    <tr>\n",
       "      <th>кафетерий</th>\n",
       "      <td>2.58</td>\n",
       "    </tr>\n",
       "    <tr>\n",
       "      <th>закусочная</th>\n",
       "      <td>2.28</td>\n",
       "    </tr>\n",
       "    <tr>\n",
       "      <th>магазин (отдел кулинарии)</th>\n",
       "      <td>1.79</td>\n",
       "    </tr>\n",
       "  </tbody>\n",
       "</table>\n",
       "</div>"
      ],
      "text/plain": [
       "                                   Percentage\n",
       "object_type                                  \n",
       "кафе                               39.73     \n",
       "столовая                           16.91     \n",
       "ресторан                           14.93     \n",
       "предприятие быстрого обслуживания  12.41     \n",
       "бар                                5.60      \n",
       "буфет                              3.77      \n",
       "кафетерий                          2.58      \n",
       "закусочная                         2.28      \n",
       "магазин (отдел кулинарии)          1.79      "
      ]
     },
     "execution_count": 18,
     "metadata": {},
     "output_type": "execute_result"
    }
   ],
   "source": [
    "# выведем \n",
    "count_per_types"
   ]
  },
  {
   "cell_type": "code",
   "execution_count": 19,
   "metadata": {},
   "outputs": [
    {
     "data": {
      "image/png": "[encoded data removed]",
      "text/plain": [
       "<Figure size 1080x648 with 1 Axes>"
      ]
     },
     "metadata": {},
     "output_type": "display_data"
    }
   ],
   "source": [
    "# нарисуем график соотношения типов объектов общественного питания\n",
    "bar,ax = plt.subplots(figsize=(15, 9))\n",
    "ax = sns.barplot(x='Percentage', y=count_per_types.index, data=count_per_types, ci=None, palette= \"muted\", orient='h' )\n",
    "ax.set_title(\"Соотношение видов объектов общественного питания в Москве\", fontsize=15)\n",
    "ax.set_xlabel (\"Процентное соотношение\")\n",
    "ax.set_ylabel (\"Тип заведения\")\n",
    "for rect in ax.patches:\n",
    "    ax.text (rect.get_width(), rect.get_y() + rect.get_height() / 2, \"%.1f%%\"% rect.get_width(), weight='bold' )\n",
    "plt.show();"
   ]
  },
  {
   "cell_type": "markdown",
   "metadata": {},
   "source": [
    "- Самую большую долю на рынке общественного питания Москвы занимают заведения типа кафе - 39.7% - 6071 заведений;\n",
    "- Самые маленькие доли заведений на рынке общественного питания Москвы занимают заведения типов магазин (отдел кулинарии) - 1.8% - 273 заведения, закусочная - 2.3% - 348 заведений, кафетерий - 2.6% - 395 заведений и буфет - 3.8% - 576 заведений;\n",
    "- Практически равномерно на рынке общественного питания Москвы распределены заведения типов столовая - 16.9% - 2584 заведения, ресторан - 14.9% - 2282 заведений и предприятие быстрого обслуживания - 12.4% - 1897 заведений."
   ]
  },
  {
   "cell_type": "code",
   "execution_count": 20,
   "metadata": {},
   "outputs": [],
   "source": [
    "# посчитаем количество сетевых/несетевых заведений\n",
    "object_chain_types = rest_data.groupby(\"chain\")['object_name'].count()"
   ]
  },
  {
   "cell_type": "code",
   "execution_count": 21,
   "metadata": {},
   "outputs": [
    {
     "data": {
      "text/plain": [
       "chain\n",
       "да     2964 \n",
       "нет    12317\n",
       "Name: object_name, dtype: int64"
      ]
     },
     "execution_count": 21,
     "metadata": {},
     "output_type": "execute_result"
    }
   ],
   "source": [
    "# выведем\n",
    "object_chain_types"
   ]
  },
  {
   "cell_type": "code",
   "execution_count": 22,
   "metadata": {},
   "outputs": [],
   "source": [
    "# посчитаем процентное соотношение\n",
    "count_per_chain = object_chain_types.groupby('chain')\\\n",
    ".agg(Percentage = ('object_name', lambda p: p.sum() / object_chain_types.sum() * 100))\\\n",
    ".round(2)\\\n",
    ".sort_values('Percentage', ascending = False)"
   ]
  },
  {
   "cell_type": "code",
   "execution_count": 23,
   "metadata": {},
   "outputs": [
    {
     "data": {
      "text/html": [
       "<div>\n",
       "<style scoped>\n",
       "    .dataframe tbody tr th:only-of-type {\n",
       "        vertical-align: middle;\n",
       "    }\n",
       "\n",
       "    .dataframe tbody tr th {\n",
       "        vertical-align: top;\n",
       "    }\n",
       "\n",
       "    .dataframe thead th {\n",
       "        text-align: right;\n",
       "    }\n",
       "</style>\n",
       "<table border=\"1\" class=\"dataframe\">\n",
       "  <thead>\n",
       "    <tr style=\"text-align: right;\">\n",
       "      <th></th>\n",
       "      <th>Percentage</th>\n",
       "    </tr>\n",
       "    <tr>\n",
       "      <th>chain</th>\n",
       "      <th></th>\n",
       "    </tr>\n",
       "  </thead>\n",
       "  <tbody>\n",
       "    <tr>\n",
       "      <th>нет</th>\n",
       "      <td>80.6</td>\n",
       "    </tr>\n",
       "    <tr>\n",
       "      <th>да</th>\n",
       "      <td>19.4</td>\n",
       "    </tr>\n",
       "  </tbody>\n",
       "</table>\n",
       "</div>"
      ],
      "text/plain": [
       "       Percentage\n",
       "chain            \n",
       "нет    80.6      \n",
       "да     19.4      "
      ]
     },
     "execution_count": 23,
     "metadata": {},
     "output_type": "execute_result"
    }
   ],
   "source": [
    "count_per_chain"
   ]
  },
  {
   "cell_type": "code",
   "execution_count": 24,
   "metadata": {},
   "outputs": [
    {
     "data": {
      "image/png": "[encoded data removed]",
      "text/plain": [
       "<Figure size 1080x648 with 1 Axes>"
      ]
     },
     "metadata": {},
     "output_type": "display_data"
    }
   ],
   "source": [
    "# нарисуем график соотношения сетевых/несетевых заведений общественного питания\n",
    "bar,ax = plt.subplots(figsize=(15, 9))\n",
    "ax = sns.barplot(x='Percentage', y=count_per_chain.index, data=count_per_chain, ci=None, palette= \"muted\", orient='h' )\n",
    "ax.set_title(\"Соотношение сетевых/несетевых объектов общественного питания в Москве\", fontsize=15)\n",
    "ax.set_xlabel (\"Процентное соотношение\")\n",
    "ax.set_ylabel (\"Тип заведения\")\n",
    "for rect in ax.patches:\n",
    "    ax.text (rect.get_width(), rect.get_y() + rect.get_height() / 2, \"%.1f%%\"% rect.get_width(), weight='bold' )\n",
    "plt.show();"
   ]
  },
  {
   "cell_type": "markdown",
   "metadata": {},
   "source": [
    "- Несетевые заведения на рынке общественного питания Москвы составляют 80.6% - 12317 заведений;\n",
    "- Сетевые заведения на рынке общественного питания Москвы составляют 19.4% - 2964 заведения."
   ]
  },
  {
   "cell_type": "markdown",
   "metadata": {},
   "source": [
    "#### Для какого вида объекта общественного питания характерно сетевое распределение?"
   ]
  },
  {
   "cell_type": "code",
   "execution_count": 25,
   "metadata": {},
   "outputs": [],
   "source": [
    "# отсортируем заведения по количеству\n",
    "sorted_data = rest_data.sort_values('object_type', ascending=False)"
   ]
  },
  {
   "cell_type": "code",
   "execution_count": 26,
   "metadata": {},
   "outputs": [
    {
     "data": {
      "image/png": "[encoded data removed]",
      "text/plain": [
       "<Figure size 1008x576 with 1 Axes>"
      ]
     },
     "metadata": {},
     "output_type": "display_data"
    }
   ],
   "source": [
    "# нарисуем график соотношения сетевых/несетевых заведений по каждому типу объекта\n",
    "plt.figure(figsize=(14, 8))\n",
    "ax = sns.countplot(x=\"object_type\", hue = \"chain\", data = sorted_data,\\\n",
    "                  order = sorted_data['object_type'].value_counts().index)\n",
    "plt.title('Распределение сетевых и несетевых объектов по типам', fontdict={'size':12})\n",
    "plt.xlabel('Тип заведения', fontdict={'size': 12},)\n",
    "plt.ylabel('Количество заведений', fontdict={'size': 12})\n",
    "plt.xticks(rotation=45)\n",
    "plt.show();"
   ]
  },
  {
   "cell_type": "markdown",
   "metadata": {},
   "source": [
    "- Сетевое распределение заведений общественного питания характерно для типов: кафе, предприятие быстрого обслуживания и ресторан;\n",
    "- Сетевое распределений заведений общественного питания нехарактерно для всех остальных типов."
   ]
  },
  {
   "cell_type": "markdown",
   "metadata": {},
   "source": [
    "#### Что характерно для сетевых заведений: много заведений с небольшим числом посадочных мест в каждом или мало заведений с большим количеством посадочных мест?"
   ]
  },
  {
   "cell_type": "code",
   "execution_count": 27,
   "metadata": {},
   "outputs": [],
   "source": [
    "# посчитаем для сетевых заведений количество заведений и количество посадочных мест\n",
    "count_object_chain = rest_data.query('chain == \"да\"').groupby('object_name')\\\n",
    ".agg({'object_name' : 'count', 'number' : 'mean'}).round()"
   ]
  },
  {
   "cell_type": "code",
   "execution_count": 28,
   "metadata": {},
   "outputs": [
    {
     "data": {
      "text/html": [
       "<div>\n",
       "<style scoped>\n",
       "    .dataframe tbody tr th:only-of-type {\n",
       "        vertical-align: middle;\n",
       "    }\n",
       "\n",
       "    .dataframe tbody tr th {\n",
       "        vertical-align: top;\n",
       "    }\n",
       "\n",
       "    .dataframe thead th {\n",
       "        text-align: right;\n",
       "    }\n",
       "</style>\n",
       "<table border=\"1\" class=\"dataframe\">\n",
       "  <thead>\n",
       "    <tr style=\"text-align: right;\">\n",
       "      <th></th>\n",
       "      <th>object_name</th>\n",
       "      <th>number</th>\n",
       "    </tr>\n",
       "    <tr>\n",
       "      <th>object_name</th>\n",
       "      <th></th>\n",
       "      <th></th>\n",
       "    </tr>\n",
       "  </thead>\n",
       "  <tbody>\n",
       "    <tr>\n",
       "      <th>beverly hills diner</th>\n",
       "      <td>1</td>\n",
       "      <td>88.0</td>\n",
       "    </tr>\n",
       "    <tr>\n",
       "      <th>bierloga</th>\n",
       "      <td>1</td>\n",
       "      <td>75.0</td>\n",
       "    </tr>\n",
       "    <tr>\n",
       "      <th>black &amp; white</th>\n",
       "      <td>1</td>\n",
       "      <td>40.0</td>\n",
       "    </tr>\n",
       "    <tr>\n",
       "      <th>bocconcino</th>\n",
       "      <td>3</td>\n",
       "      <td>67.0</td>\n",
       "    </tr>\n",
       "    <tr>\n",
       "      <th>boobo</th>\n",
       "      <td>1</td>\n",
       "      <td>46.0</td>\n",
       "    </tr>\n",
       "  </tbody>\n",
       "</table>\n",
       "</div>"
      ],
      "text/plain": [
       "                     object_name  number\n",
       "object_name                             \n",
       "beverly hills diner  1            88.0  \n",
       "bierloga             1            75.0  \n",
       "black & white        1            40.0  \n",
       "bocconcino           3            67.0  \n",
       "boobo                1            46.0  "
      ]
     },
     "execution_count": 28,
     "metadata": {},
     "output_type": "execute_result"
    }
   ],
   "source": [
    "count_object_chain.head()"
   ]
  },
  {
   "cell_type": "code",
   "execution_count": 29,
   "metadata": {},
   "outputs": [
    {
     "data": {
      "text/plain": [
       "<Figure size 1080x504 with 0 Axes>"
      ]
     },
     "metadata": {},
     "output_type": "display_data"
    },
    {
     "data": {
      "image/png": "[encoded data removed]",
      "text/plain": [
       "<Figure size 432x432 with 3 Axes>"
      ]
     },
     "metadata": {},
     "output_type": "display_data"
    }
   ],
   "source": [
    "# нарисуем график\n",
    "plt.figure(figsize=(15, 7))\n",
    "ax = sns.jointplot(x='object_name', y='number', data=count_object_chain, kind='reg', color='green',\\\n",
    "              height=6, space=0.5, dropna=True, xlim=(0, 25), ylim=(-10, 200))\n",
    "plt.xlabel('Количество заведений')\n",
    "plt.ylabel('Количество посадочных мест')\n",
    "plt.title('Распределение сетевых заведений по количеству заведений и посадочных мест')\n",
    "plt.show();"
   ]
  },
  {
   "cell_type": "markdown",
   "metadata": {},
   "source": [
    "- Для сетевых заведений характерно малое количество заведений с большой посадкой. В основном, сети состоят от двух до десяти заведений, а среднее количество мест от 1 до 100."
   ]
  },
  {
   "cell_type": "code",
   "execution_count": 30,
   "metadata": {},
   "outputs": [],
   "source": [
    "# посчитаем среднее количество посадочных мест для каждого типа заведения общественного питания\n",
    "order_for_barplots = (rest_data.groupby(['object_type'], as_index = False)\n",
    "                      .agg({'number' : 'mean'})\n",
    "                      .sort_values(by = 'number', ascending = False)\n",
    "                      .object_type\n",
    "                      .array)"
   ]
  },
  {
   "cell_type": "code",
   "execution_count": 31,
   "metadata": {},
   "outputs": [
    {
     "data": {
      "image/png": "[encoded data removed]",
      "text/plain": [
       "<Figure size 1080x648 with 1 Axes>"
      ]
     },
     "metadata": {},
     "output_type": "display_data"
    }
   ],
   "source": [
    "# нарисуем график среднего коилчества посадочных мест для типов заведений\n",
    "sns.set(rc={'figure.figsize' : (15, 9)})\n",
    "sns.barplot(x=\"object_type\", y=\"number\", data=rest_data, estimator= np.mean, ci=\"sd\", order=order_for_barplots)\n",
    "plt.xticks(rotation = 45)\n",
    "plt.title('Среднее количество посадочных мест для каждого типа заведений')\n",
    "plt.xlabel('Тип заведения')\n",
    "plt.ylabel('Количество посадочных мест')\n",
    "plt.show();"
   ]
  },
  {
   "cell_type": "markdown",
   "metadata": {},
   "source": [
    "- Наибольшее среднее количество посадочных мест в заведениях типа столовая ~ 140 мест;\n",
    "- На втором месте рестораны - среднее количество мест ~ 100;\n",
    "- Равномерно распределены средние значения количества мест у заведений типа буфет, бар и кафе ~ от 55 до 45 мест;\n",
    "- Наименьшее среднее количество посадочных мест в заведениях типа магазин (отдел кулинарии), закусочная, кафетерий и предприятие быстрого обслуживания."
   ]
  },
  {
   "cell_type": "code",
   "execution_count": 32,
   "metadata": {},
   "outputs": [],
   "source": [
    "# в отдельный столбец вынесу информацию об улице, на которой расположено заведение\n",
    "\n",
    "rest_data['street'] = rest_data.address.str.split(',').str[1].str.strip()\n",
    "\n",
    "# список, чтобы в таблицу попали только улицы\n",
    "streets_names = ['улица','проспект','шоссе','проезд','бульвар','переулок','набережная','площадь','вал','аллея']\n",
    "\n",
    "def get_street(address):\n",
    "    for position in [0,1,2]:\n",
    "        for address_part in address.split(',')[position].split(' '):          \n",
    "            if address_part in streets_names:\n",
    "                street = address.split(', ')[position]\n",
    "                return street\n",
    "            \n",
    "# применим функцию        \n",
    "rest_data['street'] = rest_data['address'].apply(get_street)"
   ]
  },
  {
   "cell_type": "code",
   "execution_count": 33,
   "metadata": {},
   "outputs": [
    {
     "data": {
      "text/html": [
       "<div>\n",
       "<style scoped>\n",
       "    .dataframe tbody tr th:only-of-type {\n",
       "        vertical-align: middle;\n",
       "    }\n",
       "\n",
       "    .dataframe tbody tr th {\n",
       "        vertical-align: top;\n",
       "    }\n",
       "\n",
       "    .dataframe thead th {\n",
       "        text-align: right;\n",
       "    }\n",
       "</style>\n",
       "<table border=\"1\" class=\"dataframe\">\n",
       "  <thead>\n",
       "    <tr style=\"text-align: right;\">\n",
       "      <th></th>\n",
       "      <th>id</th>\n",
       "      <th>object_name</th>\n",
       "      <th>chain</th>\n",
       "      <th>object_type</th>\n",
       "      <th>address</th>\n",
       "      <th>number</th>\n",
       "      <th>street</th>\n",
       "    </tr>\n",
       "  </thead>\n",
       "  <tbody>\n",
       "    <tr>\n",
       "      <th>0</th>\n",
       "      <td>151635</td>\n",
       "      <td>сметана</td>\n",
       "      <td>нет</td>\n",
       "      <td>кафе</td>\n",
       "      <td>город Москва, улица Егора Абакумова, дом 9</td>\n",
       "      <td>48</td>\n",
       "      <td>улица Егора Абакумова</td>\n",
       "    </tr>\n",
       "    <tr>\n",
       "      <th>1</th>\n",
       "      <td>77874</td>\n",
       "      <td>родник</td>\n",
       "      <td>нет</td>\n",
       "      <td>кафе</td>\n",
       "      <td>город Москва, улица Талалихина, дом 2/1, корпус 1</td>\n",
       "      <td>35</td>\n",
       "      <td>улица Талалихина</td>\n",
       "    </tr>\n",
       "    <tr>\n",
       "      <th>2</th>\n",
       "      <td>24309</td>\n",
       "      <td>кафе «академия»</td>\n",
       "      <td>нет</td>\n",
       "      <td>кафе</td>\n",
       "      <td>город Москва, Абельмановская улица, дом 6</td>\n",
       "      <td>95</td>\n",
       "      <td>Абельмановская улица</td>\n",
       "    </tr>\n",
       "    <tr>\n",
       "      <th>3</th>\n",
       "      <td>21894</td>\n",
       "      <td>пиццетория</td>\n",
       "      <td>да</td>\n",
       "      <td>кафе</td>\n",
       "      <td>город Москва, Абрамцевская улица, дом 1</td>\n",
       "      <td>40</td>\n",
       "      <td>Абрамцевская улица</td>\n",
       "    </tr>\n",
       "    <tr>\n",
       "      <th>4</th>\n",
       "      <td>119365</td>\n",
       "      <td>кафе «вишневая метель»</td>\n",
       "      <td>нет</td>\n",
       "      <td>кафе</td>\n",
       "      <td>город Москва, Абрамцевская улица, дом 9, корпус 1</td>\n",
       "      <td>50</td>\n",
       "      <td>Абрамцевская улица</td>\n",
       "    </tr>\n",
       "  </tbody>\n",
       "</table>\n",
       "</div>"
      ],
      "text/plain": [
       "       id             object_name chain object_type  \\\n",
       "0  151635  сметана                 нет   кафе         \n",
       "1  77874   родник                  нет   кафе         \n",
       "2  24309   кафе «академия»         нет   кафе         \n",
       "3  21894   пиццетория              да    кафе         \n",
       "4  119365  кафе «вишневая метель»  нет   кафе         \n",
       "\n",
       "                                             address  number  \\\n",
       "0  город Москва, улица Егора Абакумова, дом 9         48       \n",
       "1  город Москва, улица Талалихина, дом 2/1, корпус 1  35       \n",
       "2  город Москва, Абельмановская улица, дом 6          95       \n",
       "3  город Москва, Абрамцевская улица, дом 1            40       \n",
       "4  город Москва, Абрамцевская улица, дом 9, корпус 1  50       \n",
       "\n",
       "                  street  \n",
       "0  улица Егора Абакумова  \n",
       "1  улица Талалихина       \n",
       "2  Абельмановская улица   \n",
       "3  Абрамцевская улица     \n",
       "4  Абрамцевская улица     "
      ]
     },
     "execution_count": 33,
     "metadata": {},
     "output_type": "execute_result"
    }
   ],
   "source": [
    "# проверим\n",
    "rest_data.head()"
   ]
  },
  {
   "cell_type": "code",
   "execution_count": 34,
   "metadata": {},
   "outputs": [],
   "source": [
    "# достанем для каждой улицы информацию о районе\n",
    "\n",
    "# используем геокодер Яндекса\n",
    "spreadsheet_id = '1aBYE6oewnVsDRqJgAfdNRelYhnhRW9NEN254reT1_04'\n",
    "\n",
    "file_name = 'https://docs.google.com/spreadsheets/d/{}/export?format=csv'.format(spreadsheet_id)\n",
    "\n",
    "r = requests.get(file_name)\n",
    "\n",
    "rest_district = pd.read_csv(BytesIO(r.content))"
   ]
  },
  {
   "cell_type": "code",
   "execution_count": 35,
   "metadata": {},
   "outputs": [
    {
     "data": {
      "text/html": [
       "<div>\n",
       "<style scoped>\n",
       "    .dataframe tbody tr th:only-of-type {\n",
       "        vertical-align: middle;\n",
       "    }\n",
       "\n",
       "    .dataframe tbody tr th {\n",
       "        vertical-align: top;\n",
       "    }\n",
       "\n",
       "    .dataframe thead th {\n",
       "        text-align: right;\n",
       "    }\n",
       "</style>\n",
       "<table border=\"1\" class=\"dataframe\">\n",
       "  <thead>\n",
       "    <tr style=\"text-align: right;\">\n",
       "      <th></th>\n",
       "      <th>id</th>\n",
       "      <th>object_name</th>\n",
       "      <th>chain</th>\n",
       "      <th>object_type</th>\n",
       "      <th>address</th>\n",
       "      <th>number</th>\n",
       "      <th>street</th>\n",
       "      <th>district</th>\n",
       "    </tr>\n",
       "  </thead>\n",
       "  <tbody>\n",
       "    <tr>\n",
       "      <th>0</th>\n",
       "      <td>151635</td>\n",
       "      <td>сметана</td>\n",
       "      <td>нет</td>\n",
       "      <td>кафе</td>\n",
       "      <td>город Москва, улица Егора Абакумова, дом 9</td>\n",
       "      <td>48</td>\n",
       "      <td>улица Егора Абакумова</td>\n",
       "      <td>Ярославский район</td>\n",
       "    </tr>\n",
       "    <tr>\n",
       "      <th>1</th>\n",
       "      <td>77874</td>\n",
       "      <td>родник</td>\n",
       "      <td>нет</td>\n",
       "      <td>кафе</td>\n",
       "      <td>город Москва, улица Талалихина, дом 2/1, корпус 1</td>\n",
       "      <td>35</td>\n",
       "      <td>улица Талалихина</td>\n",
       "      <td>Таганский район</td>\n",
       "    </tr>\n",
       "    <tr>\n",
       "      <th>2</th>\n",
       "      <td>24309</td>\n",
       "      <td>кафе «академия»</td>\n",
       "      <td>нет</td>\n",
       "      <td>кафе</td>\n",
       "      <td>город Москва, Абельмановская улица, дом 6</td>\n",
       "      <td>95</td>\n",
       "      <td>Абельмановская улица</td>\n",
       "      <td>Таганский район</td>\n",
       "    </tr>\n",
       "    <tr>\n",
       "      <th>3</th>\n",
       "      <td>21894</td>\n",
       "      <td>пиццетория</td>\n",
       "      <td>да</td>\n",
       "      <td>кафе</td>\n",
       "      <td>город Москва, Абрамцевская улица, дом 1</td>\n",
       "      <td>40</td>\n",
       "      <td>Абрамцевская улица</td>\n",
       "      <td>район Лианозово</td>\n",
       "    </tr>\n",
       "    <tr>\n",
       "      <th>4</th>\n",
       "      <td>119365</td>\n",
       "      <td>кафе «вишневая метель»</td>\n",
       "      <td>нет</td>\n",
       "      <td>кафе</td>\n",
       "      <td>город Москва, Абрамцевская улица, дом 9, корпус 1</td>\n",
       "      <td>50</td>\n",
       "      <td>Абрамцевская улица</td>\n",
       "      <td>район Лианозово</td>\n",
       "    </tr>\n",
       "  </tbody>\n",
       "</table>\n",
       "</div>"
      ],
      "text/plain": [
       "       id             object_name chain object_type  \\\n",
       "0  151635  сметана                 нет   кафе         \n",
       "1  77874   родник                  нет   кафе         \n",
       "2  24309   кафе «академия»         нет   кафе         \n",
       "3  21894   пиццетория              да    кафе         \n",
       "4  119365  кафе «вишневая метель»  нет   кафе         \n",
       "\n",
       "                                             address  number  \\\n",
       "0  город Москва, улица Егора Абакумова, дом 9         48       \n",
       "1  город Москва, улица Талалихина, дом 2/1, корпус 1  35       \n",
       "2  город Москва, Абельмановская улица, дом 6          95       \n",
       "3  город Москва, Абрамцевская улица, дом 1            40       \n",
       "4  город Москва, Абрамцевская улица, дом 9, корпус 1  50       \n",
       "\n",
       "                  street           district  \n",
       "0  улица Егора Абакумова  Ярославский район  \n",
       "1  улица Талалихина       Таганский район    \n",
       "2  Абельмановская улица   Таганский район    \n",
       "3  Абрамцевская улица     район Лианозово    \n",
       "4  Абрамцевская улица     район Лианозово    "
      ]
     },
     "execution_count": 35,
     "metadata": {},
     "output_type": "execute_result"
    }
   ],
   "source": [
    "# проверим\n",
    "rest_district.head()"
   ]
  },
  {
   "cell_type": "code",
   "execution_count": 36,
   "metadata": {},
   "outputs": [],
   "source": [
    "# добавим столбец в основную таблицу\n",
    "rest_data['district'] = rest_district['district']"
   ]
  },
  {
   "cell_type": "code",
   "execution_count": 37,
   "metadata": {},
   "outputs": [
    {
     "data": {
      "text/html": [
       "<div>\n",
       "<style scoped>\n",
       "    .dataframe tbody tr th:only-of-type {\n",
       "        vertical-align: middle;\n",
       "    }\n",
       "\n",
       "    .dataframe tbody tr th {\n",
       "        vertical-align: top;\n",
       "    }\n",
       "\n",
       "    .dataframe thead th {\n",
       "        text-align: right;\n",
       "    }\n",
       "</style>\n",
       "<table border=\"1\" class=\"dataframe\">\n",
       "  <thead>\n",
       "    <tr style=\"text-align: right;\">\n",
       "      <th></th>\n",
       "      <th>id</th>\n",
       "      <th>object_name</th>\n",
       "      <th>chain</th>\n",
       "      <th>object_type</th>\n",
       "      <th>address</th>\n",
       "      <th>number</th>\n",
       "      <th>street</th>\n",
       "      <th>district</th>\n",
       "    </tr>\n",
       "  </thead>\n",
       "  <tbody>\n",
       "    <tr>\n",
       "      <th>0</th>\n",
       "      <td>151635</td>\n",
       "      <td>сметана</td>\n",
       "      <td>нет</td>\n",
       "      <td>кафе</td>\n",
       "      <td>город Москва, улица Егора Абакумова, дом 9</td>\n",
       "      <td>48</td>\n",
       "      <td>улица Егора Абакумова</td>\n",
       "      <td>Ярославский район</td>\n",
       "    </tr>\n",
       "    <tr>\n",
       "      <th>1</th>\n",
       "      <td>77874</td>\n",
       "      <td>родник</td>\n",
       "      <td>нет</td>\n",
       "      <td>кафе</td>\n",
       "      <td>город Москва, улица Талалихина, дом 2/1, корпус 1</td>\n",
       "      <td>35</td>\n",
       "      <td>улица Талалихина</td>\n",
       "      <td>Таганский район</td>\n",
       "    </tr>\n",
       "    <tr>\n",
       "      <th>2</th>\n",
       "      <td>24309</td>\n",
       "      <td>кафе «академия»</td>\n",
       "      <td>нет</td>\n",
       "      <td>кафе</td>\n",
       "      <td>город Москва, Абельмановская улица, дом 6</td>\n",
       "      <td>95</td>\n",
       "      <td>Абельмановская улица</td>\n",
       "      <td>Таганский район</td>\n",
       "    </tr>\n",
       "    <tr>\n",
       "      <th>3</th>\n",
       "      <td>21894</td>\n",
       "      <td>пиццетория</td>\n",
       "      <td>да</td>\n",
       "      <td>кафе</td>\n",
       "      <td>город Москва, Абрамцевская улица, дом 1</td>\n",
       "      <td>40</td>\n",
       "      <td>Абрамцевская улица</td>\n",
       "      <td>район Лианозово</td>\n",
       "    </tr>\n",
       "    <tr>\n",
       "      <th>4</th>\n",
       "      <td>119365</td>\n",
       "      <td>кафе «вишневая метель»</td>\n",
       "      <td>нет</td>\n",
       "      <td>кафе</td>\n",
       "      <td>город Москва, Абрамцевская улица, дом 9, корпус 1</td>\n",
       "      <td>50</td>\n",
       "      <td>Абрамцевская улица</td>\n",
       "      <td>район Лианозово</td>\n",
       "    </tr>\n",
       "  </tbody>\n",
       "</table>\n",
       "</div>"
      ],
      "text/plain": [
       "       id             object_name chain object_type  \\\n",
       "0  151635  сметана                 нет   кафе         \n",
       "1  77874   родник                  нет   кафе         \n",
       "2  24309   кафе «академия»         нет   кафе         \n",
       "3  21894   пиццетория              да    кафе         \n",
       "4  119365  кафе «вишневая метель»  нет   кафе         \n",
       "\n",
       "                                             address  number  \\\n",
       "0  город Москва, улица Егора Абакумова, дом 9         48       \n",
       "1  город Москва, улица Талалихина, дом 2/1, корпус 1  35       \n",
       "2  город Москва, Абельмановская улица, дом 6          95       \n",
       "3  город Москва, Абрамцевская улица, дом 1            40       \n",
       "4  город Москва, Абрамцевская улица, дом 9, корпус 1  50       \n",
       "\n",
       "                  street           district  \n",
       "0  улица Егора Абакумова  Ярославский район  \n",
       "1  улица Талалихина       Таганский район    \n",
       "2  Абельмановская улица   Таганский район    \n",
       "3  Абрамцевская улица     район Лианозово    \n",
       "4  Абрамцевская улица     район Лианозово    "
      ]
     },
     "execution_count": 37,
     "metadata": {},
     "output_type": "execute_result"
    }
   ],
   "source": [
    "# проверим\n",
    "rest_data.head()"
   ]
  },
  {
   "cell_type": "code",
   "execution_count": 38,
   "metadata": {},
   "outputs": [],
   "source": [
    "# найдем топ-10 улиц по количеству заведений общественного питания\n",
    "top10_streets = rest_data['street'].value_counts().head(10).index\n",
    "\n",
    "top10_streets = rest_data.query('street in @top10_streets').sort_values(by='street', ascending=False)"
   ]
  },
  {
   "cell_type": "code",
   "execution_count": 39,
   "metadata": {},
   "outputs": [
    {
     "data": {
      "text/plain": [
       "проспект Мира             203\n",
       "Профсоюзная улица         182\n",
       "Ленинградский проспект    172\n",
       "Пресненская набережная    167\n",
       "Варшавское шоссе          165\n",
       "Ленинский проспект        148\n",
       "проспект Вернадского      128\n",
       "Кутузовский проспект      114\n",
       "Каширское шоссе           111\n",
       "Кировоградская улица      108\n",
       "Name: street, dtype: int64"
      ]
     },
     "execution_count": 39,
     "metadata": {},
     "output_type": "execute_result"
    }
   ],
   "source": [
    "# выведем топ-10 улиц\n",
    "top10_streets['street'].value_counts()"
   ]
  },
  {
   "cell_type": "code",
   "execution_count": 40,
   "metadata": {},
   "outputs": [
    {
     "data": {
      "image/png": "[encoded data removed]",
      "text/plain": [
       "<Figure size 1008x576 with 1 Axes>"
      ]
     },
     "metadata": {},
     "output_type": "display_data"
    }
   ],
   "source": [
    "# нарисуем график топ-10 улиц по количеству заведений общественного питания\n",
    "plt.figure(figsize=(14, 8))\n",
    "sns.countplot(x=\"street\", data=top10_streets, order = top10_streets['street'].value_counts().index)\n",
    "plt.xticks(rotation = 45)\n",
    "plt.title('Топ-10 улиц по количеству заведений общественного питания')\n",
    "plt.xlabel('Название улицы')\n",
    "plt.ylabel('Количество заведений')\n",
    "plt.show();"
   ]
  },
  {
   "cell_type": "markdown",
   "metadata": {},
   "source": [
    "- проспект Мира - 203 заведения;\n",
    "- Профсоюзная улица - 182 заведения;\n",
    "- Ленинградский проспект - 172 заведения;\n",
    "- Пресненская набережная - 167 заведений;\n",
    "- Варшавское шоссе - 165 заведений;\n",
    "- Ленинский проспект - 148 заведений;\n",
    "- проспект Вернадского - 128 заведений;\n",
    "- Кутузовский проспект - 114 заведений;\n",
    "- Каширское шоссе - 111 заведений;\n",
    "- Кировоградская улица - 108 заведений.\n",
    "\n",
    "---\n",
    "\n",
    "Больше всего объектов общественного питания расположено на проспекте Мира - 203 заведения, а меньше всего объектов общественного питания расположено Кировоградской улице - 108 заведений."
   ]
  },
  {
   "cell_type": "code",
   "execution_count": 41,
   "metadata": {},
   "outputs": [
    {
     "data": {
      "text/plain": [
       "Московский международный деловой центр Москва-Сити    167\n",
       "район Чертаново Центральное                           90 \n",
       "район Тропарёво-Никулино                              82 \n",
       "Мещанский район                                       63 \n",
       "район Свиблово                                        62 \n",
       "район Дорогомилово                                    61 \n",
       "район Аэропорт                                        61 \n",
       "район Нагатино-Садовники                              55 \n",
       "район Фили-Давыдково                                  53 \n",
       "Алексеевский район                                    50 \n",
       "Name: district, dtype: int64"
      ]
     },
     "execution_count": 41,
     "metadata": {},
     "output_type": "execute_result"
    }
   ],
   "source": [
    "# посмотрим, в каких районах расположены топ-10 улиц по количеству заведений\n",
    "top10_streets['district'].value_counts().head(10)"
   ]
  },
  {
   "cell_type": "markdown",
   "metadata": {},
   "source": [
    "- Московский международный деловой центр Москва-Сити;\n",
    "- район Чертаново Центральное;\n",
    "- район Тропарёво-Никулино;\n",
    "- Мещанский район;\n",
    "- район Свиблово;\n",
    "- район Аэропорт;\n",
    "- район Дорогомилово;\n",
    "- район Нагатино-Садовники;\n",
    "- район Фили-Давыдково;\n",
    "- Алексеевский район."
   ]
  },
  {
   "cell_type": "code",
   "execution_count": 42,
   "metadata": {},
   "outputs": [],
   "source": [
    "# посчитаем, сколько в Москве улиц с одним заведением общественного питания\n",
    "one_streets = rest_data.pivot_table(index=['street'], values = 'object_name', aggfunc = 'count')\\\n",
    ".query('object_name == \"1\"')['object_name'].count()"
   ]
  },
  {
   "cell_type": "code",
   "execution_count": 43,
   "metadata": {},
   "outputs": [
    {
     "name": "stdout",
     "output_type": "stream",
     "text": [
      "В Москве насчитывается 527 улиц с одним заведением общественого питания.\n"
     ]
    }
   ],
   "source": [
    "print('В Москве насчитывается {} улиц с одним заведением общественого питания.'.format(one_streets))"
   ]
  },
  {
   "cell_type": "code",
   "execution_count": 44,
   "metadata": {},
   "outputs": [],
   "source": [
    "# определим, в каких районах больше всего улиц с одним заведением общественного питания\n",
    "one_streets_district = rest_data.pivot_table(index=['street', 'district'], values = 'object_name', aggfunc = 'count')\\\n",
    ".query('object_name == \"1\"')\\\n",
    ".groupby('district').agg({'object_name' : 'count'})\\\n",
    ".sort_values(by='object_name', ascending=False).head(10)"
   ]
  },
  {
   "cell_type": "code",
   "execution_count": 45,
   "metadata": {},
   "outputs": [
    {
     "data": {
      "text/html": [
       "<div>\n",
       "<style scoped>\n",
       "    .dataframe tbody tr th:only-of-type {\n",
       "        vertical-align: middle;\n",
       "    }\n",
       "\n",
       "    .dataframe tbody tr th {\n",
       "        vertical-align: top;\n",
       "    }\n",
       "\n",
       "    .dataframe thead th {\n",
       "        text-align: right;\n",
       "    }\n",
       "</style>\n",
       "<table border=\"1\" class=\"dataframe\">\n",
       "  <thead>\n",
       "    <tr style=\"text-align: right;\">\n",
       "      <th></th>\n",
       "      <th>object_name</th>\n",
       "    </tr>\n",
       "    <tr>\n",
       "      <th>district</th>\n",
       "      <th></th>\n",
       "    </tr>\n",
       "  </thead>\n",
       "  <tbody>\n",
       "    <tr>\n",
       "      <th>Таганский район</th>\n",
       "      <td>27</td>\n",
       "    </tr>\n",
       "    <tr>\n",
       "      <th>Тверской район</th>\n",
       "      <td>23</td>\n",
       "    </tr>\n",
       "    <tr>\n",
       "      <th>Басманный район</th>\n",
       "      <td>23</td>\n",
       "    </tr>\n",
       "    <tr>\n",
       "      <th>район Марьина Роща</th>\n",
       "      <td>19</td>\n",
       "    </tr>\n",
       "    <tr>\n",
       "      <th>Пресненский район</th>\n",
       "      <td>17</td>\n",
       "    </tr>\n",
       "    <tr>\n",
       "      <th>район Богородское</th>\n",
       "      <td>13</td>\n",
       "    </tr>\n",
       "    <tr>\n",
       "      <th>Даниловский район</th>\n",
       "      <td>12</td>\n",
       "    </tr>\n",
       "    <tr>\n",
       "      <th>Мещанский район</th>\n",
       "      <td>12</td>\n",
       "    </tr>\n",
       "    <tr>\n",
       "      <th>район Замоскворечье</th>\n",
       "      <td>12</td>\n",
       "    </tr>\n",
       "    <tr>\n",
       "      <th>район Соколиная Гора</th>\n",
       "      <td>11</td>\n",
       "    </tr>\n",
       "  </tbody>\n",
       "</table>\n",
       "</div>"
      ],
      "text/plain": [
       "                      object_name\n",
       "district                         \n",
       "Таганский район       27         \n",
       "Тверской район        23         \n",
       "Басманный район       23         \n",
       "район Марьина Роща    19         \n",
       "Пресненский район     17         \n",
       "район Богородское     13         \n",
       "Даниловский район     12         \n",
       "Мещанский район       12         \n",
       "район Замоскворечье   12         \n",
       "район Соколиная Гора  11         "
      ]
     },
     "execution_count": 45,
     "metadata": {},
     "output_type": "execute_result"
    }
   ],
   "source": [
    "# выведем\n",
    "one_streets_district"
   ]
  },
  {
   "cell_type": "markdown",
   "metadata": {},
   "source": [
    "#### Улицы с одним объектом общественного питания распределены в районах:\n",
    "- Таганский район - 27 улиц;\n",
    "- Тверской район - 23 улицы;\n",
    "- Басманный район - 23 улицы;\n",
    "- район Марьина Роща - 19 улиц;\n",
    "- Пресненский район - 17 улиц;\n",
    "- район Богородское - 13 улиц;\n",
    "- Даниловский район - 12 улиц;\n",
    "- Мещанский район - 12 улиц;\n",
    "- район Замоскворечье - 12 улиц;\n",
    "- район Соколиная гора - 11 улиц.\n",
    "\n",
    "---\n",
    "\n",
    "Больше всего улиц с одним заведением общественного питания находится в Таганском районе."
   ]
  },
  {
   "cell_type": "code",
   "execution_count": 46,
   "metadata": {},
   "outputs": [
    {
     "data": {
      "image/png": "[encoded data removed]",
      "text/plain": [
       "<Figure size 1080x720 with 1 Axes>"
      ]
     },
     "metadata": {},
     "output_type": "display_data"
    }
   ],
   "source": [
    "# распределение количества посадочных мест для улиц с большим количеством объектов общественного питания\n",
    "\n",
    "top10_streets_rests = pd.merge(left = top10_streets, right=rest_data['street'], on='street', how='left')\n",
    "streets_rests = top10_streets_rests.query('number < 300')\n",
    "\n",
    "# нарисуем график\n",
    "plt.figure(figsize=(15, 10))\n",
    "sns.boxplot(x='number', y='street', data=streets_rests, orient='h')\n",
    "plt.title('Распределение количества посадочных мест для топ-10 улиц по количеству заведений')\n",
    "plt.xlabel('Количество посадочных мест')\n",
    "plt.ylabel('Название улицы')\n",
    "plt.show();"
   ]
  },
  {
   "cell_type": "markdown",
   "metadata": {},
   "source": [
    "- Медианное значение количества посадочных мест для топ-10 улиц распределено в пределах от 20 до 50 мест;\n",
    "- Максимальное значение количества посадочных мест - 200 мест - Кутузовский проспект;\n",
    "- В среднем, аномальные значения для каждой улицы начинаются после 150 посадочных мест."
   ]
  },
  {
   "cell_type": "markdown",
   "metadata": {},
   "source": [
    "### <a id='step4'>Общий вывод</a>"
   ]
  },
  {
   "cell_type": "markdown",
   "metadata": {},
   "source": [
    "- Самую большую долю на рынке общественного питания Москвы занимают заведения типа кафе - они составляют 39.7% от всего рынка - 6071 заведений;\n",
    "- Наименьшую долю на рынке общественного питания Москвы занимают заведения типа магазин (отдел кулинарии) - они составляют 1.8% от всего рынка - 273 заведения;\n",
    "- Несетевые заведения на рынке общественного питания Москвы занимают 80.6% от общего рынка - 12317 заведений;\n",
    "- Сетевые заведения на рынке общественного питания Москвы занимают 19.4% от общего рынка - 2964 заведений;\n",
    "- В основном, сетевое распределение характерно для типов заведений - кафе, предприятия быстрого обслуживания и рестораны;\n",
    "- Для сетевых заведений характерно небольшое количество заведений с большим количеством посадочных мест. В основном, сети состоят от двух до десяти заведений, а среднее количество мест от 1 до 100;\n",
    "- Наибольшее среднее количество посадочных мест в заведениях типа столовая ~ 140 мест.\n",
    "\n",
    "---\n",
    "\n",
    "#### Топ-10 улиц по количеству заведений общественного питания выглядит так:\n",
    "- проспект Мира - 203 заведения;\n",
    "- Профсоюзная улица - 182 заведения;\n",
    "- Ленинградский проспект - 172 заведения;\n",
    "- Пресненская набережная - 167 заведений;\n",
    "- Варшавское шоссе - 165 заведений;\n",
    "- Ленинский проспект - 148 заведений;\n",
    "- проспект Вернадского - 128 заведений;\n",
    "- Кутузовский проспект - 114 заведений;\n",
    "- Каширское шоссе - 111 заведений;\n",
    "- Кировоградская улица - 108 заведений.\n",
    "\n",
    "---\n",
    "\n",
    "#### Топ-10 улиц по количеству заведений общественного питания расположены в следующих районах:\n",
    "- Московский международный деловой центр Москва-Сити;\n",
    "- район Чертаново Центральное;\n",
    "- район Тропарёво-Никулино;\n",
    "- Мещанский район;\n",
    "- район Свиблово;\n",
    "- район Аэропорт;\n",
    "- район Дорогомилово;\n",
    "- район Нагатино-Садовники;\n",
    "- район Фили-Давыдково;\n",
    "- Алексеевский район.\n",
    "\n",
    "---\n",
    "\n",
    "#### В Москве 527 улиц с одним объектом общественного питания.\n",
    "\n",
    "---\n",
    "\n",
    "##### Улицы с одним объектом общественного питания расположены в следующих районах:\n",
    "- Таганский район - 27 улиц;\n",
    "- Тверской район - 23 улицы;\n",
    "- Басманный район - 23 улицы;\n",
    "- район Марьина Роща - 19 улиц;\n",
    "- Пресненский район - 17 улиц;\n",
    "- район Богородское - 13 улиц;\n",
    "- Даниловский район - 12 улиц;\n",
    "- Мещанский район - 12 улиц;\n",
    "- район Замоскворечье - 12 улиц;\n",
    "- район Соколиная гора - 11 улиц.\n",
    "\n",
    "---\n",
    "\n",
    "#### Среднее количество посадочных мест для улиц с большим количеством заведений общественного питания составляет от 20 до 50 мест.\n",
    "\n",
    "---\n",
    "\n",
    "#### Рекомендации\n",
    "Наиболее оптимальным вариантом будет открыть заведение типа кафе или ресторан. Стоит выбрать несетевую модель распространения. В заведении должно быть не менее 10, но не более 100 посадочных мест. По-возможности, заведение должно располагаться в одном из трех районов: Московский международный деловой центр Москва-Сити; район Чертаново Центральное или район Тропарёво-Никулино.\n",
    "Возможно, такое распределение на районы может показаться странным, ввиду большого количества заведений общественного питания и их плотности, но также стоит учесть тот момент, что подобные районы притягивают больше всего потенциальных клиентов. При правильно выстроенном маркетинге, есть очень большая вероятность, что наше заведение привлечет большое количество клиентов."
   ]
  }
 ],
 "metadata": {
  "kernelspec": {
   "display_name": "Python 3",
   "language": "python",
   "name": "python3"
  },
  "language_info": {
   "codemirror_mode": {
    "name": "ipython",
    "version": 3
   },
   "file_extension": ".py",
   "mimetype": "text/x-python",
   "name": "python",
   "nbconvert_exporter": "python",
   "pygments_lexer": "ipython3",
   "version": "3.7.6"
  }
 },
 "nbformat": 4,
 "nbformat_minor": 4
}
